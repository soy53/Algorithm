{
 "cells": [
  {
   "cell_type": "markdown",
   "id": "841b3069",
   "metadata": {},
   "source": [
    "## 파이썬 300제(151번 ~ 300번)\n",
    "- [파이썬 300제](https://wikidocs.net/78768)"
   ]
  },
  {
   "cell_type": "markdown",
   "id": "c6207aa2",
   "metadata": {},
   "source": [
    "### #151. 리스트에는 네 개의 정수가 저장돼 있다.\n",
    "\n",
    "> 리스트 = [3, -20, -3, 44]\n",
    "### for문을 사용해서 리스트의 음수를 출력하라.\n",
    "\n",
    ">-20  \n",
    "-3"
   ]
  },
  {
   "cell_type": "code",
   "execution_count": 1,
   "id": "d45c5b45",
   "metadata": {},
   "outputs": [
    {
     "name": "stdout",
     "output_type": "stream",
     "text": [
      "-20\n",
      "-3\n"
     ]
    }
   ],
   "source": [
    "리스트 = [3, -20, -3, 44]\n",
    "for i in 리스트:\n",
    "    if i < 0:\n",
    "        print(i)"
   ]
  },
  {
   "cell_type": "markdown",
   "id": "4db567d0",
   "metadata": {},
   "source": [
    "### #152. for문을 사용해서 3의 배수만을 출력하라.\n",
    "\n",
    "> 리스트 = [3, 100, 23, 44]"
   ]
  },
  {
   "cell_type": "code",
   "execution_count": 2,
   "id": "85d2539f",
   "metadata": {},
   "outputs": [
    {
     "name": "stdout",
     "output_type": "stream",
     "text": [
      "3\n"
     ]
    }
   ],
   "source": [
    "리스트 = [3, 100, 23, 44]\n",
    "for i in 리스트:\n",
    "    if i % 3 == 0:\n",
    "        print(i)"
   ]
  },
  {
   "cell_type": "markdown",
   "id": "639ae5ed",
   "metadata": {},
   "source": [
    "### #153. 리스트에서 20 보다 작은 3의 배수를 출력하라\n",
    "\n",
    "> 리스트 = [13, 21, 12, 14, 30, 18]"
   ]
  },
  {
   "cell_type": "code",
   "execution_count": 3,
   "id": "60d4c1f7",
   "metadata": {},
   "outputs": [
    {
     "name": "stdout",
     "output_type": "stream",
     "text": [
      "12\n",
      "18\n"
     ]
    }
   ],
   "source": [
    "리스트 = [13, 21, 12, 14, 30, 18]\n",
    "for i in 리스트:\n",
    "    if i < 20 and i % 3 == 0:\n",
    "        print(i)"
   ]
  },
  {
   "cell_type": "markdown",
   "id": "f8283010",
   "metadata": {},
   "source": [
    "### #154. 리스트에서 세 글자 이상의 문자를 화면에 출력하라\n",
    "\n",
    "> 리스트 = [\"I\", \"study\", \"python\", \"language\", \"!\"]"
   ]
  },
  {
   "cell_type": "code",
   "execution_count": 4,
   "id": "bb8891b1",
   "metadata": {},
   "outputs": [
    {
     "name": "stdout",
     "output_type": "stream",
     "text": [
      "study\n",
      "python\n",
      "language\n"
     ]
    }
   ],
   "source": [
    "리스트 = [\"I\", \"study\", \"python\", \"language\", \"!\"]\n",
    "for i in 리스트:\n",
    "    if len(i) >= 3:\n",
    "        print(i)"
   ]
  },
  {
   "cell_type": "markdown",
   "id": "e7dc23ed",
   "metadata": {},
   "source": [
    "### #155. 리스트에서 대문자만 화면에 출력하라.\n",
    "\n",
    "> 리스트 = [\"A\", \"b\", \"c\", \"D\"]"
   ]
  },
  {
   "cell_type": "code",
   "execution_count": 5,
   "id": "02144e13",
   "metadata": {},
   "outputs": [
    {
     "name": "stdout",
     "output_type": "stream",
     "text": [
      "A\n",
      "D\n"
     ]
    }
   ],
   "source": [
    "리스트 = [\"A\", \"b\", \"c\", \"D\"]\n",
    "for i in 리스트:\n",
    "    if i.isupper() == True:\n",
    "        print(i)"
   ]
  },
  {
   "cell_type": "markdown",
   "id": "9c064252",
   "metadata": {},
   "source": [
    "### #156. 리스트에서 소문자만 화면에 출력하라.\n",
    "\n",
    "> 리스트 = [\"A\", \"b\", \"c\", \"D\"]"
   ]
  },
  {
   "cell_type": "code",
   "execution_count": 6,
   "id": "7f033440",
   "metadata": {},
   "outputs": [
    {
     "name": "stdout",
     "output_type": "stream",
     "text": [
      "b\n",
      "c\n"
     ]
    }
   ],
   "source": [
    "리스트 = [\"A\", \"b\", \"c\", \"D\"]\n",
    "for i in 리스트:\n",
    "    if i.isupper() == False:\n",
    "        print(i)"
   ]
  },
  {
   "cell_type": "markdown",
   "id": "b426f426",
   "metadata": {},
   "source": [
    "### #157. 이름의 첫 글자를 대문자로 변경해서 출력하라.\n",
    "\n",
    "> 리스트 = ['dog', 'cat', 'parrot']"
   ]
  },
  {
   "cell_type": "code",
   "execution_count": 9,
   "id": "a04975d0",
   "metadata": {},
   "outputs": [
    {
     "name": "stdout",
     "output_type": "stream",
     "text": [
      "Dog\n",
      "Cat\n",
      "Parrot\n"
     ]
    }
   ],
   "source": [
    "리스트 = ['dog', 'cat', 'parrot']\n",
    "for i in 리스트:\n",
    "    print(i[0].upper() + i[1:])"
   ]
  },
  {
   "cell_type": "markdown",
   "id": "4c5843d4",
   "metadata": {},
   "source": [
    "### #158. 파일 이름이 저장된 리스트에서 확장자를 제거하고 파일 이름만 화면에 출력하라. (힌트: split() 메서드)\n",
    "\n",
    "> 리스트 = ['hello.py', 'ex01.py', 'intro.hwp']"
   ]
  },
  {
   "cell_type": "code",
   "execution_count": 11,
   "id": "ecb43cfa",
   "metadata": {},
   "outputs": [
    {
     "name": "stdout",
     "output_type": "stream",
     "text": [
      "hello\n",
      "ex01\n",
      "intro\n"
     ]
    }
   ],
   "source": [
    "리스트 = ['hello.py', 'ex01.py', 'intro.hwp']\n",
    "for i in 리스트:\n",
    "    print(i.split(\".\")[0])"
   ]
  },
  {
   "cell_type": "markdown",
   "id": "e65d8b7d",
   "metadata": {},
   "source": [
    "### #159. 파일 이름이 저장된 리스트에서 확장자가 .h인 파일 이름을 출력하라.\n",
    "\n",
    "> 리스트 = ['intra.h', 'intra.c', 'define.h', 'run.py']"
   ]
  },
  {
   "cell_type": "code",
   "execution_count": 12,
   "id": "db28f9fd",
   "metadata": {},
   "outputs": [
    {
     "name": "stdout",
     "output_type": "stream",
     "text": [
      "intra.h\n",
      "define.h\n"
     ]
    }
   ],
   "source": [
    "리스트 = ['intra.h', 'intra.c', 'define.h', 'run.py']\n",
    "for i in 리스트:\n",
    "    if i.split(\".\")[1] == \"h\":\n",
    "        print(i)"
   ]
  },
  {
   "cell_type": "markdown",
   "id": "c7190383",
   "metadata": {},
   "source": [
    "### #160. 파일 이름이 저장된 리스트에서 확장자가 .h나 .c인 파일을 화면에 출력하라.\n",
    "\n",
    "> 리스트 = ['intra.h', 'intra.c', 'define.h', 'run.py']"
   ]
  },
  {
   "cell_type": "code",
   "execution_count": 13,
   "id": "6aa642e9",
   "metadata": {},
   "outputs": [
    {
     "name": "stdout",
     "output_type": "stream",
     "text": [
      "intra.h\n",
      "intra.c\n",
      "define.h\n"
     ]
    }
   ],
   "source": [
    "리스트 = ['intra.h', 'intra.c', 'define.h', 'run.py']\n",
    "for i in 리스트:\n",
    "    split = i.split(\".\")\n",
    "    if split[1] == \"h\" or split[1] == \"c\":\n",
    "        print(i)"
   ]
  },
  {
   "cell_type": "markdown",
   "id": "4b95c57c",
   "metadata": {},
   "source": [
    "### #161. for문과 range 구문을 사용해서 0~99까지 한 라인에 하나씩 순차적으로 출력하는 프로그램을 작성하라."
   ]
  },
  {
   "cell_type": "code",
   "execution_count": 14,
   "id": "de8ffd4e",
   "metadata": {
    "scrolled": true
   },
   "outputs": [
    {
     "name": "stdout",
     "output_type": "stream",
     "text": [
      "0\n",
      "1\n",
      "2\n",
      "3\n",
      "4\n",
      "5\n",
      "6\n",
      "7\n",
      "8\n",
      "9\n",
      "10\n",
      "11\n",
      "12\n",
      "13\n",
      "14\n",
      "15\n",
      "16\n",
      "17\n",
      "18\n",
      "19\n",
      "20\n",
      "21\n",
      "22\n",
      "23\n",
      "24\n",
      "25\n",
      "26\n",
      "27\n",
      "28\n",
      "29\n",
      "30\n",
      "31\n",
      "32\n",
      "33\n",
      "34\n",
      "35\n",
      "36\n",
      "37\n",
      "38\n",
      "39\n",
      "40\n",
      "41\n",
      "42\n",
      "43\n",
      "44\n",
      "45\n",
      "46\n",
      "47\n",
      "48\n",
      "49\n",
      "50\n",
      "51\n",
      "52\n",
      "53\n",
      "54\n",
      "55\n",
      "56\n",
      "57\n",
      "58\n",
      "59\n",
      "60\n",
      "61\n",
      "62\n",
      "63\n",
      "64\n",
      "65\n",
      "66\n",
      "67\n",
      "68\n",
      "69\n",
      "70\n",
      "71\n",
      "72\n",
      "73\n",
      "74\n",
      "75\n",
      "76\n",
      "77\n",
      "78\n",
      "79\n",
      "80\n",
      "81\n",
      "82\n",
      "83\n",
      "84\n",
      "85\n",
      "86\n",
      "87\n",
      "88\n",
      "89\n",
      "90\n",
      "91\n",
      "92\n",
      "93\n",
      "94\n",
      "95\n",
      "96\n",
      "97\n",
      "98\n",
      "99\n"
     ]
    }
   ],
   "source": [
    "for i in range(100):\n",
    "    print(i)"
   ]
  },
  {
   "cell_type": "markdown",
   "id": "972fa6df",
   "metadata": {},
   "source": [
    "### #162. 월드컵은 4년에 한 번 개최된다. range()를 사용하여 2002~2050년까지 중 월드컵이 개최되는 연도를 출력하라."
   ]
  },
  {
   "cell_type": "code",
   "execution_count": 15,
   "id": "c4e58e6d",
   "metadata": {},
   "outputs": [
    {
     "name": "stdout",
     "output_type": "stream",
     "text": [
      "2002\n",
      "2006\n",
      "2010\n",
      "2014\n",
      "2018\n",
      "2022\n",
      "2026\n",
      "2030\n",
      "2034\n",
      "2038\n",
      "2042\n",
      "2046\n",
      "2050\n"
     ]
    }
   ],
   "source": [
    "for i in range(2002, 2051, 4):\n",
    "    print(i)"
   ]
  },
  {
   "cell_type": "markdown",
   "id": "de626309",
   "metadata": {},
   "source": [
    "### #163. 1부터 30까지의 숫자 중 3의 배수를 출력하라."
   ]
  },
  {
   "cell_type": "code",
   "execution_count": 18,
   "id": "f7f16de8",
   "metadata": {},
   "outputs": [
    {
     "name": "stdout",
     "output_type": "stream",
     "text": [
      "3\n",
      "6\n",
      "9\n",
      "12\n",
      "15\n",
      "18\n",
      "21\n",
      "24\n",
      "27\n",
      "30\n"
     ]
    }
   ],
   "source": [
    "for i in range(3, 31, 3):\n",
    "    print(i)"
   ]
  },
  {
   "cell_type": "markdown",
   "id": "6a522ca8",
   "metadata": {},
   "source": [
    "### #164. 99부터 0까지 1씩 감소하는 숫자들을, 한 라인에 하나씩 출력하라."
   ]
  },
  {
   "cell_type": "code",
   "execution_count": 21,
   "id": "a39da6a0",
   "metadata": {
    "scrolled": true
   },
   "outputs": [
    {
     "name": "stdout",
     "output_type": "stream",
     "text": [
      "99\n",
      "98\n",
      "97\n",
      "96\n",
      "95\n",
      "94\n",
      "93\n",
      "92\n",
      "91\n",
      "90\n",
      "89\n",
      "88\n",
      "87\n",
      "86\n",
      "85\n",
      "84\n",
      "83\n",
      "82\n",
      "81\n",
      "80\n",
      "79\n",
      "78\n",
      "77\n",
      "76\n",
      "75\n",
      "74\n",
      "73\n",
      "72\n",
      "71\n",
      "70\n",
      "69\n",
      "68\n",
      "67\n",
      "66\n",
      "65\n",
      "64\n",
      "63\n",
      "62\n",
      "61\n",
      "60\n",
      "59\n",
      "58\n",
      "57\n",
      "56\n",
      "55\n",
      "54\n",
      "53\n",
      "52\n",
      "51\n",
      "50\n",
      "49\n",
      "48\n",
      "47\n",
      "46\n",
      "45\n",
      "44\n",
      "43\n",
      "42\n",
      "41\n",
      "40\n",
      "39\n",
      "38\n",
      "37\n",
      "36\n",
      "35\n",
      "34\n",
      "33\n",
      "32\n",
      "31\n",
      "30\n",
      "29\n",
      "28\n",
      "27\n",
      "26\n",
      "25\n",
      "24\n",
      "23\n",
      "22\n",
      "21\n",
      "20\n",
      "19\n",
      "18\n",
      "17\n",
      "16\n",
      "15\n",
      "14\n",
      "13\n",
      "12\n",
      "11\n",
      "10\n",
      "9\n",
      "8\n",
      "7\n",
      "6\n",
      "5\n",
      "4\n",
      "3\n",
      "2\n",
      "1\n",
      "0\n"
     ]
    }
   ],
   "source": [
    "for i in range(100):\n",
    "    print(99 - i)"
   ]
  },
  {
   "cell_type": "markdown",
   "id": "ca8aca97",
   "metadata": {},
   "source": [
    "### #165. for문을 사용해서 아래와 같이 출력하라.\n",
    "\n",
    "> 0.0  \n",
    "0.1  \n",
    "0.2  \n",
    "0.3  \n",
    "0.4  \n",
    "0.5  \n",
    "...  \n",
    "0.9  "
   ]
  },
  {
   "cell_type": "code",
   "execution_count": 23,
   "id": "6011038a",
   "metadata": {},
   "outputs": [
    {
     "name": "stdout",
     "output_type": "stream",
     "text": [
      "0.0\n",
      "0.1\n",
      "0.2\n",
      "0.3\n",
      "0.4\n",
      "0.5\n",
      "0.6\n",
      "0.7\n",
      "0.8\n",
      "0.9\n"
     ]
    }
   ],
   "source": [
    "for i in range(10):\n",
    "    print(i / 10)"
   ]
  },
  {
   "cell_type": "markdown",
   "id": "b91d896e",
   "metadata": {},
   "source": [
    "### #166. 구구단 3단을 출력하라."
   ]
  },
  {
   "cell_type": "code",
   "execution_count": 24,
   "id": "3925a74a",
   "metadata": {},
   "outputs": [
    {
     "name": "stdout",
     "output_type": "stream",
     "text": [
      "3 x 1 = 3\n",
      "3 x 2 = 6\n",
      "3 x 3 = 9\n",
      "3 x 4 = 12\n",
      "3 x 5 = 15\n",
      "3 x 6 = 18\n",
      "3 x 7 = 21\n",
      "3 x 8 = 24\n",
      "3 x 9 = 27\n"
     ]
    }
   ],
   "source": [
    "for i in range(1, 10):\n",
    "    print(\"3 x\", i, \"=\", 3 * i)"
   ]
  },
  {
   "cell_type": "markdown",
   "id": "67b9502c",
   "metadata": {},
   "source": [
    "### #167. 구구단 3단을 출력하라. 단 홀수 번째만 출력한다."
   ]
  },
  {
   "cell_type": "code",
   "execution_count": 25,
   "id": "e1396551",
   "metadata": {},
   "outputs": [
    {
     "name": "stdout",
     "output_type": "stream",
     "text": [
      "3 x 1 = 3\n",
      "3 x 3 = 9\n",
      "3 x 5 = 15\n",
      "3 x 7 = 21\n",
      "3 x 9 = 27\n"
     ]
    }
   ],
   "source": [
    "for i in range(1, 10, 2):\n",
    "    print(\"3 x\", i, \"=\", 3 * i)"
   ]
  },
  {
   "cell_type": "markdown",
   "id": "ba7244bb",
   "metadata": {},
   "source": [
    "### #168. 1~10까지의 숫자에 대해 모두 더한 값을 출력하는 프로그램을 for 문을 사용하여 작성하라."
   ]
  },
  {
   "cell_type": "code",
   "execution_count": 27,
   "id": "0fd1c8a0",
   "metadata": {},
   "outputs": [
    {
     "name": "stdout",
     "output_type": "stream",
     "text": [
      "합 : 55\n"
     ]
    }
   ],
   "source": [
    "k = 0\n",
    "for i in range(1, 11):\n",
    "    k += i\n",
    "print(\"합 :\", k)"
   ]
  },
  {
   "cell_type": "markdown",
   "id": "78bb1c7e",
   "metadata": {},
   "source": [
    "### #169. 1~10까지의 숫자 중 모든 홀수의 합을 출력하는 프로그램을 for 문을 사용하여 작성하라."
   ]
  },
  {
   "cell_type": "code",
   "execution_count": 28,
   "id": "b3d6fb83",
   "metadata": {},
   "outputs": [
    {
     "name": "stdout",
     "output_type": "stream",
     "text": [
      "합 : 25\n"
     ]
    }
   ],
   "source": [
    "k = 0\n",
    "for i in range(1, 11, 2):\n",
    "    k += i\n",
    "print(\"합 :\", k)"
   ]
  },
  {
   "cell_type": "markdown",
   "id": "ab66518c",
   "metadata": {},
   "source": [
    "### #170. 1~10까지의 숫자를 모두 곱한 값을 출력하는 프로그램을 for 문을 사용하여 작성하라."
   ]
  },
  {
   "cell_type": "code",
   "execution_count": 29,
   "id": "cb95a497",
   "metadata": {},
   "outputs": [
    {
     "name": "stdout",
     "output_type": "stream",
     "text": [
      "3628800\n"
     ]
    }
   ],
   "source": [
    "k = 1\n",
    "for i in range(1, 11):\n",
    "    k *= i\n",
    "print(k)"
   ]
  },
  {
   "cell_type": "markdown",
   "id": "fa480034",
   "metadata": {},
   "source": [
    "### #171. 아래와 같이 리스트의 데이터를 출력하라. 단, for문과 range문을 사용하라.\n",
    "\n",
    "> price_list = [32100, 32150, 32000, 32500]\n",
    "\n",
    ">32100  \n",
    "32150  \n",
    "32000  \n",
    "32500  "
   ]
  },
  {
   "cell_type": "code",
   "execution_count": 30,
   "id": "ecd72944",
   "metadata": {},
   "outputs": [
    {
     "name": "stdout",
     "output_type": "stream",
     "text": [
      "32100\n",
      "32150\n",
      "32000\n",
      "32500\n"
     ]
    }
   ],
   "source": [
    "price_list = [32100, 32150, 32000, 32500]\n",
    "for i in range(4):\n",
    "    print(price_list[i])"
   ]
  },
  {
   "cell_type": "markdown",
   "id": "1881723c",
   "metadata": {},
   "source": [
    "### #172. 아래와 같이 리스트의 데이터를 출력하라. 단, for문과 range문을 사용하라.\n",
    "\n",
    "> price_list = [32100, 32150, 32000, 32500]\n",
    "\n",
    ">0 32100  \n",
    "1 32150  \n",
    "2 32000  \n",
    "3 32500"
   ]
  },
  {
   "cell_type": "code",
   "execution_count": 31,
   "id": "7ff5acc6",
   "metadata": {},
   "outputs": [
    {
     "name": "stdout",
     "output_type": "stream",
     "text": [
      "0 32100\n",
      "1 32150\n",
      "2 32000\n",
      "3 32500\n"
     ]
    }
   ],
   "source": [
    "price_list = [32100, 32150, 32000, 32500]\n",
    "for i in range(4):\n",
    "    print(i, price_list[i])"
   ]
  },
  {
   "cell_type": "markdown",
   "id": "d790b87a",
   "metadata": {},
   "source": [
    "### #173. 아래와 같이 리스트의 데이터를 출력하라. 단, for문과 range문을 사용하라.\n",
    "\n",
    "> price_list = [32100, 32150, 32000, 32500]\n",
    "\n",
    ">3 32100  \n",
    "2 32150  \n",
    "1 32000  \n",
    "0 32500  "
   ]
  },
  {
   "cell_type": "code",
   "execution_count": 32,
   "id": "3dc66eb4",
   "metadata": {},
   "outputs": [
    {
     "name": "stdout",
     "output_type": "stream",
     "text": [
      "3 32100\n",
      "2 32150\n",
      "1 32000\n",
      "0 32500\n"
     ]
    }
   ],
   "source": [
    "price_list = [32100, 32150, 32000, 32500]\n",
    "for i in range(4):                # 4라는 숫자 대신 len(price_list)을 사용하는 것이 더 좋다.\n",
    "    print(3 - i, price_list[i])"
   ]
  },
  {
   "cell_type": "markdown",
   "id": "5fb66219",
   "metadata": {},
   "source": [
    "### #174. 아래와 같이 리스트의 데이터를 출력하라. 단, for문과 range문을 사용하라.\n",
    "\n",
    "> price_list = [32100, 32150, 32000, 32500]\n",
    "\n",
    ">100 32150  \n",
    "110 32000  \n",
    "120 32500"
   ]
  },
  {
   "cell_type": "code",
   "execution_count": 34,
   "id": "be64b417",
   "metadata": {},
   "outputs": [
    {
     "name": "stdout",
     "output_type": "stream",
     "text": [
      "100 32150\n",
      "110 32000\n",
      "120 32500\n"
     ]
    }
   ],
   "source": [
    "price_list = [32100, 32150, 32000, 32500]\n",
    "for i in range(1, 4):\n",
    "    print(100 + 10 * (i - 1), price_list[i])"
   ]
  },
  {
   "cell_type": "markdown",
   "id": "bd13c514",
   "metadata": {},
   "source": [
    "### #175. my_list를 아래와 같이 출력하라.\n",
    "\n",
    "> my_list = [\"가\", \"나\", \"다\", \"라\"]\n",
    "\n",
    ">가 나  \n",
    "나 다  \n",
    "다 라"
   ]
  },
  {
   "cell_type": "code",
   "execution_count": 35,
   "id": "75fbf956",
   "metadata": {},
   "outputs": [
    {
     "name": "stdout",
     "output_type": "stream",
     "text": [
      "가 나\n",
      "나 다\n",
      "다 라\n"
     ]
    }
   ],
   "source": [
    "my_list = [\"가\", \"나\", \"다\", \"라\"]\n",
    "for i in range(3):\n",
    "    print(my_list[i], my_list[i + 1])"
   ]
  },
  {
   "cell_type": "markdown",
   "id": "13e5f57e",
   "metadata": {},
   "source": [
    "### #176. 리스트를 아래와 같이 출력하라.\n",
    "\n",
    "> my_list = [\"가\", \"나\", \"다\", \"라\", \"마\"]\n",
    "\n",
    ">가 나 다  \n",
    "나 다 라  \n",
    "다 라 마"
   ]
  },
  {
   "cell_type": "code",
   "execution_count": 37,
   "id": "3b16e6af",
   "metadata": {},
   "outputs": [
    {
     "name": "stdout",
     "output_type": "stream",
     "text": [
      "가 나 다\n",
      "나 다 라\n",
      "다 라 마\n"
     ]
    }
   ],
   "source": [
    "my_list = [\"가\", \"나\", \"다\", \"라\", \"마\"]\n",
    "for i in range(3):\n",
    "    print(my_list[i], my_list[i + 1], my_list[i + 2])"
   ]
  },
  {
   "cell_type": "markdown",
   "id": "5b8b2072",
   "metadata": {},
   "source": [
    "### #177. 반복문과 range 함수를 사용해서 my_list를 아래와 같이 출력하라.\n",
    "\n",
    ">my_list = [\"가\", \"나\", \"다\", \"라\"]\n",
    "\n",
    ">라 다  \n",
    "다 나  \n",
    "나 가"
   ]
  },
  {
   "cell_type": "code",
   "execution_count": 38,
   "id": "a814c245",
   "metadata": {},
   "outputs": [
    {
     "name": "stdout",
     "output_type": "stream",
     "text": [
      "라 다\n",
      "다 나\n",
      "나 가\n"
     ]
    }
   ],
   "source": [
    "my_list = [\"가\", \"나\", \"다\", \"라\"]\n",
    "for i in range(3):\n",
    "    print(my_list[3 - i], my_list[2 - i])"
   ]
  },
  {
   "cell_type": "markdown",
   "id": "9cbb0479",
   "metadata": {},
   "source": [
    "### #178. 리스트에는 네 개의 정수가 저장되어 있다. 각각의 데이터에 대해서 자신과 우측값과의 차분값을 화면에 출력하라.\n",
    "\n",
    "> my_list = [100, 200, 400, 800]\n",
    "### 예를들어 100을 기준으로 우측에 위치한 200과의 차분 값를 화면에 출력하고, 200을 기준으로 우측에 위치한 400과의 차분값을 화면에 출력한다. 이어서 400을 기준으로 우측에 위치한 800과의 차분값을 화면에 출력한다.\n",
    "\n",
    "> 100  \n",
    "200  \n",
    "400  "
   ]
  },
  {
   "cell_type": "code",
   "execution_count": 39,
   "id": "0235205d",
   "metadata": {},
   "outputs": [
    {
     "name": "stdout",
     "output_type": "stream",
     "text": [
      "100\n",
      "200\n",
      "400\n"
     ]
    }
   ],
   "source": [
    "my_list = [100, 200, 400, 800]\n",
    "for i in range(3):\n",
    "    print(my_list[i + 1] - my_list[i])"
   ]
  },
  {
   "cell_type": "markdown",
   "id": "85399553",
   "metadata": {},
   "source": [
    "### #179. 리스트에는 6일 간의 종가 데이터가 저장되어 있다. 종가 데이터의 3일 이동 평균을 계산하고 이를 화면에 출력하라.\n",
    "\n",
    "> my_list = [100, 200, 400, 800, 1000, 1300]\n",
    "### 첫 번째 줄에는 100, 200, 400의 평균값이 출력된다. 두 번째 줄에는 200, 400, 800의 평균값이 출력된다. 같은 방식으로 나머지 데이터의 평균을 출력한다.\n",
    "\n",
    ">233.33333333333334  \n",
    "466.6666666666667  \n",
    "733.3333333333334  \n",
    "1033.3333333333333"
   ]
  },
  {
   "cell_type": "code",
   "execution_count": 40,
   "id": "58661f61",
   "metadata": {},
   "outputs": [
    {
     "name": "stdout",
     "output_type": "stream",
     "text": [
      "233.33333333333334\n",
      "466.6666666666667\n",
      "733.3333333333334\n",
      "1033.3333333333333\n"
     ]
    }
   ],
   "source": [
    "my_list = [100, 200, 400, 800, 1000, 1300]\n",
    "for i in range(4):\n",
    "    print((my_list[i] + my_list[i + 1] + my_list[i + 2]) / 3)"
   ]
  },
  {
   "cell_type": "markdown",
   "id": "6ce261f0",
   "metadata": {},
   "source": [
    "### #180. 리스트에 5일간의 저가, 고가 정보가 저장돼 있다. 고가와 저가의 차를 변동폭이라고 정의할 때, low, high 두 개의 리스트를 사용해서 5일간의 변동폭을 volatility 리스트에 저장하라.\n",
    "\n",
    ">low_prices  = [100, 200, 400, 800, 1000]  \n",
    "high_prices = [150, 300, 430, 880, 1000]"
   ]
  },
  {
   "cell_type": "code",
   "execution_count": 41,
   "id": "8e554963",
   "metadata": {},
   "outputs": [
    {
     "name": "stdout",
     "output_type": "stream",
     "text": [
      "[50, 100, 30, 80, 0]\n"
     ]
    }
   ],
   "source": [
    "low_prices = [100, 200, 400, 800, 1000]\n",
    "high_prices = [150, 300, 430, 880, 1000]\n",
    "\n",
    "volatility = []\n",
    "for i in range(5):\n",
    "    k = high_prices[i] - low_prices[i]\n",
    "    volatility.append(k)\n",
    "print(volatility)"
   ]
  },
  {
   "cell_type": "markdown",
   "id": "f21832ed",
   "metadata": {},
   "source": [
    "### #181. 아래 표에서 하나의 행을 하나의 리스트로, 총 3개의 리스트를 갖는 이차원 리스트 apart를 정의하라.\n",
    "\n",
    ">101호\t102호  \n",
    ">201호\t202호  \n",
    ">301호\t302호"
   ]
  },
  {
   "cell_type": "code",
   "execution_count": 1,
   "id": "f21ee814",
   "metadata": {},
   "outputs": [
    {
     "data": {
      "text/plain": [
       "[['101호', '102호'], ['201호', '202호'], ['301호', '302호']]"
      ]
     },
     "execution_count": 1,
     "metadata": {},
     "output_type": "execute_result"
    }
   ],
   "source": [
    "apart = [[\"101호\", \"102호\"], [\"201호\", '202호'], [\"301호\", \"302호\"]]\n",
    "apart"
   ]
  },
  {
   "cell_type": "markdown",
   "id": "42f6beca",
   "metadata": {},
   "source": [
    "### #182. 아래 표에서 하나의 열을 하나의 리스트로, 총 2개의 리스트를 갖는 이차원 리스트 stock을 정의하라.\n",
    "\n",
    ">시가\t종가  \n",
    "100\t80  \n",
    "200\t210  \n",
    "300\t330  "
   ]
  },
  {
   "cell_type": "code",
   "execution_count": 2,
   "id": "e42ebac8",
   "metadata": {},
   "outputs": [
    {
     "data": {
      "text/plain": [
       "[['시가', '100', '200', '300'], ['종가', '80', '210', '330']]"
      ]
     },
     "execution_count": 2,
     "metadata": {},
     "output_type": "execute_result"
    }
   ],
   "source": [
    "stock = [[\"시가\", \"100\", \"200\", \"300\"], [\"종가\", \"80\", \"210\", \"330\"]]\n",
    "stock"
   ]
  },
  {
   "cell_type": "markdown",
   "id": "1ddda84a",
   "metadata": {},
   "source": [
    "### #183. 아래 표를 stock 이름의 딕셔너리로 표현하라.시가를 key로 저장하고, 나머지 같은 열의 데이터를 리스트로 저장해서 value로 저장한다. 종가 역시 key로 저장하고 나머지 같은 열의 데이터를 리스트로 저장해서 value로 저장한다.\n",
    "\n",
    ">시가\t종가  \n",
    "100\t80  \n",
    "200\t210  \n",
    "300\t330  "
   ]
  },
  {
   "cell_type": "code",
   "execution_count": 4,
   "id": "3e638414",
   "metadata": {},
   "outputs": [],
   "source": [
    "stock = {\"시가\" : [100, 200, 300], \"종가\" : [80, 210, 330]}"
   ]
  },
  {
   "cell_type": "markdown",
   "id": "77e29d30",
   "metadata": {},
   "source": [
    "### #184. 아래 표를 stock 이라는 이름의 딕셔너리로 표현하라. 날짜를 key로 저장하고, 나머지 같은 행의 데이터를 리스트로 저장해서 value로 저장한다. 첫 열이 날짜이다.\n",
    "\n",
    ">10/10\t80\t110\t70\t90  \n",
    "10/11\t210\t230\t190\t200  "
   ]
  },
  {
   "cell_type": "code",
   "execution_count": 3,
   "id": "6b5cddb7",
   "metadata": {},
   "outputs": [],
   "source": [
    "stock = {\"10/10\" : [80, 110, 70, 90], \"10/11\" : [210, 230, 190, 200]}"
   ]
  },
  {
   "cell_type": "markdown",
   "id": "8ac2ac82",
   "metadata": {},
   "source": [
    "### #185. 리스트에 저장된 데이터를 아래와 같이 출력하라.\n",
    "\n",
    ">apart = [ [101, 102], [201, 202], [301, 302] ]\n",
    "\n",
    ">101 호  \n",
    "102 호  \n",
    "201 호  \n",
    "202 호  \n",
    "301 호  \n",
    "302 호"
   ]
  },
  {
   "cell_type": "code",
   "execution_count": 7,
   "id": "bbe59c50",
   "metadata": {},
   "outputs": [
    {
     "name": "stdout",
     "output_type": "stream",
     "text": [
      "101 호\n",
      "102 호\n",
      "201 호\n",
      "202 호\n",
      "301 호\n",
      "302 호\n"
     ]
    }
   ],
   "source": [
    "apart = [ [101, 102], [201, 202], [301, 302] ]\n",
    "for i in apart:\n",
    "    print(i[0], \"호\")\n",
    "    print(i[1], \"호\")"
   ]
  },
  {
   "cell_type": "code",
   "execution_count": 9,
   "id": "894032f0",
   "metadata": {},
   "outputs": [
    {
     "name": "stdout",
     "output_type": "stream",
     "text": [
      "101 호\n",
      "102 호\n",
      "201 호\n",
      "202 호\n",
      "301 호\n",
      "302 호\n"
     ]
    }
   ],
   "source": [
    "# 정답 - 이중 for문을 사용해서 나타낼 수도 있다.\n",
    "for row in apart:\n",
    "    for col in row:\n",
    "        print(col, \"호\")"
   ]
  },
  {
   "cell_type": "markdown",
   "id": "db628e61",
   "metadata": {},
   "source": [
    "### #186. 리스트에 저장된 데이터를 아래와 같이 출력하라.\n",
    "\n",
    "> apart = [ [101, 102], [201, 202], [301, 302] ]\n",
    "\n",
    ">301 호  \n",
    "302 호  \n",
    "201 호  \n",
    "202 호  \n",
    "101 호  \n",
    "102 호"
   ]
  },
  {
   "cell_type": "code",
   "execution_count": 10,
   "id": "d37d4186",
   "metadata": {},
   "outputs": [
    {
     "name": "stdout",
     "output_type": "stream",
     "text": [
      "301 호\n",
      "302 호\n",
      "201 호\n",
      "202 호\n",
      "101 호\n",
      "102 호\n"
     ]
    }
   ],
   "source": [
    "apart = [ [101, 102], [201, 202], [301, 302] ]\n",
    "\n",
    "for i in apart[::-1]:\n",
    "    for k in i:\n",
    "        print(k, \"호\")"
   ]
  },
  {
   "cell_type": "markdown",
   "id": "d14796e6",
   "metadata": {},
   "source": [
    "### #187. 리스트에 저장된 데이터를 아래와 같이 출력하라.\n",
    "\n",
    "> apart = [ [101, 102], [201, 202], [301, 302] ]\n",
    "\n",
    ">302 호  \n",
    "301 호  \n",
    "202 호  \n",
    "201 호  \n",
    "102 호  \n",
    "101 호"
   ]
  },
  {
   "cell_type": "code",
   "execution_count": 11,
   "id": "387a3c3b",
   "metadata": {},
   "outputs": [
    {
     "name": "stdout",
     "output_type": "stream",
     "text": [
      "302 호\n",
      "301 호\n",
      "202 호\n",
      "201 호\n",
      "102 호\n",
      "101 호\n"
     ]
    }
   ],
   "source": [
    "apart = [ [101, 102], [201, 202], [301, 302] ]\n",
    "\n",
    "for i in apart[::-1]:\n",
    "    for k in i[::-1]:\n",
    "        print(k, \"호\")"
   ]
  },
  {
   "cell_type": "markdown",
   "id": "2d456fc6",
   "metadata": {},
   "source": [
    "### #188. 리스트에 저장된 데이터를 아래와 같이 출력하라.\n",
    "\n",
    "> apart = [ [101, 102], [201, 202], [301, 302] ]\n",
    "\n",
    ">101 호  \n",
    "\\-----  \n",
    "102 호  \n",
    "\\-----  \n",
    "201 호  \n",
    "\\-----  \n",
    "202 호  \n",
    "\\-----  \n",
    "301 호  \n",
    "\\-----  \n",
    "302 호  \n",
    "\\-----  "
   ]
  },
  {
   "cell_type": "code",
   "execution_count": 13,
   "id": "c264c0f1",
   "metadata": {},
   "outputs": [
    {
     "name": "stdout",
     "output_type": "stream",
     "text": [
      "101 호\n",
      "-----\n",
      "102 호\n",
      "-----\n",
      "201 호\n",
      "-----\n",
      "202 호\n",
      "-----\n",
      "301 호\n",
      "-----\n",
      "302 호\n",
      "-----\n"
     ]
    }
   ],
   "source": [
    "apart = [ [101, 102], [201, 202], [301, 302] ]\n",
    "\n",
    "for i in apart:\n",
    "    for k in i:\n",
    "        print(k, \"호\")\n",
    "        print(\"-----\")"
   ]
  },
  {
   "cell_type": "markdown",
   "id": "99bf3d4e",
   "metadata": {},
   "source": [
    "### #189. 리스트에 저장된 데이터를 아래와 같이 출력하라.\n",
    "\n",
    "> apart = [ [101, 102], [201, 202], [301, 302] ]\n",
    "\n",
    "> 101 호  \n",
    "102 호  \n",
    "\\-----  \n",
    "201 호  \n",
    "202 호  \n",
    "\\-----  \n",
    "301 호  \n",
    "302 호  \n",
    "\\-----  "
   ]
  },
  {
   "cell_type": "code",
   "execution_count": 14,
   "id": "94535dc4",
   "metadata": {},
   "outputs": [
    {
     "name": "stdout",
     "output_type": "stream",
     "text": [
      "101 호\n",
      "102 호\n",
      "-----\n",
      "201 호\n",
      "202 호\n",
      "-----\n",
      "301 호\n",
      "302 호\n",
      "-----\n"
     ]
    }
   ],
   "source": [
    "apart = [ [101, 102], [201, 202], [301, 302] ]\n",
    "\n",
    "for i in apart:\n",
    "    for k in i:\n",
    "        print(k, \"호\")\n",
    "    print(\"-----\")"
   ]
  },
  {
   "cell_type": "markdown",
   "id": "fbcf38c4",
   "metadata": {},
   "source": [
    "### #190. 리스트에 저장된 데이터를 아래와 같이 출력하라.\n",
    "\n",
    "> apart = [ [101, 102], [201, 202], [301, 302] ]\n",
    "\n",
    ">101 호  \n",
    "102 호  \n",
    "201 호  \n",
    "202 호  \n",
    "301 호  \n",
    "302 호  \n",
    "\\-----\n"
   ]
  },
  {
   "cell_type": "code",
   "execution_count": 15,
   "id": "c3bcf430",
   "metadata": {},
   "outputs": [
    {
     "name": "stdout",
     "output_type": "stream",
     "text": [
      "101 호\n",
      "102 호\n",
      "201 호\n",
      "202 호\n",
      "301 호\n",
      "302 호\n",
      "-----\n"
     ]
    }
   ],
   "source": [
    "apart = [ [101, 102], [201, 202], [301, 302] ]\n",
    "\n",
    "for i in apart:\n",
    "    for k in i:\n",
    "        print(k, \"호\")\n",
    "print(\"-----\")"
   ]
  },
  {
   "cell_type": "markdown",
   "id": "f02f8228",
   "metadata": {},
   "source": [
    "### #191. data에는 매수한 종목들의 OHLC (open/high/low/close) 가격 정보가 바인딩 되어있다.\n",
    "\n",
    ">data = [\n",
    "    [ 2000,  3050,  2050,  1980],\n",
    "    [ 7500,  2050,  2050,  1980],\n",
    "    [15450, 15050, 15550, 14900]\n",
    "]\n",
    "\n",
    "### 수수료를 0.014 %로 가정할 때, 각 가격에 수수료를 포함한 가격을 한라인에 하나씩 출력하라."
   ]
  },
  {
   "cell_type": "code",
   "execution_count": 17,
   "id": "a3b93ee5",
   "metadata": {},
   "outputs": [
    {
     "name": "stdout",
     "output_type": "stream",
     "text": [
      "2000.28\n",
      "3050.427\n",
      "2050.2870000000003\n",
      "1980.2772\n",
      "7501.05\n",
      "2050.2870000000003\n",
      "2050.2870000000003\n",
      "1980.2772\n",
      "15452.163\n",
      "15052.107\n",
      "15552.177\n",
      "14902.086000000001\n"
     ]
    }
   ],
   "source": [
    "data = [\n",
    "    [ 2000,  3050,  2050,  1980],\n",
    "    [ 7500,  2050,  2050,  1980],\n",
    "    [15450, 15050, 15550, 14900]\n",
    "]\n",
    "\n",
    "for i in data:\n",
    "    for j in i:\n",
    "        print(j * 1.00014)"
   ]
  },
  {
   "cell_type": "markdown",
   "id": "8a1e0d06",
   "metadata": {},
   "source": [
    "### #192. 191번의 출력 결과에 행단위로 \"----\" 구분자를 추가하라."
   ]
  },
  {
   "cell_type": "code",
   "execution_count": 18,
   "id": "69ca8574",
   "metadata": {},
   "outputs": [
    {
     "name": "stdout",
     "output_type": "stream",
     "text": [
      "2000.28\n",
      "3050.427\n",
      "2050.2870000000003\n",
      "1980.2772\n",
      "----\n",
      "7501.05\n",
      "2050.2870000000003\n",
      "2050.2870000000003\n",
      "1980.2772\n",
      "----\n",
      "15452.163\n",
      "15052.107\n",
      "15552.177\n",
      "14902.086000000001\n",
      "----\n"
     ]
    }
   ],
   "source": [
    "data = [\n",
    "    [ 2000,  3050,  2050,  1980],\n",
    "    [ 7500,  2050,  2050,  1980],\n",
    "    [15450, 15050, 15550, 14900]\n",
    "]\n",
    "\n",
    "for i in data:\n",
    "    for j in i:\n",
    "        print(j * 1.00014)\n",
    "    print(\"----\")"
   ]
  },
  {
   "cell_type": "markdown",
   "id": "ff80cf4d",
   "metadata": {},
   "source": [
    "### #193. 191 번 문제의 결괏값을 result 이름의 리스트에 1차원 배열로 저장하라."
   ]
  },
  {
   "cell_type": "code",
   "execution_count": 20,
   "id": "4b4e5685",
   "metadata": {},
   "outputs": [
    {
     "name": "stdout",
     "output_type": "stream",
     "text": [
      "[2000.28, 3050.427, 2050.2870000000003, 1980.2772, 7501.05, 2050.2870000000003, 2050.2870000000003, 1980.2772, 15452.163, 15052.107, 15552.177, 14902.086000000001]\n"
     ]
    }
   ],
   "source": [
    "result = []\n",
    "for i in data:\n",
    "    for j in i:\n",
    "        result.append(j * 1.00014)\n",
    "        \n",
    "print(result)"
   ]
  },
  {
   "cell_type": "markdown",
   "id": "60cd7c57",
   "metadata": {},
   "source": [
    "### #194. 191번 문제의 결괏값을 result 이름의 리스트에 2차원 배열로 저장하라. 각 행에 대한 데이터끼리 리스트에 저장되어야 한다."
   ]
  },
  {
   "cell_type": "code",
   "execution_count": 26,
   "id": "2973a7ee",
   "metadata": {},
   "outputs": [
    {
     "name": "stdout",
     "output_type": "stream",
     "text": [
      "[[2000.28, 3050.427, 2050.2870000000003, 1980.2772], [7501.05, 2050.2870000000003, 2050.2870000000003, 1980.2772], [15452.163, 15052.107, 15552.177, 14902.086000000001]]\n"
     ]
    }
   ],
   "source": [
    "result = []\n",
    "\n",
    "for i in data:\n",
    "    a = []\n",
    "    for j in i:\n",
    "        a.append(j * 1.00014)\n",
    "    result.append(a)\n",
    "\n",
    "print(result)"
   ]
  },
  {
   "cell_type": "markdown",
   "id": "b2fbeb5f",
   "metadata": {},
   "source": [
    "### #195. ohlc 리스트에는 시가(open), 고가 (high), 저가 (low) , 종가(close)가 날짜별로 저장돼 있다. 화면에 종가데이터를 출력하라.\n",
    "\n",
    "> ohlc = [[\"open\", \"high\", \"low\", \"close\"],\n",
    "        [100, 110, 70, 100],\n",
    "        [200, 210, 180, 190],\n",
    "        [300, 310, 300, 310]]"
   ]
  },
  {
   "cell_type": "code",
   "execution_count": 27,
   "id": "66237771",
   "metadata": {},
   "outputs": [
    {
     "name": "stdout",
     "output_type": "stream",
     "text": [
      "100\n",
      "190\n",
      "310\n"
     ]
    }
   ],
   "source": [
    "ohlc = [[\"open\", \"high\", \"low\", \"close\"],\n",
    "        [100, 110, 70, 100],\n",
    "        [200, 210, 180, 190],\n",
    "        [300, 310, 300, 310]]\n",
    "\n",
    "for i in ohlc[1:]:\n",
    "    print(i[-1])"
   ]
  },
  {
   "cell_type": "markdown",
   "id": "44ff6e32",
   "metadata": {},
   "source": [
    "### #196. ohlc 리스트에는 시가(open), 고가 (high), 저가 (low) , 종가(close)가 날짜별로 저장돼 있다. 종가가 150원보다 큰경우에만 종가를 출력하라.\n",
    "\n",
    "> ohlc = [[\"open\", \"high\", \"low\", \"close\"],\n",
    "        [100, 110, 70, 100],\n",
    "        [200, 210, 180, 190],\n",
    "        [300, 310, 300, 310]]"
   ]
  },
  {
   "cell_type": "code",
   "execution_count": 28,
   "id": "756603c9",
   "metadata": {},
   "outputs": [
    {
     "name": "stdout",
     "output_type": "stream",
     "text": [
      "190\n",
      "310\n"
     ]
    }
   ],
   "source": [
    "ohlc = [[\"open\", \"high\", \"low\", \"close\"],\n",
    "        [100, 110, 70, 100],\n",
    "        [200, 210, 180, 190],\n",
    "        [300, 310, 300, 310]]\n",
    "\n",
    "for i in ohlc[1:]:\n",
    "    if i[-1] > 150:\n",
    "        print(i[-1])"
   ]
  },
  {
   "cell_type": "markdown",
   "id": "2d404de3",
   "metadata": {},
   "source": [
    "### #197. ohlc 리스트에는 시가(open), 고가 (high), 저가 (low) , 종가(close)가 날짜별로 저장돼 있다. 종가가 시가 보다 크거나 같은 경우에만 종가를 출력하라.\n",
    "\n",
    "> ohlc = [[\"open\", \"high\", \"low\", \"close\"],\n",
    "        [100, 110, 70, 100],\n",
    "        [200, 210, 180, 190],\n",
    "        [300, 310, 300, 310]]"
   ]
  },
  {
   "cell_type": "code",
   "execution_count": 30,
   "id": "99436571",
   "metadata": {},
   "outputs": [
    {
     "name": "stdout",
     "output_type": "stream",
     "text": [
      "100\n",
      "310\n"
     ]
    }
   ],
   "source": [
    "ohlc = [[\"open\", \"high\", \"low\", \"close\"],\n",
    "        [100, 110, 70, 100],\n",
    "        [200, 210, 180, 190],\n",
    "        [300, 310, 300, 310]]\n",
    "\n",
    "for i in ohlc[1:]:\n",
    "    if i[-1] >= i[0]:\n",
    "        print(i[-1])"
   ]
  },
  {
   "cell_type": "markdown",
   "id": "9269d5aa",
   "metadata": {},
   "source": [
    "### #198. ohlc 리스트에는 시가(open), 고가 (high), 저가 (low) , 종가(close)가 날짜별로 저장돼 있다. 고가와 저가의 차이를 변동폭으로 정의할 때 변동폭을 volatility 이름의 리스트에 저장하라.\n",
    "\n",
    "> ohlc = [[\"open\", \"high\", \"low\", \"close\"],\n",
    "        [100, 110, 70, 100],\n",
    "        [200, 210, 180, 190],\n",
    "        [300, 310, 300, 310]]"
   ]
  },
  {
   "cell_type": "code",
   "execution_count": 32,
   "id": "5c84870e",
   "metadata": {},
   "outputs": [
    {
     "name": "stdout",
     "output_type": "stream",
     "text": [
      "[40, 30, 10]\n"
     ]
    }
   ],
   "source": [
    "ohlc = [[\"open\", \"high\", \"low\", \"close\"],\n",
    "        [100, 110, 70, 100],\n",
    "        [200, 210, 180, 190],\n",
    "        [300, 310, 300, 310]]\n",
    "\n",
    "volatility = []\n",
    "for i in ohlc[1:]:\n",
    "    volatility.append(i[1] - i[2])\n",
    "print(volatility)"
   ]
  },
  {
   "cell_type": "markdown",
   "id": "13aee4d0",
   "metadata": {},
   "source": [
    "### #199. 리스트에는 3일 간의 ohlc 데이터가 저장돼 있다. 종가가 시가보다 높은 날의 변동성 (고가 - 저가)을 화면에 출력하라.\n",
    "\n",
    "> ohlc = [[\"open\", \"high\", \"low\", \"close\"],\n",
    "        [100, 110, 70, 100],\n",
    "        [200, 210, 180, 190],\n",
    "        [300, 310, 300, 310]]"
   ]
  },
  {
   "cell_type": "code",
   "execution_count": 33,
   "id": "335d2c4a",
   "metadata": {},
   "outputs": [
    {
     "name": "stdout",
     "output_type": "stream",
     "text": [
      "10\n"
     ]
    }
   ],
   "source": [
    "ohlc = [[\"open\", \"high\", \"low\", \"close\"],\n",
    "        [100, 110, 70, 100],\n",
    "        [200, 210, 180, 190],\n",
    "        [300, 310, 300, 310]]\n",
    "\n",
    "for i in ohlc[1:]:\n",
    "    if i[3] > i[0]:\n",
    "        print(i[3] - i[0])"
   ]
  },
  {
   "cell_type": "markdown",
   "id": "69ff01e0",
   "metadata": {},
   "source": [
    "### #200. 리스트에는 3일 간의 ohlc 데이터가 저장돼 있다. 시가에 매수해서 종가에 매도 했을 경우 총 수익금을 계산하라.\n",
    "\n",
    "> ohlc = [[\"open\", \"high\", \"low\", \"close\"],\n",
    "        [100, 110, 70, 100],\n",
    "        [200, 210, 180, 190],\n",
    "        [300, 310, 300, 310]]"
   ]
  },
  {
   "cell_type": "code",
   "execution_count": 36,
   "id": "5ca70c0f",
   "metadata": {},
   "outputs": [
    {
     "name": "stdout",
     "output_type": "stream",
     "text": [
      "0\n"
     ]
    }
   ],
   "source": [
    "ohlc = [[\"open\", \"high\", \"low\", \"close\"],\n",
    "        [100, 110, 70, 100],\n",
    "        [200, 210, 180, 190],\n",
    "        [300, 310, 300, 310]]\n",
    "\n",
    "profit = 0\n",
    "for i in ohlc[1:]:\n",
    "    profit += (i[3] - i[0])\n",
    "print(profit)"
   ]
  },
  {
   "cell_type": "markdown",
   "id": "c6ec3673",
   "metadata": {},
   "source": [
    "### #201. \"비트코인\" 문자열을 화면에 출력하는 print_coin() 함수를 정의하라. "
   ]
  },
  {
   "cell_type": "code",
   "execution_count": 38,
   "id": "3e610358",
   "metadata": {},
   "outputs": [],
   "source": [
    "def print_coin():\n",
    "    print(\"비트코인\")"
   ]
  },
  {
   "cell_type": "markdown",
   "id": "1e07c51e",
   "metadata": {},
   "source": [
    "### #202. 201번에서 정의한 함수를 호출하라."
   ]
  },
  {
   "cell_type": "code",
   "execution_count": 39,
   "id": "0bfaa3bd",
   "metadata": {},
   "outputs": [
    {
     "name": "stdout",
     "output_type": "stream",
     "text": [
      "비트코인\n"
     ]
    }
   ],
   "source": [
    "print_coin()"
   ]
  },
  {
   "cell_type": "markdown",
   "id": "04231f79",
   "metadata": {},
   "source": [
    "### #203. 201번에서 정의한 print_coin 함수를 100번호출하라."
   ]
  },
  {
   "cell_type": "code",
   "execution_count": 41,
   "id": "e160dcf4",
   "metadata": {
    "scrolled": true
   },
   "outputs": [
    {
     "name": "stdout",
     "output_type": "stream",
     "text": [
      "비트코인\n",
      "비트코인\n",
      "비트코인\n",
      "비트코인\n",
      "비트코인\n",
      "비트코인\n",
      "비트코인\n",
      "비트코인\n",
      "비트코인\n",
      "비트코인\n",
      "비트코인\n",
      "비트코인\n",
      "비트코인\n",
      "비트코인\n",
      "비트코인\n",
      "비트코인\n",
      "비트코인\n",
      "비트코인\n",
      "비트코인\n",
      "비트코인\n",
      "비트코인\n",
      "비트코인\n",
      "비트코인\n",
      "비트코인\n",
      "비트코인\n",
      "비트코인\n",
      "비트코인\n",
      "비트코인\n",
      "비트코인\n",
      "비트코인\n",
      "비트코인\n",
      "비트코인\n",
      "비트코인\n",
      "비트코인\n",
      "비트코인\n",
      "비트코인\n",
      "비트코인\n",
      "비트코인\n",
      "비트코인\n",
      "비트코인\n",
      "비트코인\n",
      "비트코인\n",
      "비트코인\n",
      "비트코인\n",
      "비트코인\n",
      "비트코인\n",
      "비트코인\n",
      "비트코인\n",
      "비트코인\n",
      "비트코인\n",
      "비트코인\n",
      "비트코인\n",
      "비트코인\n",
      "비트코인\n",
      "비트코인\n",
      "비트코인\n",
      "비트코인\n",
      "비트코인\n",
      "비트코인\n",
      "비트코인\n",
      "비트코인\n",
      "비트코인\n",
      "비트코인\n",
      "비트코인\n",
      "비트코인\n",
      "비트코인\n",
      "비트코인\n",
      "비트코인\n",
      "비트코인\n",
      "비트코인\n",
      "비트코인\n",
      "비트코인\n",
      "비트코인\n",
      "비트코인\n",
      "비트코인\n",
      "비트코인\n",
      "비트코인\n",
      "비트코인\n",
      "비트코인\n",
      "비트코인\n",
      "비트코인\n",
      "비트코인\n",
      "비트코인\n",
      "비트코인\n",
      "비트코인\n",
      "비트코인\n",
      "비트코인\n",
      "비트코인\n",
      "비트코인\n",
      "비트코인\n",
      "비트코인\n",
      "비트코인\n",
      "비트코인\n",
      "비트코인\n",
      "비트코인\n",
      "비트코인\n",
      "비트코인\n",
      "비트코인\n",
      "비트코인\n",
      "비트코인\n"
     ]
    }
   ],
   "source": [
    "for i in range(100):\n",
    "    print_coin()"
   ]
  },
  {
   "cell_type": "markdown",
   "id": "31af6e2a",
   "metadata": {},
   "source": [
    "### #204. \"비트코인\" 문자열을 100번 화면에 출력하는 print_coins() 함수를 정의하라."
   ]
  },
  {
   "cell_type": "code",
   "execution_count": 42,
   "id": "84903b85",
   "metadata": {},
   "outputs": [],
   "source": [
    "def print_coins():\n",
    "    for i in range(100):\n",
    "        print(\"비트코인\")"
   ]
  },
  {
   "cell_type": "markdown",
   "id": "f0c7ec36",
   "metadata": {},
   "source": [
    "### #205. 아래의 에러가 발생하는 이유에 대해 설명하라."
   ]
  },
  {
   "cell_type": "code",
   "execution_count": 43,
   "id": "bc35a401",
   "metadata": {},
   "outputs": [
    {
     "ename": "NameError",
     "evalue": "name 'hello' is not defined",
     "output_type": "error",
     "traceback": [
      "\u001b[0;31m---------------------------------------------------------------------------\u001b[0m",
      "\u001b[0;31mNameError\u001b[0m                                 Traceback (most recent call last)",
      "Cell \u001b[0;32mIn[43], line 1\u001b[0m\n\u001b[0;32m----> 1\u001b[0m \u001b[43mhello\u001b[49m()\n\u001b[1;32m      2\u001b[0m \u001b[38;5;28;01mdef\u001b[39;00m \u001b[38;5;21mhello\u001b[39m():\n\u001b[1;32m      3\u001b[0m     \u001b[38;5;28mprint\u001b[39m(\u001b[38;5;124m\"\u001b[39m\u001b[38;5;124mHi\u001b[39m\u001b[38;5;124m\"\u001b[39m)\n",
      "\u001b[0;31mNameError\u001b[0m: name 'hello' is not defined"
     ]
    }
   ],
   "source": [
    "hello()\n",
    "def hello():\n",
    "    print(\"Hi\")\n",
    "\n",
    "# hello()라는 함수가 정의되기 전 hello()라는 함수를 호출하였기 때문에 에러가 발생한다."
   ]
  },
  {
   "cell_type": "markdown",
   "id": "5053f28d",
   "metadata": {},
   "source": [
    "### #206. 아래 코드의 실행 결과를 예측하라."
   ]
  },
  {
   "cell_type": "code",
   "execution_count": 44,
   "id": "59a58377",
   "metadata": {},
   "outputs": [
    {
     "name": "stdout",
     "output_type": "stream",
     "text": [
      "A\n",
      "B\n",
      "C\n",
      "A\n",
      "B\n"
     ]
    }
   ],
   "source": [
    "def message() :\n",
    "    print(\"A\")\n",
    "    print(\"B\")\n",
    "\n",
    "message()\n",
    "print(\"C\")\n",
    "message()\n",
    "\n",
    "# A\n",
    "# B\n",
    "# C\n",
    "# A\n",
    "# B"
   ]
  },
  {
   "cell_type": "markdown",
   "id": "38be3ef7",
   "metadata": {},
   "source": [
    "### #207. 아래 코드의 실행 결과를 예측하라."
   ]
  },
  {
   "cell_type": "code",
   "execution_count": 45,
   "id": "b36f9fda",
   "metadata": {},
   "outputs": [
    {
     "name": "stdout",
     "output_type": "stream",
     "text": [
      "A\n",
      "C\n",
      "B\n"
     ]
    }
   ],
   "source": [
    "print(\"A\")\n",
    "\n",
    "def message() :\n",
    "    print(\"B\")\n",
    "\n",
    "print(\"C\")\n",
    "message()\n",
    "\n",
    "# A\n",
    "# C\n",
    "# B"
   ]
  },
  {
   "cell_type": "markdown",
   "id": "0b35ed76",
   "metadata": {},
   "source": [
    "### #208. 아래 코드의 실행 결과를 예측하라."
   ]
  },
  {
   "cell_type": "code",
   "execution_count": 46,
   "id": "e09f80a4",
   "metadata": {},
   "outputs": [
    {
     "name": "stdout",
     "output_type": "stream",
     "text": [
      "A\n",
      "C\n",
      "B\n",
      "E\n",
      "D\n"
     ]
    }
   ],
   "source": [
    "print(\"A\")\n",
    "def message1() :\n",
    "    print(\"B\")\n",
    "print(\"C\")\n",
    "def message2() :\n",
    "    print(\"D\")\n",
    "message1()\n",
    "print(\"E\")\n",
    "message2()\n",
    "\n",
    "# A\n",
    "# C\n",
    "# B\n",
    "# E\n",
    "# D"
   ]
  },
  {
   "cell_type": "markdown",
   "id": "81e90056",
   "metadata": {},
   "source": [
    "### #209. 아래 코드의 실행 결과를 예측하라."
   ]
  },
  {
   "cell_type": "code",
   "execution_count": 47,
   "id": "4a633616",
   "metadata": {},
   "outputs": [
    {
     "name": "stdout",
     "output_type": "stream",
     "text": [
      "B\n",
      "A\n"
     ]
    }
   ],
   "source": [
    "def message1():\n",
    "    print(\"A\")\n",
    "\n",
    "def message2():\n",
    "    print(\"B\")\n",
    "    message1()\n",
    "\n",
    "message2()\n",
    "\n",
    "# B\n",
    "# A"
   ]
  },
  {
   "cell_type": "markdown",
   "id": "a03da4ff",
   "metadata": {},
   "source": [
    "### #210. 아래 코드의 실행 결과를 예측하라."
   ]
  },
  {
   "cell_type": "code",
   "execution_count": 48,
   "id": "d1057e4e",
   "metadata": {},
   "outputs": [
    {
     "name": "stdout",
     "output_type": "stream",
     "text": [
      "B\n",
      "C\n",
      "B\n",
      "C\n",
      "B\n",
      "C\n",
      "A\n"
     ]
    }
   ],
   "source": [
    "def message1():\n",
    "    print(\"A\")\n",
    "\n",
    "def message2():\n",
    "    print(\"B\")\n",
    "\n",
    "def message3():\n",
    "    for i in range (3) :\n",
    "        message2()\n",
    "        print(\"C\")\n",
    "    message1()\n",
    "\n",
    "message3()\n",
    "\n",
    "# B\n",
    "# C\n",
    "# B\n",
    "# C\n",
    "# B\n",
    "# C\n",
    "# A"
   ]
  },
  {
   "cell_type": "markdown",
   "id": "17582c0e",
   "metadata": {},
   "source": [
    "### #211. 함수의 호출 결과를 예측하라."
   ]
  },
  {
   "cell_type": "code",
   "execution_count": 49,
   "id": "05cfba12",
   "metadata": {},
   "outputs": [
    {
     "name": "stdout",
     "output_type": "stream",
     "text": [
      "안녕\n",
      "Hi\n"
     ]
    }
   ],
   "source": [
    "def 함수(문자열) :\n",
    "    print(문자열)\n",
    "\n",
    "함수(\"안녕\")\n",
    "함수(\"Hi\")\n",
    "\n",
    "# 안녕\n",
    "# Hi"
   ]
  },
  {
   "cell_type": "markdown",
   "id": "45fc0897",
   "metadata": {},
   "source": [
    "### #212. 함수의 호출 결과를 예측하라."
   ]
  },
  {
   "cell_type": "code",
   "execution_count": 50,
   "id": "34183178",
   "metadata": {},
   "outputs": [
    {
     "name": "stdout",
     "output_type": "stream",
     "text": [
      "7\n",
      "15\n"
     ]
    }
   ],
   "source": [
    "def 함수(a, b) :\n",
    "    print(a + b)\n",
    "\n",
    "함수(3, 4)\n",
    "함수(7, 8)\n",
    "\n",
    "# 7\n",
    "# 15"
   ]
  },
  {
   "cell_type": "markdown",
   "id": "039f8414",
   "metadata": {},
   "source": [
    "### #213. 아래와 같은 에러가 발생하는 원인을 설명하라."
   ]
  },
  {
   "cell_type": "code",
   "execution_count": 51,
   "id": "99163135",
   "metadata": {},
   "outputs": [
    {
     "ename": "TypeError",
     "evalue": "함수() missing 1 required positional argument: '문자열'",
     "output_type": "error",
     "traceback": [
      "\u001b[0;31m---------------------------------------------------------------------------\u001b[0m",
      "\u001b[0;31mTypeError\u001b[0m                                 Traceback (most recent call last)",
      "Cell \u001b[0;32mIn[51], line 4\u001b[0m\n\u001b[1;32m      1\u001b[0m \u001b[38;5;28;01mdef\u001b[39;00m \u001b[38;5;21m함수\u001b[39m(문자열) :\n\u001b[1;32m      2\u001b[0m     \u001b[38;5;28mprint\u001b[39m(문자열)\n\u001b[0;32m----> 4\u001b[0m \u001b[43m함수\u001b[49m\u001b[43m(\u001b[49m\u001b[43m)\u001b[49m\n",
      "\u001b[0;31mTypeError\u001b[0m: 함수() missing 1 required positional argument: '문자열'"
     ]
    }
   ],
   "source": [
    "def 함수(문자열) :\n",
    "    print(문자열)\n",
    "    \n",
    "함수()\n",
    "# 함수()라는 함수는 함수를 호출할 때 1개의 파라미터를 입력해야 하는데 그렇지 않았기 때문에 에러가 발생한다."
   ]
  },
  {
   "cell_type": "markdown",
   "id": "40805415",
   "metadata": {},
   "source": [
    "### #214. 아래와 같은 에러가 발생하는 원인을 설명하라."
   ]
  },
  {
   "cell_type": "code",
   "execution_count": 52,
   "id": "43185820",
   "metadata": {},
   "outputs": [
    {
     "ename": "TypeError",
     "evalue": "can only concatenate str (not \"int\") to str",
     "output_type": "error",
     "traceback": [
      "\u001b[0;31m---------------------------------------------------------------------------\u001b[0m",
      "\u001b[0;31mTypeError\u001b[0m                                 Traceback (most recent call last)",
      "Cell \u001b[0;32mIn[52], line 4\u001b[0m\n\u001b[1;32m      1\u001b[0m \u001b[38;5;28;01mdef\u001b[39;00m \u001b[38;5;21m함수\u001b[39m(a, b) :\n\u001b[1;32m      2\u001b[0m     \u001b[38;5;28mprint\u001b[39m(a \u001b[38;5;241m+\u001b[39m b)\n\u001b[0;32m----> 4\u001b[0m \u001b[43m함수\u001b[49m\u001b[43m(\u001b[49m\u001b[38;5;124;43m\"\u001b[39;49m\u001b[38;5;124;43m안녕\u001b[39;49m\u001b[38;5;124;43m\"\u001b[39;49m\u001b[43m,\u001b[49m\u001b[43m \u001b[49m\u001b[38;5;241;43m3\u001b[39;49m\u001b[43m)\u001b[49m\n",
      "Cell \u001b[0;32mIn[52], line 2\u001b[0m, in \u001b[0;36m함수\u001b[0;34m(a, b)\u001b[0m\n\u001b[1;32m      1\u001b[0m \u001b[38;5;28;01mdef\u001b[39;00m \u001b[38;5;21m함수\u001b[39m(a, b) :\n\u001b[0;32m----> 2\u001b[0m     \u001b[38;5;28mprint\u001b[39m(\u001b[43ma\u001b[49m\u001b[43m \u001b[49m\u001b[38;5;241;43m+\u001b[39;49m\u001b[43m \u001b[49m\u001b[43mb\u001b[49m)\n",
      "\u001b[0;31mTypeError\u001b[0m: can only concatenate str (not \"int\") to str"
     ]
    }
   ],
   "source": [
    "def 함수(a, b) :\n",
    "    print(a + b)\n",
    "\n",
    "함수(\"안녕\", 3)\n",
    "# a와 b에 파라미터를 입력할 때 문자열(str)은 문자열끼리, 정수(int)는 정수끼리 등 같은 타입을 입력해야하는데 str과 int를 입력해주었기 때문이다."
   ]
  },
  {
   "cell_type": "markdown",
   "id": "f858cd49",
   "metadata": {},
   "source": [
    "### #215. 하나의 문자를 입력받아 문자열 끝에 \":D\" 스마일 문자열을 이어 붙여 출력하는 print_with_smile 함수를 정의하라."
   ]
  },
  {
   "cell_type": "code",
   "execution_count": 53,
   "id": "7e0ff037",
   "metadata": {},
   "outputs": [],
   "source": [
    "def print_with_smile(문자열):\n",
    "    print(문자열 + \":D\")"
   ]
  },
  {
   "cell_type": "markdown",
   "id": "1dcb0857",
   "metadata": {},
   "source": [
    "### #216. 215에서 정의한 함수를 호출하라. 파라미터는 \"안녕하세요\"로 입력하라."
   ]
  },
  {
   "cell_type": "code",
   "execution_count": 55,
   "id": "35c89f3a",
   "metadata": {},
   "outputs": [
    {
     "name": "stdout",
     "output_type": "stream",
     "text": [
      "안녕하세요:D\n"
     ]
    }
   ],
   "source": [
    "print_with_smile(\"안녕하세요\")"
   ]
  },
  {
   "cell_type": "markdown",
   "id": "75a2e0f4",
   "metadata": {},
   "source": [
    "### #217. 현재 가격을 입력 받아 상한가 (30%)를 출력하는 print_upper_price 함수를 정의하라."
   ]
  },
  {
   "cell_type": "code",
   "execution_count": 56,
   "id": "528b8bb6",
   "metadata": {},
   "outputs": [],
   "source": [
    "def print_upper_price(price):\n",
    "    print(price * 1.3)"
   ]
  },
  {
   "cell_type": "markdown",
   "id": "eac96c34",
   "metadata": {},
   "source": [
    "### #218. 두 개의 숫자를 입력받아 두 수의 합을 출력하는 print_sum 함수를 정의하라."
   ]
  },
  {
   "cell_type": "code",
   "execution_count": 57,
   "id": "48ff7052",
   "metadata": {},
   "outputs": [],
   "source": [
    "def print_sum(a, b):\n",
    "    print(a + b)"
   ]
  },
  {
   "cell_type": "markdown",
   "id": "5c5e55fc",
   "metadata": {},
   "source": [
    "### #219. 두 개의 숫자를 입력받아 합/차/곱/나눗셈을 출력하는 print_arithmetic_operation 함수를 작성하라."
   ]
  },
  {
   "cell_type": "code",
   "execution_count": 58,
   "id": "f9515d94",
   "metadata": {},
   "outputs": [
    {
     "name": "stdout",
     "output_type": "stream",
     "text": [
      "3 + 4 = 7\n",
      "3 - 4 = -1\n",
      "3 * 4 = 12\n",
      "3 / 4 = 0.75\n"
     ]
    }
   ],
   "source": [
    "def print_arithmetic_operation(a, b):\n",
    "    print(a, \"+\", b, \"=\", a + b)\n",
    "    print(a, \"-\", b, \"=\", a - b)\n",
    "    print(a, \"*\", b, \"=\", a * b)\n",
    "    print(a, \"/\", b, \"=\", a / b)\n",
    "    \n",
    "print_arithmetic_operation(3, 4)"
   ]
  },
  {
   "cell_type": "markdown",
   "id": "e4a9bbd6",
   "metadata": {},
   "source": [
    "### #220. 세 개의 숫자를 입력받아 가장 큰수를 출력하는 print_max 함수를 정의하라. 단 if 문을 사용해서 수를 비교하라."
   ]
  },
  {
   "cell_type": "code",
   "execution_count": 59,
   "id": "46a8f361",
   "metadata": {},
   "outputs": [],
   "source": [
    "def print_max(a, b, c):\n",
    "    if a >= b and a >= c:\n",
    "        print(a)\n",
    "    elif b >= a and b >= c:\n",
    "        print(b)\n",
    "    else:\n",
    "        print(c)"
   ]
  },
  {
   "cell_type": "code",
   "execution_count": 60,
   "id": "c376e902",
   "metadata": {},
   "outputs": [],
   "source": [
    "# 정답 - 0과 a 비교해서 큰 수가 max_val. 다시 max_val과 b를 비교해서 큰 수가 max_val. 다시 max_val과 c를 비교해서 큰 수가 max_val.\n",
    "# max() 내장 함수도 비슷한 원리로 작동한다.\n",
    "def print_max(a, b, c) :\n",
    "    max_val = 0\n",
    "    if a > max_val :\n",
    "        max_val = a\n",
    "    if b > max_val :\n",
    "        max_val = b\n",
    "    if c > max_val :\n",
    "        max_val = c\n",
    "    print(max_val)"
   ]
  },
  {
   "cell_type": "markdown",
   "id": "5badb6be",
   "metadata": {},
   "source": [
    "### #221. 입력된 문자열을 역순으로 출력하는 print_reverse 함수를 정의하라."
   ]
  },
  {
   "cell_type": "code",
   "execution_count": 62,
   "id": "7fb15bb8",
   "metadata": {},
   "outputs": [],
   "source": [
    "def print_reverse(str):\n",
    "    print(str[::-1])"
   ]
  },
  {
   "cell_type": "markdown",
   "id": "fbee49a3",
   "metadata": {},
   "source": [
    "### #222. 성적 리스트를 입력 받아 평균을 출력하는 print_score 함수를 정의하라."
   ]
  },
  {
   "cell_type": "code",
   "execution_count": 63,
   "id": "4e2214a6",
   "metadata": {},
   "outputs": [],
   "source": [
    "def print_score(score_list):\n",
    "    print(sum(score_list) / len(score_list))"
   ]
  },
  {
   "cell_type": "markdown",
   "id": "d653b01c",
   "metadata": {},
   "source": [
    "### #223. 하나의 리스트를 입력받아 짝수만 화면에 출력하는 print_even 함수를 정의하라."
   ]
  },
  {
   "cell_type": "code",
   "execution_count": 66,
   "id": "28b95a13",
   "metadata": {},
   "outputs": [],
   "source": [
    "def print_even(my_list):\n",
    "    for i in my_list:\n",
    "        if i % 2 == 0:\n",
    "            print(i)"
   ]
  },
  {
   "cell_type": "markdown",
   "id": "978b3db7",
   "metadata": {},
   "source": [
    "### #224. 하나의 딕셔너리를 입력받아 딕셔너리의 key 값을 화면에 출력하는 print_keys 함수를 정의하라."
   ]
  },
  {
   "cell_type": "code",
   "execution_count": 67,
   "id": "10208276",
   "metadata": {},
   "outputs": [],
   "source": [
    "def print_keys(dic):\n",
    "    for k in dic.keys():\n",
    "        print(k)"
   ]
  },
  {
   "cell_type": "markdown",
   "id": "bcf76cec",
   "metadata": {},
   "source": [
    "### #225. my_dict에는 날짜를 키값으로 OHLC가 리스트로 저장돼 있다.\n",
    "\n",
    "> my_dict = {\"10/26\" : [100, 130, 100, 100],\n",
    "           \"10/27\" : [10, 12, 10, 11]}\n",
    "### my_dict와 날짜 키값을 입력받아 OHLC 리스트를 출력하는 print_value_by_key 함수를 정의하라."
   ]
  },
  {
   "cell_type": "code",
   "execution_count": 69,
   "id": "a7d72167",
   "metadata": {},
   "outputs": [
    {
     "name": "stdout",
     "output_type": "stream",
     "text": [
      "[100, 130, 100, 100]\n"
     ]
    }
   ],
   "source": [
    "def print_value_by_key(my_dict, key):\n",
    "    print(my_dict[key])\n",
    "    \n",
    "my_dict = {\"10/26\" : [100, 130, 100, 100],\n",
    "           \"10/27\" : [10, 12, 10, 11]}\n",
    "print_value_by_key (my_dict, \"10/26\")"
   ]
  },
  {
   "cell_type": "markdown",
   "id": "204f861b",
   "metadata": {},
   "source": [
    "### #226. 입력 문자열을 한 줄에 다섯글자씩 출력하는 print_5xn(string) 함수를 작성하라."
   ]
  },
  {
   "cell_type": "code",
   "execution_count": 73,
   "id": "a090e187",
   "metadata": {},
   "outputs": [
    {
     "name": "stdout",
     "output_type": "stream",
     "text": [
      "아이엠어보\n",
      "이유알어걸\n",
      "\n"
     ]
    }
   ],
   "source": [
    "def print_5xn(string):\n",
    "    for i in range(int(len(string) / 5) + 1):\n",
    "        print(string[i * 5 : (i + 1) * 5])\n",
    "        \n",
    "print_5xn(\"아이엠어보이유알어걸\")"
   ]
  },
  {
   "cell_type": "markdown",
   "id": "e31c984f",
   "metadata": {},
   "source": [
    "### #227. 문자열과 한줄에 출력될 글자 수를 입력을 받아 한 줄에 입력된 글자 수만큼 출력하는 print_mxn(string) 함수를 작성하라."
   ]
  },
  {
   "cell_type": "code",
   "execution_count": 75,
   "id": "1a0599c7",
   "metadata": {},
   "outputs": [
    {
     "name": "stdout",
     "output_type": "stream",
     "text": [
      "아이엠\n",
      "어보이\n",
      "유알어\n",
      "걸\n"
     ]
    }
   ],
   "source": [
    "def print_mxn(string, n):\n",
    "    for i in range(int(len(string) / n) + 1):\n",
    "        print(string[i * n : (i + 1) * n])\n",
    "\n",
    "print_mxn(\"아이엠어보이유알어걸\", 3)"
   ]
  },
  {
   "cell_type": "markdown",
   "id": "9e3eecd9",
   "metadata": {},
   "source": [
    "### #228. 연봉을 입력받아 월급을 계산하는 calc_monthly_salary(annual_salary) 함수를 정의하라. 회사는 연봉을 12개월로 나누어 분할 지급하며, 이 때 1원 미만은 버림한다."
   ]
  },
  {
   "cell_type": "code",
   "execution_count": 76,
   "id": "f1847090",
   "metadata": {},
   "outputs": [
    {
     "name": "stdout",
     "output_type": "stream",
     "text": [
      "1000000\n"
     ]
    }
   ],
   "source": [
    "def calc_monthly_salary(annual_salary):\n",
    "    print(int(annual_salary / 12))\n",
    "    \n",
    "calc_monthly_salary(12000000)"
   ]
  },
  {
   "cell_type": "code",
   "execution_count": 77,
   "id": "5fb9fcd4",
   "metadata": {},
   "outputs": [],
   "source": [
    "# 정답 - return 사용하기\n",
    "def calc_monthly_salary(annual_pay) :\n",
    "    monthly_pay = int(annual_pay / 12)\n",
    "    return monthly_pay"
   ]
  },
  {
   "cell_type": "markdown",
   "id": "0df76422",
   "metadata": {},
   "source": [
    "### #229. 아래 코드의 실행 결과를 예측하라."
   ]
  },
  {
   "cell_type": "code",
   "execution_count": 78,
   "id": "f6071312",
   "metadata": {},
   "outputs": [
    {
     "name": "stdout",
     "output_type": "stream",
     "text": [
      "왼쪽: 100\n",
      "오른쪽: 200\n"
     ]
    }
   ],
   "source": [
    "def my_print (a, b) :\n",
    "    print(\"왼쪽:\", a)\n",
    "    print(\"오른쪽:\", b)\n",
    "\n",
    "my_print(a=100, b=200)\n",
    "\n",
    "# 왼쪽: 100\n",
    "# 오른쪽: 200"
   ]
  },
  {
   "cell_type": "markdown",
   "id": "a79733bf",
   "metadata": {},
   "source": [
    "### #230. 아래 코드의 실행 결과를 예측하라."
   ]
  },
  {
   "cell_type": "code",
   "execution_count": 79,
   "id": "ecd61035",
   "metadata": {},
   "outputs": [
    {
     "name": "stdout",
     "output_type": "stream",
     "text": [
      "왼쪽: 200\n",
      "오른쪽: 100\n"
     ]
    }
   ],
   "source": [
    "def my_print (a, b) :\n",
    "    print(\"왼쪽:\", a)\n",
    "    print(\"오른쪽:\", b)\n",
    "\n",
    "my_print(b=100, a=200)\n",
    "\n",
    "# 왼쪽: 200\n",
    "# 오른쪽: 100"
   ]
  },
  {
   "cell_type": "markdown",
   "id": "fd19d5b0",
   "metadata": {},
   "source": [
    "### #231. 아래 코드를 실행한 결과를 예상하라."
   ]
  },
  {
   "cell_type": "code",
   "execution_count": 1,
   "id": "4e5e1ffc",
   "metadata": {},
   "outputs": [
    {
     "ename": "NameError",
     "evalue": "name 'result' is not defined",
     "output_type": "error",
     "traceback": [
      "\u001b[0;31m---------------------------------------------------------------------------\u001b[0m",
      "\u001b[0;31mNameError\u001b[0m                                 Traceback (most recent call last)",
      "Cell \u001b[0;32mIn[1], line 5\u001b[0m\n\u001b[1;32m      2\u001b[0m     result \u001b[38;5;241m=\u001b[39m n \u001b[38;5;241m+\u001b[39m \u001b[38;5;241m1\u001b[39m\n\u001b[1;32m      4\u001b[0m n_plus_1(\u001b[38;5;241m3\u001b[39m)\n\u001b[0;32m----> 5\u001b[0m \u001b[38;5;28mprint\u001b[39m (\u001b[43mresult\u001b[49m)\n",
      "\u001b[0;31mNameError\u001b[0m: name 'result' is not defined"
     ]
    }
   ],
   "source": [
    "def n_plus_1 (n) :\n",
    "    result = n + 1\n",
    "\n",
    "n_plus_1(3)\n",
    "print (result)\n",
    "\n",
    "# error - 함수 내부에서 사용한 변수는 함수 밖에서 접근이 불가능하므로, 함수 내부에서 계산한 값을 전달하기 위해서는 return을 사용해야 한다."
   ]
  },
  {
   "cell_type": "markdown",
   "id": "b1e08e2d",
   "metadata": {},
   "source": [
    "### #232. 문자열 하나를 입력받아 인터넷 주소를 반환하는 make_url 함수를 정의하라."
   ]
  },
  {
   "cell_type": "code",
   "execution_count": 3,
   "id": "dfc04697",
   "metadata": {},
   "outputs": [
    {
     "name": "stdout",
     "output_type": "stream",
     "text": [
      "www.naver.com\n"
     ]
    }
   ],
   "source": [
    "def make_url(string):\n",
    "    print(\"www.\" + string + \".com\")   # return \"www.\" + string + \".com\"\n",
    "    \n",
    "make_url(\"naver\")"
   ]
  },
  {
   "cell_type": "markdown",
   "id": "b89d7a17",
   "metadata": {},
   "source": [
    "### #233. 문자열을 입력받아 각 문자들로 구성된 리스트로 반환하는 make_list 함수를 정의하라."
   ]
  },
  {
   "cell_type": "code",
   "execution_count": 7,
   "id": "d4f99c87",
   "metadata": {},
   "outputs": [
    {
     "data": {
      "text/plain": [
       "['a', 'b', 'c', 'd']"
      ]
     },
     "execution_count": 7,
     "metadata": {},
     "output_type": "execute_result"
    }
   ],
   "source": [
    "def make_list(string):\n",
    "    my_list = []\n",
    "    for i in string:\n",
    "        my_list.append(i)\n",
    "    return my_list\n",
    "\n",
    "make_list(\"abcd\")"
   ]
  },
  {
   "cell_type": "code",
   "execution_count": 8,
   "id": "3e3a900c",
   "metadata": {},
   "outputs": [],
   "source": [
    "# 리스트 형변환으로 쉽게 풀 수 있다.\n",
    "def make_list (string) :\n",
    "    return list(string)"
   ]
  },
  {
   "cell_type": "markdown",
   "id": "9ead9367",
   "metadata": {},
   "source": [
    "### #234. 숫자로 구성된 하나의 리스트를 입력받아, 짝수들을 추출하여 리스트로 반환하는 pickup_even 함수를 구현하라."
   ]
  },
  {
   "cell_type": "code",
   "execution_count": 9,
   "id": "497a36a8",
   "metadata": {},
   "outputs": [
    {
     "data": {
      "text/plain": [
       "[4, 6, 8]"
      ]
     },
     "execution_count": 9,
     "metadata": {},
     "output_type": "execute_result"
    }
   ],
   "source": [
    "def pickup_even(my_list):\n",
    "    even_list = []\n",
    "    for i in my_list:\n",
    "        if i % 2 == 0:\n",
    "            even_list.append(i)\n",
    "    return even_list\n",
    "\n",
    "pickup_even([3, 4, 5, 6, 7, 8])"
   ]
  },
  {
   "cell_type": "markdown",
   "id": "c8f33efb",
   "metadata": {},
   "source": [
    "### #235. 콤마가 포함된 문자열 숫자를 입력받아 정수로 변환하는 convert_int 함수를 정의하라."
   ]
  },
  {
   "cell_type": "code",
   "execution_count": 10,
   "id": "fd8de9b4",
   "metadata": {},
   "outputs": [
    {
     "data": {
      "text/plain": [
       "1234567"
      ]
     },
     "execution_count": 10,
     "metadata": {},
     "output_type": "execute_result"
    }
   ],
   "source": [
    "def convert_int(a):\n",
    "    return int(a.replace(\",\", \"\"))\n",
    "\n",
    "convert_int(\"1,234,567\")"
   ]
  },
  {
   "cell_type": "markdown",
   "id": "daeca002",
   "metadata": {},
   "source": [
    "### #236. 아래 코드의 실행 결과를 예측하라."
   ]
  },
  {
   "cell_type": "code",
   "execution_count": 11,
   "id": "f672da8c",
   "metadata": {},
   "outputs": [
    {
     "name": "stdout",
     "output_type": "stream",
     "text": [
      "22\n"
     ]
    }
   ],
   "source": [
    "def 함수(num) :\n",
    "    return num + 4\n",
    "\n",
    "a = 함수(10)\n",
    "b = 함수(a)\n",
    "c = 함수(b)\n",
    "print(c)\n",
    "\n",
    "# 22"
   ]
  },
  {
   "cell_type": "markdown",
   "id": "1e9ac778",
   "metadata": {},
   "source": [
    "### #237. 아래 코드의 실행 결과를 예측하라."
   ]
  },
  {
   "cell_type": "code",
   "execution_count": 12,
   "id": "b3ed5501",
   "metadata": {},
   "outputs": [
    {
     "name": "stdout",
     "output_type": "stream",
     "text": [
      "22\n"
     ]
    }
   ],
   "source": [
    "def 함수(num) :\n",
    "    return num + 4\n",
    "\n",
    "c = 함수(함수(함수(10)))\n",
    "print(c)\n",
    "\n",
    "# 22"
   ]
  },
  {
   "cell_type": "markdown",
   "id": "99772037",
   "metadata": {},
   "source": [
    "### #238. 아래 코드의 실행 결과를 예측하라."
   ]
  },
  {
   "cell_type": "code",
   "execution_count": 13,
   "id": "f5a4edc9",
   "metadata": {},
   "outputs": [
    {
     "name": "stdout",
     "output_type": "stream",
     "text": [
      "140\n"
     ]
    }
   ],
   "source": [
    "def 함수1(num) :\n",
    "    return num + 4\n",
    "\n",
    "def 함수2(num) :\n",
    "    return num * 10\n",
    "\n",
    "a = 함수1(10)\n",
    "c = 함수2(a)\n",
    "print(c)\n",
    "\n",
    "# 140"
   ]
  },
  {
   "cell_type": "markdown",
   "id": "c251eadf",
   "metadata": {},
   "source": [
    "### #239. 아래 코드의 실행 결과를 예측하라."
   ]
  },
  {
   "cell_type": "code",
   "execution_count": 14,
   "id": "b062fa28",
   "metadata": {},
   "outputs": [
    {
     "name": "stdout",
     "output_type": "stream",
     "text": [
      "16\n"
     ]
    }
   ],
   "source": [
    "def 함수1(num) :\n",
    "    return num + 4\n",
    "\n",
    "def 함수2(num) :\n",
    "    num = num + 2\n",
    "    return 함수1(num)\n",
    "\n",
    "c = 함수2(10)\n",
    "print(c)\n",
    "\n",
    "# 16"
   ]
  },
  {
   "cell_type": "markdown",
   "id": "69fb0a76",
   "metadata": {},
   "source": [
    "### #240. 아래 코드의 실행 결과를 예측하라."
   ]
  },
  {
   "cell_type": "code",
   "execution_count": 15,
   "id": "709f2fd8",
   "metadata": {},
   "outputs": [
    {
     "name": "stdout",
     "output_type": "stream",
     "text": [
      "28\n"
     ]
    }
   ],
   "source": [
    "def 함수0(num) :\n",
    "    return num * 2\n",
    "\n",
    "def 함수1(num) :\n",
    "    return 함수0(num + 2)\n",
    "\n",
    "def 함수2(num) :\n",
    "    num = num + 10\n",
    "    return 함수1(num)\n",
    "\n",
    "c = 함수2(2)\n",
    "print(c)\n",
    "\n",
    "# 28"
   ]
  },
  {
   "cell_type": "markdown",
   "id": "5cf8bcb8",
   "metadata": {},
   "source": [
    "### #241.datetime 모듈을 사용해서 현재 시간을 화면에 출력해보세요."
   ]
  },
  {
   "cell_type": "code",
   "execution_count": 17,
   "id": "119feada",
   "metadata": {},
   "outputs": [
    {
     "name": "stdout",
     "output_type": "stream",
     "text": [
      "2023-07-28 17:01:10.685553\n"
     ]
    }
   ],
   "source": [
    "import datetime\n",
    "\n",
    "now = datetime.datetime.now()\n",
    "print(now)"
   ]
  },
  {
   "cell_type": "markdown",
   "id": "2ec44d2f",
   "metadata": {},
   "source": [
    "### #242. datetime 모듈의 now 함수의 리턴 값의 타입을 화면에 출력해보세요."
   ]
  },
  {
   "cell_type": "code",
   "execution_count": 18,
   "id": "3cf6b543",
   "metadata": {},
   "outputs": [
    {
     "name": "stdout",
     "output_type": "stream",
     "text": [
      "<class 'datetime.datetime'>\n"
     ]
    }
   ],
   "source": [
    "import datetime\n",
    "\n",
    "now = datetime.datetime.now()\n",
    "print(type(now))"
   ]
  },
  {
   "cell_type": "markdown",
   "id": "ae657659",
   "metadata": {},
   "source": [
    "### #243. datetime 모듈의 timedelta를 사용해서 오늘로부터 5일, 4일, 3일, 2일, 1일 전의 날짜를 화면에 출력해보세요."
   ]
  },
  {
   "cell_type": "code",
   "execution_count": 22,
   "id": "1820f166",
   "metadata": {},
   "outputs": [
    {
     "name": "stdout",
     "output_type": "stream",
     "text": [
      "2023-07-23 18:55:45.748868\n",
      "2023-07-24 18:55:45.748868\n",
      "2023-07-25 18:55:45.748868\n",
      "2023-07-26 18:55:45.748868\n",
      "2023-07-27 18:55:45.748868\n"
     ]
    }
   ],
   "source": [
    "import datetime\n",
    "\n",
    "now = datetime.datetime.now()\n",
    "\n",
    "for i in range(5, 0, -1):\n",
    "    other_day = datetime.timedelta(days=i)\n",
    "    date = now - other_day\n",
    "    print(date)"
   ]
  },
  {
   "cell_type": "markdown",
   "id": "0442dabe",
   "metadata": {},
   "source": [
    "### #244. 현재시간을 얻어온 후 다음과 같은 포맷으로 시간을 출력해보세요. strftime 메서드를 사용하세요.\n",
    "\n",
    "> 18:35:01 "
   ]
  },
  {
   "cell_type": "code",
   "execution_count": 24,
   "id": "69abf82b",
   "metadata": {},
   "outputs": [
    {
     "name": "stdout",
     "output_type": "stream",
     "text": [
      "19:01:32\n"
     ]
    }
   ],
   "source": [
    "import datetime\n",
    "\n",
    "now = datetime.datetime.now()\n",
    "time = now.strftime('%H:%M:%S')\n",
    "print(time)"
   ]
  },
  {
   "cell_type": "markdown",
   "id": "a67c5384",
   "metadata": {},
   "source": [
    "- [strftime & strptime](https://dev-jy.tistory.com/5)\n",
    "  - strftime : 날짜와 시간(datetime)을 문자열로 출력\n",
    "  - strptime : 날짜와 시간 형식의 문자열을 datetime으로 변환"
   ]
  },
  {
   "cell_type": "markdown",
   "id": "82e448a1",
   "metadata": {},
   "source": [
    "### #245. datetime.datetime.strptime 메서드를 사용하면 문자열 형식의 시간을 datetime.datetime 타입의 시간 값으로 만들어줍니다. \"2020-05-04\"의 문자열을 시간 타입으로 변환해보세요."
   ]
  },
  {
   "cell_type": "code",
   "execution_count": 26,
   "id": "d3b8f23f",
   "metadata": {},
   "outputs": [
    {
     "name": "stdout",
     "output_type": "stream",
     "text": [
      "2020-05-04 00:00:00 <class 'datetime.datetime'>\n"
     ]
    }
   ],
   "source": [
    "import datetime\n",
    "\n",
    "day = \"2020-05-04\"\n",
    "time_type = datetime.datetime.strptime(day, '%Y-%m-%d')\n",
    "print(time_type, type(time_type))"
   ]
  },
  {
   "cell_type": "markdown",
   "id": "fcda8602",
   "metadata": {},
   "source": [
    "### #246. time 모듈, datetime 모듈을 사용해서 1초에 한 번 현재 시간을 출력하는 코드를 작성하세요."
   ]
  },
  {
   "cell_type": "code",
   "execution_count": 30,
   "id": "78eeef44",
   "metadata": {},
   "outputs": [
    {
     "name": "stdout",
     "output_type": "stream",
     "text": [
      "2023-07-28 20:06:05.116552\n",
      "2023-07-28 20:06:06.121932\n",
      "2023-07-28 20:06:07.126827\n",
      "2023-07-28 20:06:08.132134\n",
      "2023-07-28 20:06:09.137474\n",
      "2023-07-28 20:06:10.140217\n",
      "2023-07-28 20:06:11.142528\n",
      "2023-07-28 20:06:12.145486\n",
      "2023-07-28 20:06:13.150796\n",
      "2023-07-28 20:06:14.156063\n",
      "2023-07-28 20:06:15.159163\n",
      "2023-07-28 20:06:16.164514\n",
      "2023-07-28 20:06:17.169295\n"
     ]
    },
    {
     "ename": "KeyboardInterrupt",
     "evalue": "",
     "output_type": "error",
     "traceback": [
      "\u001b[0;31m---------------------------------------------------------------------------\u001b[0m",
      "\u001b[0;31mKeyboardInterrupt\u001b[0m                         Traceback (most recent call last)",
      "Cell \u001b[0;32mIn[30], line 7\u001b[0m\n\u001b[1;32m      5\u001b[0m now \u001b[38;5;241m=\u001b[39m datetime\u001b[38;5;241m.\u001b[39mdatetime\u001b[38;5;241m.\u001b[39mnow()\n\u001b[1;32m      6\u001b[0m \u001b[38;5;28mprint\u001b[39m(now)\n\u001b[0;32m----> 7\u001b[0m \u001b[43mtime\u001b[49m\u001b[38;5;241;43m.\u001b[39;49m\u001b[43msleep\u001b[49m\u001b[43m(\u001b[49m\u001b[38;5;241;43m1\u001b[39;49m\u001b[43m)\u001b[49m\n",
      "\u001b[0;31mKeyboardInterrupt\u001b[0m: "
     ]
    }
   ],
   "source": [
    "import time\n",
    "import datetime\n",
    "\n",
    "while True:\n",
    "    now = datetime.datetime.now()\n",
    "    print(now)\n",
    "    time.sleep(1)"
   ]
  },
  {
   "cell_type": "markdown",
   "id": "581cf1c1",
   "metadata": {},
   "source": [
    "- [sleep() 함수](https://blockdmask.tistory.com/571)"
   ]
  },
  {
   "cell_type": "markdown",
   "id": "3cc0b32f",
   "metadata": {},
   "source": [
    "### #247. 모듈을 임포트하는 4가지 방식에 대해 설명해보세요.\n",
    "\n",
    "1. import 모듈\n",
    "2. import 모듈 as 이름 : 모듈 내의 함수를 호출할 때 모듈 이름 대신 새 이름으로 함수를 호출\n",
    "3. from 모듈 import 함수명 : 함수를 호출할 때 모듈 이름을 지정하지 않고, 바로 모듈 안의 함수를 호출\n",
    "4. from 모듈 import * : 모듈 안에 있는 모든 것 (*)을 임포트하는 방식"
   ]
  },
  {
   "cell_type": "markdown",
   "id": "0e4c93e4",
   "metadata": {},
   "source": [
    "### #248. os 모듈의 getcwd 함수를 호출하여 현재 디렉터리의 경로를 화면에 출력해보세요."
   ]
  },
  {
   "cell_type": "code",
   "execution_count": 33,
   "id": "36ce2f1d",
   "metadata": {},
   "outputs": [
    {
     "name": "stdout",
     "output_type": "stream",
     "text": [
      "/Users/soy/aiffel/afterschool <class 'str'>\n"
     ]
    }
   ],
   "source": [
    "import os\n",
    "ret = os.getcwd()\n",
    "print(ret, type(ret))"
   ]
  },
  {
   "cell_type": "markdown",
   "id": "b13ab08e",
   "metadata": {},
   "source": [
    "### #249. 바탕화면에 텍스트 파일을 하나 생성한 후 os 모듈의 rename 함수를 호출하여 해당 파일의 이름을 변경해보세요."
   ]
  },
  {
   "cell_type": "code",
   "execution_count": null,
   "id": "a30389cd",
   "metadata": {},
   "outputs": [],
   "source": [
    "#import os\n",
    "#os.rename(\"/Users/soy/before.txt\", \"/Users/soy/after.txt\")"
   ]
  },
  {
   "cell_type": "markdown",
   "id": "800b8b9d",
   "metadata": {},
   "source": [
    "### #250. numpy 모듈의 arange 함수를 사용해서 0.0 부터 5.0까지 0.1씩 증가하는 값을 화면에 출력해보세요."
   ]
  },
  {
   "cell_type": "code",
   "execution_count": 35,
   "id": "a513e1ad",
   "metadata": {},
   "outputs": [
    {
     "data": {
      "text/plain": [
       "array([0. , 0.1, 0.2, 0.3, 0.4, 0.5, 0.6, 0.7, 0.8, 0.9, 1. , 1.1, 1.2,\n",
       "       1.3, 1.4, 1.5, 1.6, 1.7, 1.8, 1.9, 2. , 2.1, 2.2, 2.3, 2.4, 2.5,\n",
       "       2.6, 2.7, 2.8, 2.9, 3. , 3.1, 3.2, 3.3, 3.4, 3.5, 3.6, 3.7, 3.8,\n",
       "       3.9, 4. , 4.1, 4.2, 4.3, 4.4, 4.5, 4.6, 4.7, 4.8, 4.9])"
      ]
     },
     "execution_count": 35,
     "metadata": {},
     "output_type": "execute_result"
    }
   ],
   "source": [
    "import numpy as np\n",
    "np.arange(0, 5, 0.1)\n",
    "# np.arange(시작점(생략 시 0), 끝점(미포함), step size(생략 시 1))"
   ]
  },
  {
   "cell_type": "markdown",
   "id": "51d6738c",
   "metadata": {},
   "source": [
    "### #251. 클래스, 객체, 인스턴스에 대해 설명해봅시다.\n",
    "1. 클래스 : 큰 틀. 객체(object)를 정의하고 만들기 위한 변수와 메서드의 집합.\n",
    "2. 객체 : 클래스에 의해서 만들어진 물건, 실체. 프로그램에서 구현할 대상. 객체별로 독립적인 성격을 갖는다.\n",
    "3. 인스턴스 : 프로그램에서 구현된 구체적인 실체. 객체를 프로그램에서 실체화한 것을 인스턴스라고 한다.\n",
    "- [클래스, 객체, 인스턴스](https://www.itple.co.kr/entry/%ED%8C%8C%EC%9D%B4%EC%8D%AC-%ED%81%B4%EB%9E%98%EC%8A%A4-%EA%B0%9D%EC%B2%B4-%EC%9D%B8%EC%8A%A4%ED%84%B4%EC%8A%A4-%EC%9D%B4%ED%95%B4%ED%95%98%EA%B8%B0)"
   ]
  },
  {
   "cell_type": "markdown",
   "id": "756b65b4",
   "metadata": {},
   "source": [
    "### #252. 비어있는 사람 (Human) 클래스를 \"정의\" 해보세요."
   ]
  },
  {
   "cell_type": "code",
   "execution_count": 37,
   "id": "b71bc7ea",
   "metadata": {},
   "outputs": [],
   "source": [
    "class Human:\n",
    "    pass"
   ]
  },
  {
   "cell_type": "markdown",
   "id": "3900657a",
   "metadata": {},
   "source": [
    "### #253. 사람 (Human) 클래스의 인스턴스를 \"생성\" 하고 이를 areum 변수로 바인딩해보세요."
   ]
  },
  {
   "cell_type": "code",
   "execution_count": 38,
   "id": "524cf850",
   "metadata": {},
   "outputs": [],
   "source": [
    "class Human:\n",
    "    pass\n",
    "    \n",
    "areum = Human()"
   ]
  },
  {
   "cell_type": "markdown",
   "id": "d4be5984",
   "metadata": {},
   "source": [
    "### #254. 사람 (Human) 클래스에 \"응애응애\"를 출력하는 생성자를 추가하세요."
   ]
  },
  {
   "cell_type": "code",
   "execution_count": 39,
   "id": "8881f74a",
   "metadata": {},
   "outputs": [
    {
     "name": "stdout",
     "output_type": "stream",
     "text": [
      "응애응애\n"
     ]
    }
   ],
   "source": [
    "class Human:\n",
    "    def __init__(self):\n",
    "        print(\"응애응애\")\n",
    "\n",
    "areum = Human()"
   ]
  },
  {
   "cell_type": "markdown",
   "id": "9525d39a",
   "metadata": {},
   "source": [
    "### #255. 사람 (Human) 클래스에 (이름, 나이, 성별)을 받는 생성자를 추가하세요."
   ]
  },
  {
   "cell_type": "code",
   "execution_count": 43,
   "id": "b708d197",
   "metadata": {},
   "outputs": [],
   "source": [
    "class Human:\n",
    "    def __init__(self, name, age, sex):\n",
    "        self.name = name\n",
    "        self.age = age\n",
    "        self.sex = sex"
   ]
  },
  {
   "cell_type": "markdown",
   "id": "e2621422",
   "metadata": {},
   "source": [
    "### #256. 255에서 생성한 인스턴스의 이름, 나이, 성별을 출력하세요. 인스턴스 변수에 접근하여 값을 출력하면 됩니다."
   ]
  },
  {
   "cell_type": "code",
   "execution_count": 44,
   "id": "d5871a15",
   "metadata": {},
   "outputs": [
    {
     "name": "stdout",
     "output_type": "stream",
     "text": [
      "아름\n",
      "25\n",
      "여자\n"
     ]
    }
   ],
   "source": [
    "areum = Human(\"아름\", 25, \"여자\")\n",
    "print(areum.name)\n",
    "print(areum.age)\n",
    "print(areum.sex)"
   ]
  },
  {
   "cell_type": "markdown",
   "id": "294f9568",
   "metadata": {},
   "source": [
    "### #257. 사람 (Human) 클래스에서 이름, 나이, 성별을 출력하는 who() 메소드를 추가하세요."
   ]
  },
  {
   "cell_type": "code",
   "execution_count": 45,
   "id": "4b594134",
   "metadata": {},
   "outputs": [
    {
     "name": "stdout",
     "output_type": "stream",
     "text": [
      "이름: 아름, 나이: 25, 성별: 여자\n"
     ]
    }
   ],
   "source": [
    "class Human:\n",
    "    def __init__(self, name, age, sex):\n",
    "        self.name = name\n",
    "        self.age = age\n",
    "        self.sex = sex\n",
    "    \n",
    "    def who(self):\n",
    "        print(f'이름: {self.name}, 나이: {self.age}, 성별: {self.sex}')\n",
    "        \n",
    "areum = Human(\"아름\", 25, \"여자\")\n",
    "areum.who()      # = Human.who(areum)"
   ]
  },
  {
   "cell_type": "markdown",
   "id": "d4d4eb05",
   "metadata": {},
   "source": [
    "### #258. 사람 (Human) 클래스에 (이름, 나이, 성별)을 받는 setInfo 메소드를 추가하세요."
   ]
  },
  {
   "cell_type": "code",
   "execution_count": 46,
   "id": "54ad4ae7",
   "metadata": {},
   "outputs": [
    {
     "name": "stdout",
     "output_type": "stream",
     "text": [
      "이름: 불명, 나이: 미상, 성별: 모름\n",
      "이름: 아름, 나이: 25, 성별: 여자\n"
     ]
    }
   ],
   "source": [
    "class Human:\n",
    "    def __init__(self, name, age, sex):\n",
    "        self.name = name\n",
    "        self.age = age\n",
    "        self.sex = sex\n",
    "        \n",
    "    def who(self):\n",
    "        print(f'이름: {self.name}, 나이: {self.age}, 성별: {self.sex}')\n",
    "        \n",
    "    def setInfo(self, name, age, sex):\n",
    "        self.name = name\n",
    "        self.age = age\n",
    "        self.sex = sex\n",
    "        \n",
    "areum = Human(\"불명\", \"미상\", \"모름\")\n",
    "areum.who()      # Human.who(areum)\n",
    "\n",
    "areum.setInfo(\"아름\", 25, \"여자\")\n",
    "areum.who()      # Human.who(areum)"
   ]
  },
  {
   "cell_type": "markdown",
   "id": "9fed96c7",
   "metadata": {},
   "source": [
    "### #259. 사람 (human) 클래스에 \"나의 죽음을 알리지 말라\"를 출력하는 소멸자를 추가하세요."
   ]
  },
  {
   "cell_type": "code",
   "execution_count": 47,
   "id": "ad0c10db",
   "metadata": {},
   "outputs": [
    {
     "name": "stdout",
     "output_type": "stream",
     "text": [
      "나의 죽음을 알리지 말라\n"
     ]
    }
   ],
   "source": [
    "class Human:\n",
    "    def __init__(self, name, age, sex):\n",
    "        self.name = name\n",
    "        self.age = age\n",
    "        self.sex = sex\n",
    "        \n",
    "    def __del__(self):\n",
    "        print(\"나의 죽음을 알리지 말라\")\n",
    "        \n",
    "    def who(self):\n",
    "        print(f'이름: {self.name}, 나이: {self.age}, 성별: {self.sex}')\n",
    "        \n",
    "    def setInfo(self, name, age, sex):\n",
    "        self.name = name\n",
    "        self.age = age\n",
    "        self.sex = sex\n",
    "        \n",
    "areum = Human(\"아름\", 25, \"여자\")\n",
    "del areum"
   ]
  },
  {
   "cell_type": "markdown",
   "id": "58817b93",
   "metadata": {},
   "source": [
    "### #260. 아래와 같은 에러가 발생한 원인에 대해 설명하세요."
   ]
  },
  {
   "cell_type": "code",
   "execution_count": 51,
   "id": "94ad8c9c",
   "metadata": {},
   "outputs": [
    {
     "ename": "TypeError",
     "evalue": "OMG.print() takes 0 positional arguments but 1 was given",
     "output_type": "error",
     "traceback": [
      "\u001b[0;31m---------------------------------------------------------------------------\u001b[0m",
      "\u001b[0;31mTypeError\u001b[0m                                 Traceback (most recent call last)",
      "Cell \u001b[0;32mIn[51], line 6\u001b[0m\n\u001b[1;32m      3\u001b[0m         \u001b[38;5;28mprint\u001b[39m(\u001b[38;5;124m\"\u001b[39m\u001b[38;5;124mOh my god\u001b[39m\u001b[38;5;124m\"\u001b[39m)\n\u001b[1;32m      5\u001b[0m mystock \u001b[38;5;241m=\u001b[39m OMG()\n\u001b[0;32m----> 6\u001b[0m \u001b[43mmystock\u001b[49m\u001b[38;5;241;43m.\u001b[39;49m\u001b[43mprint\u001b[49m\u001b[43m(\u001b[49m\u001b[43m)\u001b[49m\n",
      "\u001b[0;31mTypeError\u001b[0m: OMG.print() takes 0 positional arguments but 1 was given"
     ]
    }
   ],
   "source": [
    "class OMG : \n",
    "    def print() :\n",
    "        print(\"Oh my god\")\n",
    "        \n",
    "mystock = OMG()\n",
    "mystock.print()      # OMG.print(mystock)\n",
    "# OMG class의 print()메소드를 이용하기 위해서는 self로 받는 인자가 없어야 하는데 mystock이라는 인자가 있기 때문이다."
   ]
  },
  {
   "cell_type": "markdown",
   "id": "1f39457d",
   "metadata": {},
   "source": [
    "### #261. 주식 종목에 대한 정보를 저장하는 Stock 클래스를 정의해보세요. 클래스는 속성과 메서드를 갖고 있지 않습니다."
   ]
  },
  {
   "cell_type": "code",
   "execution_count": 52,
   "id": "6acb64c0",
   "metadata": {},
   "outputs": [],
   "source": [
    "class Stock:\n",
    "    pass"
   ]
  },
  {
   "cell_type": "markdown",
   "id": "610d55d1",
   "metadata": {},
   "source": [
    "### #262. Stock 클래스의 객체가 생성될 때 종목명과 종목코드를 입력 받을 수 있도록 생성자를 정의해보세요."
   ]
  },
  {
   "cell_type": "code",
   "execution_count": 54,
   "id": "88538b6e",
   "metadata": {},
   "outputs": [
    {
     "name": "stdout",
     "output_type": "stream",
     "text": [
      "삼성전자\n",
      "005930\n"
     ]
    }
   ],
   "source": [
    "class Stock:\n",
    "    def __init__(self, name, code):\n",
    "        self.name = name\n",
    "        self.code = code\n",
    "        \n",
    "삼성 = Stock(\"삼성전자\", \"005930\")\n",
    "print(삼성.name)\n",
    "print(삼성.code)"
   ]
  },
  {
   "cell_type": "markdown",
   "id": "cf1eec5d",
   "metadata": {},
   "source": [
    "### #263. 객체에 종목명을 입력할 수 있는 set_name 메서드를 추가해보세요."
   ]
  },
  {
   "cell_type": "code",
   "execution_count": 56,
   "id": "94c360fc",
   "metadata": {},
   "outputs": [
    {
     "name": "stdout",
     "output_type": "stream",
     "text": [
      "삼성전자\n"
     ]
    }
   ],
   "source": [
    "class Stock:\n",
    "    def __init__(self, name, code):\n",
    "        self.name = name\n",
    "        self.code = code\n",
    "        \n",
    "    def set_name(self, name):\n",
    "        self.name = name\n",
    "\n",
    "\n",
    "a = Stock(None, None)\n",
    "a.set_name(\"삼성전자\")\n",
    "print(a.name)"
   ]
  },
  {
   "cell_type": "markdown",
   "id": "2da0820c",
   "metadata": {},
   "source": [
    "### #264. 객체에 종목코드를 입력할 수 있는 set_code 메서드를 추가해보세요."
   ]
  },
  {
   "cell_type": "code",
   "execution_count": 57,
   "id": "2c3ea0a4",
   "metadata": {},
   "outputs": [
    {
     "name": "stdout",
     "output_type": "stream",
     "text": [
      "005930\n"
     ]
    }
   ],
   "source": [
    "class Stock:\n",
    "    def __init__(self, name, code):\n",
    "        self.name = name\n",
    "        self.code = code\n",
    "        \n",
    "    def set_name(self, name):\n",
    "        self.name = name\n",
    "        \n",
    "    def set_code(self, code):\n",
    "        self.code = code\n",
    "\n",
    "a = Stock(None, None)\n",
    "a.set_code(\"005930\")\n",
    "print(a.code)"
   ]
  },
  {
   "cell_type": "markdown",
   "id": "16bc5c5f",
   "metadata": {},
   "source": [
    "### #265. 종목명과 종목코드를 리턴하는 get_name, get_code 메서드를 추가하세요. 해당 메서드를 사용하여 종목명과 종목코드를 얻고 이를 출력해보세요."
   ]
  },
  {
   "cell_type": "code",
   "execution_count": 60,
   "id": "0de3665d",
   "metadata": {},
   "outputs": [
    {
     "name": "stdout",
     "output_type": "stream",
     "text": [
      "삼성전자\n",
      "005930\n",
      "삼성전자\n",
      "005930\n"
     ]
    }
   ],
   "source": [
    "class Stock:\n",
    "    def __init__(self, name, code):\n",
    "        self.name = name\n",
    "        self.code = code\n",
    "        \n",
    "    def set_name(self, name):\n",
    "        self.name = name\n",
    "        \n",
    "    def set_code(self, code):\n",
    "        self.code = code\n",
    "        \n",
    "    def get_name(self):\n",
    "        return self.name\n",
    "        \n",
    "    def get_code(self):\n",
    "        return self.code\n",
    "    \n",
    "삼성 = Stock(\"삼성전자\", \"005930\")\n",
    "print(삼성.name)\n",
    "print(삼성.code)\n",
    "print(삼성.get_name())\n",
    "print(삼성.get_code())"
   ]
  },
  {
   "cell_type": "markdown",
   "id": "d214ad15",
   "metadata": {},
   "source": [
    "### #266. 생성자에서 종목명, 종목코드, PER, PBR, 배당수익률을 입력 받을 수 있도록 생성자를 수정하세요. PER, PBR, 배당수익률은 float 타입입니다."
   ]
  },
  {
   "cell_type": "code",
   "execution_count": 63,
   "id": "e26ab2a1",
   "metadata": {},
   "outputs": [],
   "source": [
    "class Stock:\n",
    "    def __init__(self, name, code, per, pbr, dividend):\n",
    "        self.name = name\n",
    "        self.code = code\n",
    "        self.per = per\n",
    "        self.pbr = pbr\n",
    "        self.dividend = dividend\n",
    "        \n",
    "    def set_name(self, name):\n",
    "        self.name = name\n",
    "        \n",
    "    def set_code(self, code):\n",
    "        self.code = code\n",
    "        \n",
    "    def get_name(self):\n",
    "        return self.name\n",
    "        \n",
    "    def get_code(self):\n",
    "        return self.code"
   ]
  },
  {
   "cell_type": "markdown",
   "id": "963aa35a",
   "metadata": {},
   "source": [
    "### #267. 266번에서 정의한 생성자를 통해 다음 정보를 갖는 객체를 생성해보세요.\n",
    "\n",
    "> 항목 / 정보  \n",
    "종목명 / 삼성전자  \n",
    "종목코드 / 005930  \n",
    "PER / 15.79  \n",
    "PBR / 1.33  \n",
    "배당수익률 / 2.83"
   ]
  },
  {
   "cell_type": "code",
   "execution_count": 64,
   "id": "f25ad6c4",
   "metadata": {},
   "outputs": [
    {
     "name": "stdout",
     "output_type": "stream",
     "text": [
      "삼성전자\n",
      "005930\n",
      "15.79\n",
      "1.33\n",
      "2.83\n"
     ]
    }
   ],
   "source": [
    "삼성 = Stock(\"삼성전자\", \"005930\", 15.79, 1.33, 2.83)\n",
    "print(삼성.name)\n",
    "print(삼성.code)\n",
    "print(삼성.per)\n",
    "print(삼성.pbr)\n",
    "print(삼성.dividend)"
   ]
  },
  {
   "cell_type": "markdown",
   "id": "e4ca7693",
   "metadata": {},
   "source": [
    "### #268. PER, PBR, 배당수익률은 변경될 수 있는 값입니다. 이 값을 변경할 때 사용하는 set_per, set_pbr, set_dividend 메서드를 추가하세요."
   ]
  },
  {
   "cell_type": "code",
   "execution_count": 65,
   "id": "318023a1",
   "metadata": {},
   "outputs": [],
   "source": [
    "class Stock:\n",
    "    def __init__(self, name, code, per, pbr, dividend):\n",
    "        self.name = name\n",
    "        self.code = code\n",
    "        self.per = per\n",
    "        self.pbr = pbr\n",
    "        self.dividend = dividend\n",
    "        \n",
    "    def set_name(self, name):\n",
    "        self.name = name\n",
    "        \n",
    "    def set_code(self, code):\n",
    "        self.code = code\n",
    "        \n",
    "    def get_name(self):\n",
    "        return self.name\n",
    "        \n",
    "    def get_code(self):\n",
    "        return self.code\n",
    "    \n",
    "    def set_per(self, per):\n",
    "        self.per = per\n",
    "        \n",
    "    def set_pbr(self, pbr):\n",
    "        self.pbr = pbr\n",
    "        \n",
    "    def set_dividend(self, dividend):\n",
    "        self.dividend = dividend"
   ]
  },
  {
   "cell_type": "markdown",
   "id": "dc6317ca",
   "metadata": {},
   "source": [
    "### #269. 267번에서 생성한 객체에 set_per 메서드를 호출하여 per 값을 12.75로 수정해보세요."
   ]
  },
  {
   "cell_type": "code",
   "execution_count": 67,
   "id": "57e12f23",
   "metadata": {},
   "outputs": [
    {
     "name": "stdout",
     "output_type": "stream",
     "text": [
      "12.75\n"
     ]
    }
   ],
   "source": [
    "삼성 = Stock(\"삼성전자\", \"005930\", 15.79, 1.33, 2.83)\n",
    "삼성.set_per(12.75)\n",
    "print(삼성.per)"
   ]
  },
  {
   "cell_type": "markdown",
   "id": "ea8ddee8",
   "metadata": {},
   "source": [
    "### #270. 아래의 표를 참조하여 3종목에 대해 객체를 생성하고 이를 파이썬 리스트에 저장하세요. 파이썬 리스트에 저장된 각 종목에 대해 for 루프를 통해 종목코드와 PER을 출력해보세요.\n",
    "\n",
    ">종목명 / 종목코드 / PER / PBR / 배당수익률  \n",
    "삼성전자 / 005930 / 15.79 / 1.33 / 2.83  \n",
    "현대차 / 005380 / 8.70\t/ 0.35 / 4.27  \n",
    "LG전자 / 066570 / 317.34 / 0.69 / 1.37"
   ]
  },
  {
   "cell_type": "code",
   "execution_count": 68,
   "id": "45ee36a3",
   "metadata": {},
   "outputs": [
    {
     "name": "stdout",
     "output_type": "stream",
     "text": [
      "005930 15.79\n",
      "005380 8.7\n",
      "066570 317.34\n"
     ]
    }
   ],
   "source": [
    "종목 = []\n",
    "\n",
    "삼성 = Stock(\"삼성전자\", \"005930\", 15.79, 1.33, 2.83)\n",
    "현대 = Stock(\"현대차\", \"005380\", 8.70, 0.35, 4.27)\n",
    "LG = Stock(\"LG전자\", \"066570\", 317.34, 0.69, 1.37)\n",
    "\n",
    "종목.append(삼성)\n",
    "종목.append(현대)\n",
    "종목.append(LG)\n",
    "\n",
    "for i in 종목:\n",
    "    print(i.code, i.per)"
   ]
  },
  {
   "cell_type": "markdown",
   "id": "c691e7ce",
   "metadata": {},
   "source": [
    "### #271. 은행에 가서 계좌를 개설하면 은행이름, 예금주, 계좌번호, 잔액이 설정됩니다. Account 클래스를 생성한 후 생성자를 구현해보세요. 생성자에서는 예금주와 초기 잔액만 입력 받습니다. 은행이름은 SC은행으로 계좌번호는 3자리-2자리-6자리 형태로 랜덤하게 생성됩니다."
   ]
  },
  {
   "cell_type": "code",
   "execution_count": 1,
   "id": "5738d8cc",
   "metadata": {},
   "outputs": [
    {
     "name": "stdout",
     "output_type": "stream",
     "text": [
      "김민수\n",
      "100\n",
      "sc은행\n",
      "620-94-671394\n"
     ]
    }
   ],
   "source": [
    "import random\n",
    "\n",
    "class Account:\n",
    "    def __init__(self, name, balance):\n",
    "        self.name = name\n",
    "        self.balance = balance\n",
    "        self.bank = \"sc은행\"\n",
    "        num1 = random.randint(0, 999)\n",
    "        num2 = random.randint(0, 99)\n",
    "        num3 = random.randint(0, 999999)\n",
    "        \n",
    "        num1 = str(num1).zfill(3)\n",
    "        num2 = str(num2).zfill(2)\n",
    "        num3 = str(num3).zfill(6)\n",
    "        \n",
    "        self.account = num1 + \"-\" + num2 + \"-\" + num3\n",
    "        \n",
    "kim = Account(\"김민수\", 100)\n",
    "print(kim.name)\n",
    "print(kim.balance)\n",
    "print(kim.bank)\n",
    "print(kim.account)"
   ]
  },
  {
   "cell_type": "markdown",
   "id": "c95cdc8f",
   "metadata": {},
   "source": [
    "- [random() 함수](https://blockdmask.tistory.com/383)   \n",
    "- [zfill() 함수](https://kkamikoon.tistory.com/entry/Python-%EC%8A%A4%ED%8A%B8%EB%A7%81-%EC%95%9E%EC%97%90-0-%EC%B1%84%EC%9A%B0%EB%8A%94-%EB%B0%A9%EB%B2%95zfill-rjust)"
   ]
  },
  {
   "cell_type": "markdown",
   "id": "fe1a8055",
   "metadata": {},
   "source": [
    "### #272. 클래스 변수를 사용해서 Account 클래스로부터 생성된 계좌 객체의 개수를 저장하세요."
   ]
  },
  {
   "cell_type": "code",
   "execution_count": 1,
   "id": "8b9f1fd9",
   "metadata": {},
   "outputs": [
    {
     "name": "stdout",
     "output_type": "stream",
     "text": [
      "1\n",
      "2\n"
     ]
    }
   ],
   "source": [
    "import random\n",
    "\n",
    "class Account:\n",
    "    \n",
    "    count = 0   # class variable\n",
    "    \n",
    "    def __init__(self, name, balance):\n",
    "        self.name = name\n",
    "        self.balance = balance\n",
    "        self.bank = \"sc은행\"\n",
    "        \n",
    "        num1 = random.randint(0, 999)\n",
    "        num2 = random.randint(0, 99)\n",
    "        num3 = random.randint(0, 999999)\n",
    "        \n",
    "        num1 = str(num1).zfill(3)\n",
    "        num2 = str(num2).zfill(2)\n",
    "        num3 = str(num3).zfill(6)\n",
    "        self.account = num1 + \"-\" + num2 + \"-\" + num3\n",
    "        \n",
    "        Account.count += 1\n",
    "        \n",
    "kim = Account(\"김민수\", 100)\n",
    "print(Account.count)\n",
    "lee = Account(\"이민수\", 100)\n",
    "print(Account.count)"
   ]
  },
  {
   "cell_type": "markdown",
   "id": "710f27b3",
   "metadata": {},
   "source": [
    "### #273. Account 클래스로부터 생성된 계좌의 개수를 출력하는 get_account_num() 메서드를 추가하세요."
   ]
  },
  {
   "cell_type": "code",
   "execution_count": 2,
   "id": "9a271f77",
   "metadata": {},
   "outputs": [
    {
     "name": "stdout",
     "output_type": "stream",
     "text": [
      "2\n"
     ]
    }
   ],
   "source": [
    "import random\n",
    "\n",
    "class Account:\n",
    "    \n",
    "    count = 0    # class variable\n",
    "    \n",
    "    def __init__(self, name, balance):\n",
    "        self.name = name\n",
    "        self.balance = balance\n",
    "        self.bank = \"sc은행\"\n",
    "        \n",
    "        num1 = random.randint(0, 999)\n",
    "        num2 = random.randint(0, 99)\n",
    "        num3 = random.randint(0, 999999)\n",
    "        \n",
    "        num1 = str(num1).zfill(3)\n",
    "        num2 = str(num2).zfill(2)\n",
    "        num3 = str(num3).zfill(6)\n",
    "        self.account = num1 + \"-\" + num2 + \"-\" + num3\n",
    "        \n",
    "        Account.count += 1\n",
    "        \n",
    "#    def get_account_num():       # self는 어떤 객체로부터 정보를 가져올지 나타내는 존재.\n",
    "#        print(Account.count)     # account_num는 어떤 객체로부터 나오는 정보가 아니라 Account class에서 나오는 정보이므로 인자를 없앤다.\n",
    "\n",
    "    @classmethod                  # 이런 식으로 작성하면 kim.get_account_num()를 사용하더라도 class에 접근한다.\n",
    "    def get_account_num(cls):\n",
    "        print(cls.count)\n",
    "\n",
    "kim = Account(\"김민수\", 100)\n",
    "lee = Account(\"이민수\", 100)\n",
    "#Account.get_account_num()\n",
    "kim.get_account_num()  # Account.get_account_num(kim)"
   ]
  },
  {
   "cell_type": "markdown",
   "id": "c6dc9d90",
   "metadata": {},
   "source": [
    "### #274. Account 클래스에 입금을 위한 deposit 메서드를 추가하세요. 입금은 최소 1원 이상만 가능합니다."
   ]
  },
  {
   "cell_type": "code",
   "execution_count": 1,
   "id": "3e52b20f",
   "metadata": {},
   "outputs": [],
   "source": [
    "import random\n",
    "\n",
    "class Account:\n",
    "    \n",
    "    count = 0\n",
    "    \n",
    "    def __init__(self, name, balance):\n",
    "        self.name = name\n",
    "        self.balance = balance\n",
    "        self.bank = \"sc은행\"\n",
    "        \n",
    "        num1 = random.randint(0, 999)\n",
    "        num2 = random.randint(0, 99)\n",
    "        num3 = random.randint(0, 999999)\n",
    "        \n",
    "        num1 = str(num1).zfill(3)\n",
    "        num2 = str(num2).zfill(2)\n",
    "        num3 = str(num3).zfill(6)\n",
    "        self.account = num1 + \"-\" + num2 + \"-\" + num3\n",
    "        \n",
    "        Account.count += 1\n",
    "        \n",
    "    @classmethod\n",
    "    def get_account_num(cls):\n",
    "        pirnt(cls.count)\n",
    "        \n",
    "    def deposit(self, amount):\n",
    "        if amount >= 1:\n",
    "            self.balance +=amount"
   ]
  },
  {
   "cell_type": "markdown",
   "id": "e818f424",
   "metadata": {},
   "source": [
    "### #275. Account 클래스에 출금을 위한 withdraw 메서드를 추가하세요. 출금은 계좌의 잔고 이상으로 출금할 수는 없습니다."
   ]
  },
  {
   "cell_type": "code",
   "execution_count": 8,
   "id": "9fb2f417",
   "metadata": {},
   "outputs": [
    {
     "name": "stdout",
     "output_type": "stream",
     "text": [
      "110\n"
     ]
    }
   ],
   "source": [
    "import random\n",
    "\n",
    "class Account:\n",
    "    \n",
    "    count = 0\n",
    "    \n",
    "    def __init__(self, name, balance):\n",
    "        self.name = name\n",
    "        self.balance = balance\n",
    "        self.bank = \"sc은행\"\n",
    "        \n",
    "        num1 = random.randint(0, 999)\n",
    "        num2 = random.randint(0, 99)\n",
    "        num3 = random.randint(0, 999999)\n",
    "        \n",
    "        num1 = str(num1).zfill(3)\n",
    "        num2 = str(num2).zfill(2)\n",
    "        num3 = str(num3).zfill(6)\n",
    "        self.account = num1 + \"-\" + num2 + \"-\" + num3\n",
    "        \n",
    "        Account.count += 1\n",
    "    \n",
    "    @classmethod\n",
    "    def get_account_num(cls):\n",
    "        print(cls.count)\n",
    "        \n",
    "    def deposit(self, amount):\n",
    "        if amount >= 1:\n",
    "            self.balance += amount\n",
    "        \n",
    "    def withdraw(self, amount):\n",
    "        if self.balance > amount:    # balance 앞에 받을 인자를 써주어야 한다.\n",
    "            self.balance -= amount\n",
    "        \n",
    "k = Account(\"kim\", 100)\n",
    "k.deposit(100)\n",
    "k.withdraw(90)\n",
    "print(k.balance)"
   ]
  },
  {
   "cell_type": "markdown",
   "id": "55432362",
   "metadata": {},
   "source": [
    "### #276. Account 인스턴스에 저장된 정보를 출력하는 display_info() 메서드를 추가하세요. 잔고는 세자리마다 쉼표를 출력하세요."
   ]
  },
  {
   "cell_type": "code",
   "execution_count": 11,
   "id": "f1db430f",
   "metadata": {},
   "outputs": [
    {
     "name": "stdout",
     "output_type": "stream",
     "text": [
      "은행이름: sc은행\n",
      "예금주: 파이썬\n",
      "계좌번호: 266-12-661099\n",
      "잔고: 10,000\n"
     ]
    }
   ],
   "source": [
    "import random\n",
    "\n",
    "class Account:\n",
    "    \n",
    "    count = 0\n",
    "    \n",
    "    def __init__(self, name, balance):\n",
    "        self.name = name\n",
    "        self.balance = balance\n",
    "        self.bank = \"sc은행\"\n",
    "        \n",
    "        num1 = random.randint(0, 999)\n",
    "        num2 = random.randint(0, 99)\n",
    "        num3 = random.randint(0, 999999)\n",
    "        \n",
    "        num1 = str(num1).zfill(3)\n",
    "        num2 = str(num2).zfill(2)\n",
    "        num3 = str(num3).zfill(6)\n",
    "        self.account = num1 + \"-\" + num2 + \"-\" + num3\n",
    "        \n",
    "        Account.count += 1\n",
    "    \n",
    "    @classmethod\n",
    "    def get_account_num(cls):\n",
    "        print(cls.count)\n",
    "        \n",
    "    def deposit(self, amount):\n",
    "        if amount >= 1:\n",
    "            self.balance += amount\n",
    "        \n",
    "    def withdraw(self, amount):\n",
    "        if self.balance > amount:\n",
    "            self.balance -= amount\n",
    "            \n",
    "    def display_info(self):\n",
    "        print(\"은행이름:\", self.bank)\n",
    "        print(\"예금주:\", self.name)\n",
    "        print(\"계좌번호:\", self.account)\n",
    "        print(\"잔고:\", f'{self.balance:,}')\n",
    "        \n",
    "p = Account(\"파이썬\", 10000)\n",
    "p.display_info()"
   ]
  },
  {
   "cell_type": "markdown",
   "id": "65254d82",
   "metadata": {},
   "source": [
    "- [숫자에 , 넣는 4가지 방법](https://codechacha.com/ko/python-number-format-comma/)"
   ]
  },
  {
   "cell_type": "markdown",
   "id": "60930e14",
   "metadata": {},
   "source": [
    "### #277. 입금 횟수가 5회가 될 때 잔고를 기준으로 1%의 이자가 잔고에 추가되도록 코드를 변경해보세요."
   ]
  },
  {
   "cell_type": "code",
   "execution_count": 12,
   "id": "02873bb0",
   "metadata": {},
   "outputs": [
    {
     "name": "stdout",
     "output_type": "stream",
     "text": [
      "50500.0\n"
     ]
    }
   ],
   "source": [
    "import random\n",
    "\n",
    "class Account:\n",
    "    \n",
    "    count = 0\n",
    "    \n",
    "    def __init__(self, name, balance):\n",
    "        self.deposit_count = 0\n",
    "        \n",
    "        self.name = name\n",
    "        self.balance = balance\n",
    "        self.bank = \"sc은행\"\n",
    "        \n",
    "        num1 = random.randint(0, 999)\n",
    "        num2 = random.randint(0, 99)\n",
    "        num3 = random.randint(0, 999999)\n",
    "        \n",
    "        num1 = str(num1).zfill(3)\n",
    "        num2 = str(num2).zfill(2)\n",
    "        num3 = str(num3).zfill(6)\n",
    "        self.account = num1 + \"-\" + num2 + \"-\" + num3\n",
    "        \n",
    "        Account.count += 1\n",
    "    \n",
    "    @classmethod\n",
    "    def get_account_num(cls):\n",
    "        print(cls.count)\n",
    "        \n",
    "    def deposit(self, amount):\n",
    "        if amount >= 1:\n",
    "            self.balance += amount\n",
    "            \n",
    "        self.deposit_count += 1\n",
    "        if self.deposit_count % 5 == 0:\n",
    "            self.balance *= 1.01\n",
    "        \n",
    "    def withdraw(self, amount):\n",
    "        if self.balance > amount:\n",
    "            self.balance -= amount\n",
    "            \n",
    "    def display_info(self):\n",
    "        print(\"은행이름:\", self.bank)\n",
    "        print(\"예금주:\", self.name)\n",
    "        print(\"계좌번호:\", self.account)\n",
    "        print(\"잔고:\", f'{self.balance:,}')\n",
    "        \n",
    "p = Account(\"파이썬\", 10000)\n",
    "p.deposit(10000)\n",
    "p.deposit(10000)\n",
    "p.deposit(10000)\n",
    "p.deposit(5000)\n",
    "p.deposit(5000)\n",
    "print(p.balance)"
   ]
  },
  {
   "cell_type": "markdown",
   "id": "ed013361",
   "metadata": {},
   "source": [
    "### #278. Account 클래스로부터 3개 이상 인스턴스를 생성하고 생성된 인스턴스를 리스트에 저장해보세요."
   ]
  },
  {
   "cell_type": "code",
   "execution_count": 13,
   "id": "3bc03006",
   "metadata": {},
   "outputs": [
    {
     "name": "stdout",
     "output_type": "stream",
     "text": [
      "[<__main__.Account object at 0x105c5e980>, <__main__.Account object at 0x105c00160>, <__main__.Account object at 0x105dad120>]\n"
     ]
    }
   ],
   "source": [
    "import random\n",
    "\n",
    "class Account:\n",
    "    \n",
    "    count = 0\n",
    "    \n",
    "    def __init__(self, name, balance):\n",
    "        self.deposit_count = 0\n",
    "        \n",
    "        self.name = name\n",
    "        self.balance = balance\n",
    "        self.bank = \"sc은행\"\n",
    "        \n",
    "        num1 = random.randint(0, 999)\n",
    "        num2 = random.randint(0, 99)\n",
    "        num3 = random.randint(0, 999999)\n",
    "        \n",
    "        num1 = str(num1).zfill(3)\n",
    "        num2 = str(num2).zfill(2)\n",
    "        num3 = str(num3).zfill(6)\n",
    "        self.account = num1 + \"-\" + num2 + \"-\" + num3\n",
    "        \n",
    "        Account.count += 1\n",
    "    \n",
    "    @classmethod\n",
    "    def get_account_num(cls):\n",
    "        print(cls.count)\n",
    "        \n",
    "    def deposit(self, amount):\n",
    "        if amount >= 1:\n",
    "            self.balance += amount\n",
    "            \n",
    "        self.deposit_count += 1\n",
    "        if self.deposit_count % 5 == 0:\n",
    "            self.balance *= 1.01\n",
    "        \n",
    "    def withdraw(self, amount):\n",
    "        if self.balance > amount:\n",
    "            self.balance -= amount\n",
    "            \n",
    "    def display_info(self):\n",
    "        print(\"은행이름:\", self.bank)\n",
    "        print(\"예금주:\", self.name)\n",
    "        print(\"계좌번호:\", self.account)\n",
    "        print(\"잔고:\", f'{self.balance:,}')\n",
    "        \n",
    "\n",
    "data = []        \n",
    "k = Account(\"kim\", 100000)\n",
    "l = Account(\"lee\", 1000)\n",
    "p = Account(\"Park\", 10000)\n",
    "\n",
    "data.append(k)\n",
    "data.append(l)\n",
    "data.append(p)\n",
    "\n",
    "print(data)"
   ]
  },
  {
   "cell_type": "markdown",
   "id": "8476c470",
   "metadata": {},
   "source": [
    "### #279. 반복문을 통해 리스트에 있는 객체를 순회하면서 잔고가 100만원 이상인 고객의 정보만 출력하세요."
   ]
  },
  {
   "cell_type": "code",
   "execution_count": 23,
   "id": "198ab750",
   "metadata": {},
   "outputs": [
    {
     "name": "stdout",
     "output_type": "stream",
     "text": [
      "은행이름: sc은행\n",
      "예금주: kim\n",
      "계좌번호: 238-41-219814\n",
      "잔고: 1,000,000,000\n",
      "은행이름: sc은행\n",
      "예금주: Park\n",
      "계좌번호: 409-72-362518\n",
      "잔고: 1,000,000\n"
     ]
    }
   ],
   "source": [
    "import random\n",
    "\n",
    "class Account:\n",
    "    \n",
    "    count = 0\n",
    "    \n",
    "    def __init__(self, name, balance):\n",
    "        self.deposit_count = 0\n",
    "        \n",
    "        self.name = name\n",
    "        self.balance = balance\n",
    "        self.bank = \"sc은행\"\n",
    "        \n",
    "        num1 = random.randint(0, 999)\n",
    "        num2 = random.randint(0, 99)\n",
    "        num3 = random.randint(0, 999999)\n",
    "        \n",
    "        num1 = str(num1).zfill(3)\n",
    "        num2 = str(num2).zfill(2)\n",
    "        num3 = str(num3).zfill(6)\n",
    "        self.account = num1 + \"-\" + num2 + \"-\" + num3\n",
    "        \n",
    "        Account.count += 1\n",
    "    \n",
    "    @classmethod\n",
    "    def get_account_num(cls):\n",
    "        print(cls.count)\n",
    "        \n",
    "    def deposit(self, amount):\n",
    "        if amount >= 1:\n",
    "            self.balance += amount\n",
    "            \n",
    "        self.deposit_count += 1\n",
    "        if self.deposit_count % 5 == 0:\n",
    "            self.balance *= 1.01\n",
    "        \n",
    "    def withdraw(self, amount):\n",
    "        if self.balance > amount:\n",
    "            self.balance -= amount\n",
    "            \n",
    "    def display_info(self):\n",
    "        print(\"은행이름:\", self.bank)\n",
    "        print(\"예금주:\", self.name)\n",
    "        print(\"계좌번호:\", self.account)\n",
    "        print(\"잔고:\", f'{self.balance:,}')\n",
    "        \n",
    "\n",
    "data = []        \n",
    "k = Account(\"kim\", 1000000000)\n",
    "l = Account(\"lee\", 10000)\n",
    "p = Account(\"Park\", 1000000)\n",
    "\n",
    "data.append(k)\n",
    "data.append(l)\n",
    "data.append(p)\n",
    "\n",
    "for i in data:\n",
    "    if i.balance >= 1000000:\n",
    "        i.display_info()"
   ]
  },
  {
   "cell_type": "markdown",
   "id": "af358720",
   "metadata": {},
   "source": [
    "### #280. 입금과 출금 내역이 기록되도록 코드를 업데이트 하세요. 입금 내역과 출금 내역을 출력하는 deposit_history와 withdraw_history 메서드를 추가하세요."
   ]
  },
  {
   "cell_type": "code",
   "execution_count": 26,
   "id": "68ebe48b",
   "metadata": {},
   "outputs": [
    {
     "name": "stdout",
     "output_type": "stream",
     "text": [
      "300\n",
      "100\n",
      "500\n",
      "-----\n",
      "200\n",
      "100\n"
     ]
    }
   ],
   "source": [
    "import random\n",
    "\n",
    "class Account:\n",
    "    \n",
    "    count = 0\n",
    "    \n",
    "    def __init__(self, name, balance):\n",
    "        self.deposit_count = 0\n",
    "        self.deposit_log = []\n",
    "        self.withdraw_log = []\n",
    "        \n",
    "        self.name = name\n",
    "        self.balance = balance\n",
    "        self.bank = \"sc은행\"\n",
    "        \n",
    "        num1 = random.randint(0, 999)\n",
    "        num2 = random.randint(0, 99)\n",
    "        num3 = random.randint(0, 999999)\n",
    "        \n",
    "        num1 = str(num1).zfill(3)\n",
    "        num2 = str(num2).zfill(2)\n",
    "        num3 = str(num3).zfill(6)\n",
    "        self.account = num1 + \"-\" + num2 + \"-\" + num3\n",
    "        \n",
    "        Account.count += 1\n",
    "    \n",
    "    @classmethod\n",
    "    def get_account_num(cls):\n",
    "        print(cls.count)\n",
    "        \n",
    "    def deposit(self, amount):\n",
    "        if amount >= 1:\n",
    "            self.deposit_log.append(amount)\n",
    "            self.balance += amount\n",
    "            \n",
    "        self.deposit_count += 1\n",
    "        if self.deposit_count % 5 == 0:\n",
    "            self.balance *= 1.01\n",
    "        \n",
    "    def withdraw(self, amount):\n",
    "        if self.balance > amount:\n",
    "            self.withdraw_log.append(amount)\n",
    "            self.balance -= amount\n",
    "            \n",
    "    def display_info(self):\n",
    "        print(\"은행이름:\", self.bank)\n",
    "        print(\"예금주:\", self.name)\n",
    "        print(\"계좌번호:\", self.account)\n",
    "        print(\"잔고:\", f'{self.balance:,}')\n",
    "        \n",
    "    def deposit_history(self):\n",
    "        for m in self.deposit_log:\n",
    "            print(m)\n",
    "    \n",
    "    def withdraw_history(self):\n",
    "        for n in self.withdraw_log:\n",
    "            print(n)\n",
    "            \n",
    "k = Account(\"kim\", 1000)\n",
    "k.deposit(300)\n",
    "k.deposit(100)\n",
    "k.withdraw(200)\n",
    "k.deposit(500)\n",
    "k.withdraw(100)\n",
    "\n",
    "k.deposit_history()\n",
    "print(\"-----\")\n",
    "k.withdraw_history()"
   ]
  },
  {
   "cell_type": "markdown",
   "id": "a8e0df1b",
   "metadata": {},
   "source": [
    "### #281. 다음 코드가 동작하도록 차 클래스를 정의하세요.\n",
    "\n",
    "> car = 차(2, 1000)  \n",
    "> car.바퀴  \n",
    "-> 2\n",
    "\n",
    "> car.가격  \n",
    "-> 1000"
   ]
  },
  {
   "cell_type": "code",
   "execution_count": 2,
   "id": "d69163ff",
   "metadata": {},
   "outputs": [
    {
     "name": "stdout",
     "output_type": "stream",
     "text": [
      "2\n",
      "1000\n"
     ]
    }
   ],
   "source": [
    "class 차:\n",
    "    def __init__(self, 바퀴, 가격):\n",
    "        self.바퀴 = 바퀴\n",
    "        self.가격 = 가격\n",
    "        \n",
    "car = 차(2, 1000)\n",
    "print(car.바퀴)\n",
    "print(car.가격)"
   ]
  },
  {
   "cell_type": "markdown",
   "id": "828d0dd7",
   "metadata": {},
   "source": [
    "### #282. 차 클래스를 상속받은 자전차 클래스를 정의하세요."
   ]
  },
  {
   "cell_type": "code",
   "execution_count": 3,
   "id": "e3a3c748",
   "metadata": {},
   "outputs": [],
   "source": [
    "class 차:\n",
    "    def __init__(self, 바퀴, 가격):\n",
    "        self.바퀴 = 바퀴\n",
    "        self.가격 = 가격\n",
    "        \n",
    "class 자전차(차):\n",
    "    pass"
   ]
  },
  {
   "cell_type": "markdown",
   "id": "81693f8e",
   "metadata": {},
   "source": [
    "### #283. 다음 코드가 동작하도록 자전차 클래스를 정의하세요. 단 자전차 클래스는 차 클래스를 상속받습니다.\n",
    "\n",
    "> bicycle = 자전차(2, 100)  \n",
    "> bicycle.가격  \n",
    "-> 100"
   ]
  },
  {
   "cell_type": "code",
   "execution_count": 5,
   "id": "206cbdfb",
   "metadata": {},
   "outputs": [
    {
     "name": "stdout",
     "output_type": "stream",
     "text": [
      "100\n"
     ]
    }
   ],
   "source": [
    "class 차:\n",
    "    def __init__(self, 바퀴, 가격):\n",
    "        self.바퀴 = 바퀴\n",
    "        self.가격 = 가격\n",
    "        \n",
    "class 자전차(차):\n",
    "    def __init(self, 바퀴, 가격):\n",
    "        self.바퀴 = 바퀴\n",
    "        self.가격 = 가격\n",
    "\n",
    "bicycle = 자전차(2, 100)\n",
    "print(bicycle.가격)"
   ]
  },
  {
   "cell_type": "markdown",
   "id": "d215bc89",
   "metadata": {},
   "source": [
    "### #284. 다음 코드가 동작하도록 자전차 클래스를 정의하세요. 단 자전차 클래스는 차 클래스를 상속받습니다.\n",
    "\n",
    "> bicycle = 자전차(2, 100, \"시마노\")  \n",
    "> bicycle.구동계  \n",
    "-> 시마노"
   ]
  },
  {
   "cell_type": "code",
   "execution_count": 2,
   "id": "a289751e",
   "metadata": {},
   "outputs": [
    {
     "name": "stdout",
     "output_type": "stream",
     "text": [
      "시마노\n"
     ]
    }
   ],
   "source": [
    "class 차:\n",
    "    def __init__(self, 바퀴, 가격):\n",
    "        self.바퀴 = 바퀴\n",
    "        self.가격 = 가격\n",
    "        \n",
    "class 자전차(차):\n",
    "    def __init__(self, 바퀴, 가격, 구동계):\n",
    "        super().__init__(바퀴, 가격)       #차.__init__(self, 바퀴, 가격)\n",
    "        self.구동계 = 구동계\n",
    "        \n",
    "bicycle = 자전차(2, 100, \"시마노\")\n",
    "print(bicycle.구동계)"
   ]
  },
  {
   "cell_type": "markdown",
   "id": "7bb545c7",
   "metadata": {},
   "source": [
    "### #285. 다음 코드가 동작하도록 차 클래스를 상속받는 자동차 클래스를 정의하세요.\n",
    "\n",
    "> car = 자동차(4, 1000)  \n",
    "> car.정보()  \n",
    "-> 바퀴수 4  \n",
    "-> 가격 1000"
   ]
  },
  {
   "cell_type": "code",
   "execution_count": 3,
   "id": "b0ab59f9",
   "metadata": {},
   "outputs": [
    {
     "name": "stdout",
     "output_type": "stream",
     "text": [
      "바퀴수 4\n",
      "가격 1000\n"
     ]
    }
   ],
   "source": [
    "class 차:\n",
    "    def __init__(self, 바퀴, 가격):\n",
    "        self.바퀴 = 바퀴\n",
    "        self.가격 = 가격\n",
    "        \n",
    "class 자동차(차):\n",
    "    def __init(self, 바퀴, 가격):\n",
    "        super().__init__(바퀴, 가격)\n",
    "        \n",
    "    def 정보(self):\n",
    "        print(\"바퀴수\", self.바퀴)\n",
    "        print(\"가격\", self.가격)\n",
    "        \n",
    "car = 자동차(4, 1000)\n",
    "car.정보()"
   ]
  },
  {
   "cell_type": "markdown",
   "id": "2a839656",
   "metadata": {},
   "source": [
    "### #286. 부모 클래스 생성자 호출 - 다음 코드가 동작하도록 차 클래스를 수정하세요.\n",
    " \n",
    "> bicycle = 자전차(2, 100, \"시마노\")  \n",
    "> bicycle.정보()    \n",
    "-> 바퀴수 2  \n",
    "-> 가격 100"
   ]
  },
  {
   "cell_type": "code",
   "execution_count": 4,
   "id": "3ff02722",
   "metadata": {},
   "outputs": [
    {
     "name": "stdout",
     "output_type": "stream",
     "text": [
      "바퀴수 2\n",
      "가격 100\n"
     ]
    }
   ],
   "source": [
    "class 차:\n",
    "    def __init__(self, 바퀴, 가격, 구동계):\n",
    "        self.바퀴 = 바퀴\n",
    "        self.가격 = 가격\n",
    "        self.구동계 = 구동계\n",
    "        \n",
    "class 자전차(차):\n",
    "    def __init__(self, 바퀴, 가격, 구동계):\n",
    "        super().__init__(바퀴, 가격, 구동계)\n",
    "    \n",
    "    def 정보(self):\n",
    "        print(\"바퀴수\", self.바퀴)\n",
    "        print(\"가격\", self.가격)\n",
    "    \n",
    "bicycle = 자전차(2, 100, \"시마노\")\n",
    "bicycle.정보()"
   ]
  },
  {
   "cell_type": "code",
   "execution_count": 1,
   "id": "a022b64d",
   "metadata": {},
   "outputs": [
    {
     "name": "stdout",
     "output_type": "stream",
     "text": [
      "바퀴수  2\n",
      "가격  100\n"
     ]
    }
   ],
   "source": [
    "# 정답 - 문제에서 원하는 바를 잘못 파악했다. class 차에서 정보에 대한 메소드를 넣은 후 class 자동차와 class 자전차에서 상속받으면 된다.\n",
    "class 차:\n",
    "    def __init__(self, 바퀴, 가격):\n",
    "        self.바퀴 = 바퀴\n",
    "        self.가격 = 가격\n",
    "\n",
    "    def 정보(self):\n",
    "        print(\"바퀴수 \", self.바퀴)\n",
    "        print(\"가격 \", self.가격)\n",
    "\n",
    "class 자동차(차):\n",
    "    def __init__(self, 바퀴, 가격):\n",
    "        super().__init__(바퀴, 가격)\n",
    "\n",
    "class 자전차(차):\n",
    "    def __init__(self, 바퀴, 가격, 구동계):\n",
    "        super().__init__(바퀴, 가격)\n",
    "        self.구동계 = 구동계\n",
    "\n",
    "bicycle = 자전차(2, 100, \"시마노\")\n",
    "bicycle.정보()"
   ]
  },
  {
   "cell_type": "markdown",
   "id": "c02ff4df",
   "metadata": {},
   "source": [
    "### #287. 부모 클래스 메서드 호출 - 자전차의 정보() 메서드로 구동계 정보까지 출력하도록 수정해보세요.\n",
    "> bicycle = 자전차(2, 100, \"시마노\")  \n",
    "> bicycle.정보()  \n",
    "-> 바퀴수 2  \n",
    "-> 가격 100  \n",
    "-> 구동계 시마노"
   ]
  },
  {
   "cell_type": "code",
   "execution_count": 3,
   "id": "74a9e04e",
   "metadata": {},
   "outputs": [
    {
     "name": "stdout",
     "output_type": "stream",
     "text": [
      "바퀴수  2\n",
      "가격  100\n",
      "구동계 시마노\n"
     ]
    }
   ],
   "source": [
    "class 차:\n",
    "    def __init__(self, 바퀴, 가격):\n",
    "        self.바퀴 = 바퀴\n",
    "        self.가격 = 가격\n",
    "\n",
    "    def 정보(self):\n",
    "        print(\"바퀴수 \", self.바퀴)\n",
    "        print(\"가격 \", self.가격)\n",
    "\n",
    "class 자동차(차):\n",
    "    def __init__(self, 바퀴, 가격):\n",
    "        super().__init__(바퀴, 가격)\n",
    "\n",
    "class 자전차(차):\n",
    "    def __init__(self, 바퀴, 가격, 구동계):\n",
    "        super().__init__(바퀴, 가격)\n",
    "        self.구동계 = 구동계\n",
    "        \n",
    "    def 정보(self):\n",
    "        super().정보()\n",
    "        print(\"구동계\", self.구동계)\n",
    "        \n",
    "bicycle = 자전차(2, 100, \"시마노\")\n",
    "bicycle.정보()"
   ]
  },
  {
   "cell_type": "markdown",
   "id": "0a272d27",
   "metadata": {},
   "source": [
    "### #288. 메서드 오버라이딩 - 다음 코드의 실행 결과를 예상해보세요."
   ]
  },
  {
   "cell_type": "code",
   "execution_count": 5,
   "id": "82107997",
   "metadata": {},
   "outputs": [
    {
     "name": "stdout",
     "output_type": "stream",
     "text": [
      "자식호출\n"
     ]
    }
   ],
   "source": [
    "class 부모:\n",
    "  def 호출(self):\n",
    "    print(\"부모호출\")\n",
    "\n",
    "class 자식(부모):\n",
    "  def 호출(self):\n",
    "    print(\"자식호출\")\n",
    "    \n",
    "나 = 자식()\n",
    "나.호출()\n",
    "\n",
    "# 자식호출 -> super().호출() 과정이 없었기 때문에 부모 클래스의 호출 메소드가 덮어지고 자식의 호출 메소드가 적용이 되어 \"자식호출\"만 출력된다."
   ]
  },
  {
   "cell_type": "markdown",
   "id": "29e33ab6",
   "metadata": {},
   "source": [
    "### #289. 생성자 - 다음 코드의 실행 결과를 예상해보세요."
   ]
  },
  {
   "cell_type": "code",
   "execution_count": 6,
   "id": "de6e8eb6",
   "metadata": {},
   "outputs": [
    {
     "name": "stdout",
     "output_type": "stream",
     "text": [
      "자식생성\n"
     ]
    }
   ],
   "source": [
    "class 부모:\n",
    "  def __init__(self):\n",
    "    print(\"부모생성\")\n",
    "\n",
    "class 자식(부모):\n",
    "  def __init__(self):\n",
    "    print(\"자식생성\")\n",
    "    \n",
    "나 = 자식()\n",
    "# 자식생성 -> super().__init__()로 부모 클래스의 생성자를 받은 것이 아니기 때문에 자식 클래스의 생성자만 적용이 되어 \"자식생성\"이 출력된다."
   ]
  },
  {
   "cell_type": "markdown",
   "id": "3850640d",
   "metadata": {},
   "source": [
    "### #290. 부모클래스 생성자 호출 - 다음 코드의 실행 결과를 예상해보세요."
   ]
  },
  {
   "cell_type": "code",
   "execution_count": 7,
   "id": "b3ca593b",
   "metadata": {},
   "outputs": [
    {
     "name": "stdout",
     "output_type": "stream",
     "text": [
      "자식생성\n",
      "부모생성\n"
     ]
    }
   ],
   "source": [
    "class 부모:\n",
    "  def __init__(self):\n",
    "    print(\"부모생성\")\n",
    "\n",
    "class 자식(부모):\n",
    "  def __init__(self):\n",
    "    print(\"자식생성\")\n",
    "    super().__init__()\n",
    "\n",
    "나 = 자식()\n",
    "# 자식생성\n",
    "# 부모생성 -> super().__init__()로 부모 클래스의 생성자도 받았기 때문에 출력 순서대로 자식생성 뒤에 부모생성이 출력된다."
   ]
  },
  {
   "cell_type": "markdown",
   "id": "fdd55f4a",
   "metadata": {},
   "source": [
    "### #291. 파일 쓰기 - 바탕화면에 '매수종목1.txt' 파일을 생성한 후 다음과 같이 종목코드를 파일에 써보세요.\n",
    "> 005930  \n",
    "005380  \n",
    "035420  "
   ]
  },
  {
   "cell_type": "code",
   "execution_count": 30,
   "id": "28dae0bc",
   "metadata": {},
   "outputs": [],
   "source": [
    "f = open(\"/Users/soy/aiffel/매수종목1.txt\", mode=\"wt\", encoding=\"utf-8\")\n",
    "f.write(\"005930\\n\")\n",
    "f.write(\"005380\\n\")\n",
    "f.write(\"035420\")\n",
    "f.close()"
   ]
  },
  {
   "cell_type": "markdown",
   "id": "84a5b40b",
   "metadata": {},
   "source": [
    "### #292. 292 파일 쓰기 - 바탕화면에 '매수종목2.txt' 파일을 생성한 후 다음과 같이 종목코드와 종목명을 파일에 써보세요.\n",
    "> 005930 삼성전자  \n",
    "005380 현대차  \n",
    "035420 NAVER"
   ]
  },
  {
   "cell_type": "code",
   "execution_count": 31,
   "id": "9de672ee",
   "metadata": {},
   "outputs": [],
   "source": [
    "f = open(\"/Users/soy/aiffel/매수종목2.txt\", mode=\"wt\", encoding=\"utf-8\")\n",
    "f.write(\"005930 삼성전자\\n\")\n",
    "f.write(\"005380 현대차\\n\")\n",
    "f.write(\"035420 NAVER\")\n",
    "f.close()"
   ]
  },
  {
   "cell_type": "markdown",
   "id": "5c807b5d",
   "metadata": {},
   "source": [
    "### #293. CSV 파일 쓰기 - 바탕화면에 '매수종목.csv' 파일을 생성한 후 다음과 같이 종목코드와 종목명을 파일에 써보세요. 인코딩은 'cp949'를 사용해야합니다.\n",
    "![표](https://wikidocs.net/images/page/7044/ch13_csv.PNG)"
   ]
  },
  {
   "cell_type": "code",
   "execution_count": 29,
   "id": "283b8451",
   "metadata": {},
   "outputs": [],
   "source": [
    "import csv\n",
    "\n",
    "f = open(\"/Users/soy/aiffel/매수종목.csv\", mode=\"wt\", encoding=\"cp949\", newline='')\n",
    "writer = csv.writer(f)\n",
    "writer.writerow([\"종목명\", \"종목코드\",\"PER\"])\n",
    "writer.writerow([\"삼성전자\", \"005930\", 15.79])\n",
    "writer.writerow([\"NAVER\", \"035420\", 55.82])\n",
    "f.close()"
   ]
  },
  {
   "cell_type": "markdown",
   "id": "9afbf356",
   "metadata": {},
   "source": [
    "### #294. 파일 읽기 - 바탕화면에 생성한 '매수종목1.txt' 파일을 읽은 후 종목코드를 리스트에 저장해보세요.\n",
    ">005930  \n",
    "005380  \n",
    "035420"
   ]
  },
  {
   "cell_type": "code",
   "execution_count": 32,
   "id": "ccbb2d10",
   "metadata": {},
   "outputs": [
    {
     "name": "stdout",
     "output_type": "stream",
     "text": [
      "['005930', '005380', '035420']\n"
     ]
    }
   ],
   "source": [
    "f = open(\"/Users/soy/aiffel/매수종목1.txt\", encoding=\"utf-8\")\n",
    "lines = f.readlines()   # python list\n",
    "\n",
    "codes = []\n",
    "for l in lines:\n",
    "    code = l.strip()    # \\n 제거\n",
    "    codes.append(code)\n",
    "    \n",
    "print(codes)\n",
    "\n",
    "f.close()"
   ]
  },
  {
   "cell_type": "markdown",
   "id": "1782e4c4",
   "metadata": {},
   "source": [
    "### #295. 파일 읽기 - 바탕화면에 생성한 '매수종목2.txt' 파일을 읽은 후 종목코드와 종목명을 딕셔너리로 저장해보세요. 종목명을 key로 종목명을 value로 저장합니다."
   ]
  },
  {
   "cell_type": "code",
   "execution_count": 35,
   "id": "f7947311",
   "metadata": {},
   "outputs": [
    {
     "name": "stdout",
     "output_type": "stream",
     "text": [
      "{'005930': '삼성전자', '005380': '현대차', '035420': 'NAVER'}\n"
     ]
    }
   ],
   "source": [
    "f = open(\"/Users/soy/aiffel/매수종목2.txt\", encoding=\"utf-8\")\n",
    "lines = f.readlines()    # python list\n",
    "\n",
    "data = {}\n",
    "for l in lines:\n",
    "    l = l.strip()        # \\n 제거\n",
    "    k, v = l.split()\n",
    "    #print(k, v)\n",
    "    data[k] = v\n",
    "    \n",
    "print(data)\n",
    "f.close()"
   ]
  },
  {
   "cell_type": "markdown",
   "id": "46054a39",
   "metadata": {},
   "source": [
    "### #296. 예외처리 - 문자열 PER (Price to Earning Ratio) 값을 실수로 변환할 때 에러가 발생합니다. 예외처리를 통해 에러가 발생하는 PER은 0으로 출력하세요."
   ]
  },
  {
   "cell_type": "code",
   "execution_count": 36,
   "id": "7398ffa0",
   "metadata": {},
   "outputs": [
    {
     "name": "stdout",
     "output_type": "stream",
     "text": [
      "10.31\n"
     ]
    },
    {
     "ename": "ValueError",
     "evalue": "could not convert string to float: ''",
     "output_type": "error",
     "traceback": [
      "\u001b[0;31m---------------------------------------------------------------------------\u001b[0m",
      "\u001b[0;31mValueError\u001b[0m                                Traceback (most recent call last)",
      "Cell \u001b[0;32mIn[36], line 4\u001b[0m\n\u001b[1;32m      1\u001b[0m per \u001b[38;5;241m=\u001b[39m [\u001b[38;5;124m\"\u001b[39m\u001b[38;5;124m10.31\u001b[39m\u001b[38;5;124m\"\u001b[39m, \u001b[38;5;124m\"\u001b[39m\u001b[38;5;124m\"\u001b[39m, \u001b[38;5;124m\"\u001b[39m\u001b[38;5;124m8.00\u001b[39m\u001b[38;5;124m\"\u001b[39m]\n\u001b[1;32m      3\u001b[0m \u001b[38;5;28;01mfor\u001b[39;00m i \u001b[38;5;129;01min\u001b[39;00m per:\n\u001b[0;32m----> 4\u001b[0m     \u001b[38;5;28mprint\u001b[39m(\u001b[38;5;28;43mfloat\u001b[39;49m\u001b[43m(\u001b[49m\u001b[43mi\u001b[49m\u001b[43m)\u001b[49m)\n",
      "\u001b[0;31mValueError\u001b[0m: could not convert string to float: ''"
     ]
    }
   ],
   "source": [
    "per = [\"10.31\", \"\", \"8.00\"]\n",
    "\n",
    "for i in per:\n",
    "    print(float(i))"
   ]
  },
  {
   "cell_type": "code",
   "execution_count": 37,
   "id": "4256ee74",
   "metadata": {},
   "outputs": [
    {
     "name": "stdout",
     "output_type": "stream",
     "text": [
      "10.31\n",
      "0\n",
      "8.0\n"
     ]
    }
   ],
   "source": [
    "per = [\"10.31\", \"\", \"8.00\"]\n",
    "\n",
    "for i in per:\n",
    "    try:\n",
    "        print(float(i))\n",
    "    except:\n",
    "        print(0)"
   ]
  },
  {
   "cell_type": "markdown",
   "id": "52963d83",
   "metadata": {},
   "source": [
    "### #297 예외처리 및 리스트에 저장 - 문자열로 표현된 PER 값을 실수로 변환한 후 이를 새로운 리스트에 저장해보세요."
   ]
  },
  {
   "cell_type": "code",
   "execution_count": 39,
   "id": "14a13888",
   "metadata": {},
   "outputs": [
    {
     "name": "stdout",
     "output_type": "stream",
     "text": [
      "[10.31, 0, 8.0]\n"
     ]
    }
   ],
   "source": [
    "per = [\"10.31\", \"\", \"8.00\"]\n",
    "\n",
    "per_f = []\n",
    "for i in per:\n",
    "    try:\n",
    "        per_f.append(float(i))\n",
    "    except:\n",
    "        per_f.append(0)\n",
    "        \n",
    "print(per_f)"
   ]
  },
  {
   "cell_type": "markdown",
   "id": "d01e4038",
   "metadata": {},
   "source": [
    "### #298. 특정 예외만 처리하기 - 어떤 값을 0으로 나누면 ZeroDivisionError 에러가 발생합니다. try ~ except로 모든 에러에 대해 예외처리하지 말고 ZeroDivisionError 에러만 예외처리해보세요."
   ]
  },
  {
   "cell_type": "code",
   "execution_count": 46,
   "id": "9f1eaa4d",
   "metadata": {},
   "outputs": [
    {
     "ename": "ValueError",
     "evalue": "could not convert string to float: ''",
     "output_type": "error",
     "traceback": [
      "\u001b[0;31m---------------------------------------------------------------------------\u001b[0m",
      "\u001b[0;31mValueError\u001b[0m                                Traceback (most recent call last)",
      "Cell \u001b[0;32mIn[46], line 2\u001b[0m\n\u001b[1;32m      1\u001b[0m \u001b[38;5;28;01mtry\u001b[39;00m:\n\u001b[0;32m----> 2\u001b[0m     a \u001b[38;5;241m=\u001b[39m \u001b[38;5;28;43mfloat\u001b[39;49m\u001b[43m(\u001b[49m\u001b[38;5;124;43m\"\u001b[39;49m\u001b[38;5;124;43m\"\u001b[39;49m\u001b[43m)\u001b[49m\n\u001b[1;32m      3\u001b[0m \u001b[38;5;66;03m#    b = 3 / 0\u001b[39;00m\n\u001b[1;32m      4\u001b[0m \u001b[38;5;28;01mexcept\u001b[39;00m \u001b[38;5;167;01mZeroDivisionError\u001b[39;00m:\n",
      "\u001b[0;31mValueError\u001b[0m: could not convert string to float: ''"
     ]
    }
   ],
   "source": [
    "try:\n",
    "    a = float(\"\")\n",
    "#    b = 3 / 0\n",
    "except ZeroDivisionError:\n",
    "    print(\"0으로 나눌 수 없어요\")"
   ]
  },
  {
   "cell_type": "code",
   "execution_count": 47,
   "id": "60f97070",
   "metadata": {},
   "outputs": [
    {
     "name": "stdout",
     "output_type": "stream",
     "text": [
      "0으로 나눌 수 없어요\n"
     ]
    }
   ],
   "source": [
    "try:\n",
    "#    a = float(\"\")\n",
    "    b = 3 / 0\n",
    "except ZeroDivisionError:     # ZeroDivisionError만 처리.\n",
    "    print(\"0으로 나눌 수 없어요\")\n",
    "    \n",
    "# 모든 에러를 처리하고 싶으면 except: 사용. 또 다른 에러를 처리하고 싶으면 뒤에 except ~Error:를 쓰면 된다."
   ]
  },
  {
   "cell_type": "markdown",
   "id": "bb7ed6e8",
   "metadata": {},
   "source": [
    "### #299. 예외의 메시지 출력하기 - 다음과 같은 코드 구조를 사용하면 예외 발생 시 에러 메시지를 변수로 바인딩할 수 있습니다.\n",
    "\n",
    "> try:  \n",
    "    실행코드  \n",
    "except 예외 as 변수:  \n",
    "    예외처리코드 \n",
    "### 리스트의 인덱싱에 대해 에러를 출력해보세요."
   ]
  },
  {
   "cell_type": "code",
   "execution_count": 48,
   "id": "3cdf0d12",
   "metadata": {},
   "outputs": [
    {
     "name": "stdout",
     "output_type": "stream",
     "text": [
      "1\n",
      "2\n",
      "3\n",
      "list index out of range\n",
      "list index out of range\n"
     ]
    }
   ],
   "source": [
    "data = [1, 2, 3]\n",
    "\n",
    "for i in range(5):\n",
    "    try:\n",
    "        print(data[i])\n",
    "    except IndexError as e:       # IndexError를 e라는 변수에 바인딩\n",
    "#        print(\"IndexError 발생\")   # 다른 문구도 출력 가능 \n",
    "        print(e)"
   ]
  },
  {
   "cell_type": "markdown",
   "id": "abbd58d1",
   "metadata": {},
   "source": [
    "### #300. try, except, else, finally 구조 사용해보기 - 파이썬 예외처리는 다음과 같은 구조를 가질 수 있습니다.\n",
    "\n",
    ">try:  \n",
    "    실행 코드  \n",
    "except:  \n",
    "    예외가 발생했을 때 수행할 코드  \n",
    "else:  \n",
    "    예외가 발생하지 않았을 때 수행할 코드  \n",
    "finally:  \n",
    "    예외 발생 여부와 상관없이 항상 수행할 코드  \n",
    "### 아래의 코드에 대해서 예외처리를 사용하고 try, except, else, finally에 적당한 코드를 작성해봅시다. else와 finally는 적당한 문구를 print하시면 됩니다."
   ]
  },
  {
   "cell_type": "code",
   "execution_count": 45,
   "id": "52f2c992",
   "metadata": {},
   "outputs": [
    {
     "name": "stdout",
     "output_type": "stream",
     "text": [
      "10.31\n",
      "claen\n",
      "화이팅!!\n",
      "0\n",
      "화이팅!!\n",
      "8.0\n",
      "claen\n",
      "화이팅!!\n"
     ]
    }
   ],
   "source": [
    "per = [\"10.31\", \"\", \"8.00\"]\n",
    "\n",
    "for i in per:\n",
    "    try:\n",
    "        print(float(i))\n",
    "    except:\n",
    "        print(0)\n",
    "    else:\n",
    "        print(\"claen\")\n",
    "    finally:\n",
    "        print(\"화이팅!!\")"
   ]
  },
  {
   "cell_type": "code",
   "execution_count": null,
   "id": "ed387be8",
   "metadata": {},
   "outputs": [],
   "source": []
  }
 ],
 "metadata": {
  "kernelspec": {
   "display_name": "Python 3 (ipykernel)",
   "language": "python",
   "name": "python3"
  },
  "language_info": {
   "codemirror_mode": {
    "name": "ipython",
    "version": 3
   },
   "file_extension": ".py",
   "mimetype": "text/x-python",
   "name": "python",
   "nbconvert_exporter": "python",
   "pygments_lexer": "ipython3",
   "version": "3.10.9"
  }
 },
 "nbformat": 4,
 "nbformat_minor": 5
}
