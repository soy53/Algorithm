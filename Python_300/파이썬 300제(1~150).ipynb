{
 "cells": [
  {
   "cell_type": "markdown",
   "id": "b8e965c2",
   "metadata": {},
   "source": [
    "## 파이썬 300제(1번 ~ 150번)\n",
    "- [파이썬 300제](https://wikidocs.net/7014)"
   ]
  },
  {
   "cell_type": "markdown",
   "id": "9cbdfa31",
   "metadata": {},
   "source": [
    "### #1. 화면에 [Hello World] 문자열을 출력하세요."
   ]
  },
  {
   "cell_type": "code",
   "execution_count": 1,
   "id": "bfea6c9b",
   "metadata": {},
   "outputs": [
    {
     "name": "stdout",
     "output_type": "stream",
     "text": [
      "Hello World\n"
     ]
    }
   ],
   "source": [
    "print(\"Hello World\")"
   ]
  },
  {
   "cell_type": "markdown",
   "id": "943d191a",
   "metadata": {},
   "source": [
    "### #2. 화면에 [Mary's cosmetics]을 출력하세요."
   ]
  },
  {
   "cell_type": "code",
   "execution_count": 2,
   "id": "1f7a6008",
   "metadata": {},
   "outputs": [
    {
     "name": "stdout",
     "output_type": "stream",
     "text": [
      "Mary's cosmetics\n"
     ]
    }
   ],
   "source": [
    "print(\"Mary's cosmetics\")"
   ]
  },
  {
   "cell_type": "markdown",
   "id": "23c12b75",
   "metadata": {},
   "source": [
    "### #3. 화면에 [신씨가 소리질렀다. \"도둑이야\".] 문장을 출력하세요. "
   ]
  },
  {
   "cell_type": "code",
   "execution_count": 3,
   "id": "1f4396e0",
   "metadata": {},
   "outputs": [
    {
     "name": "stdout",
     "output_type": "stream",
     "text": [
      "신씨가 소리질렀다. \"도둑이야\".\n"
     ]
    }
   ],
   "source": [
    "print('신씨가 소리질렀다. \"도둑이야\".')"
   ]
  },
  {
   "cell_type": "markdown",
   "id": "ae75f750",
   "metadata": {},
   "source": [
    "### #4. 화면에 [C:\\Windows]를 출력하세요."
   ]
  },
  {
   "cell_type": "code",
   "execution_count": 4,
   "id": "4943fb2f",
   "metadata": {},
   "outputs": [
    {
     "name": "stdout",
     "output_type": "stream",
     "text": [
      "C:\\Windows\n"
     ]
    }
   ],
   "source": [
    "print(\"C:\\Windows\")"
   ]
  },
  {
   "cell_type": "markdown",
   "id": "289fb30a",
   "metadata": {},
   "source": [
    "### #5. 다음 코드를 실행해보고 \\t와 \\n의 역할을 설명해보세요.\n",
    "> print(\"안녕하세요.\\n만나서\\t\\t반갑습니다.\")"
   ]
  },
  {
   "cell_type": "code",
   "execution_count": 5,
   "id": "adb82a39",
   "metadata": {},
   "outputs": [
    {
     "name": "stdout",
     "output_type": "stream",
     "text": [
      "안녕하세요.\n",
      "만나서\t\t반갑습니다.\n"
     ]
    }
   ],
   "source": [
    "print(\"안녕하세요.\\n만나서\\t\\t반갑습니다.\")\n",
    "# \\n : 줄바꿈\n",
    "# \\t : 탭"
   ]
  },
  {
   "cell_type": "markdown",
   "id": "144d3686",
   "metadata": {},
   "source": [
    "### #6. print 함수에 두 개의 단어를 입력한 예제입니다. 아래 코드의 출력 결과를 예상해봅시다.\n",
    "print (\"오늘은\", \"일요일\")"
   ]
  },
  {
   "cell_type": "code",
   "execution_count": 6,
   "id": "b5eaf38d",
   "metadata": {},
   "outputs": [
    {
     "name": "stdout",
     "output_type": "stream",
     "text": [
      "오늘은 일요일\n"
     ]
    }
   ],
   "source": [
    "print (\"오늘은\", \"일요일\")\n",
    "# 오늘은 일요일"
   ]
  },
  {
   "cell_type": "markdown",
   "id": "a86b9369",
   "metadata": {},
   "source": [
    "### #7. print() 함수를 사용하여 다음과 같이 출력하세요.\n",
    ">naver;kakao;sk;samsung"
   ]
  },
  {
   "cell_type": "code",
   "execution_count": 8,
   "id": "0d88b44f",
   "metadata": {},
   "outputs": [
    {
     "name": "stdout",
     "output_type": "stream",
     "text": [
      "naver ; kakao ; sk ; samsung\n"
     ]
    }
   ],
   "source": [
    "print(\"naver\",\";\",\"kakao\",\";\",\"sk\",\";\",\"samsung\")"
   ]
  },
  {
   "cell_type": "code",
   "execution_count": 9,
   "id": "f070e276",
   "metadata": {},
   "outputs": [
    {
     "name": "stdout",
     "output_type": "stream",
     "text": [
      "naver;kakao;sk;samsung\n"
     ]
    }
   ],
   "source": [
    "# 정답 - sep=\"\" 을 통해 공백 대신 ;을 표기\n",
    "print(\"naver\",\"kakao\",\"sk\",\"samsung\", sep=\";\")"
   ]
  },
  {
   "cell_type": "markdown",
   "id": "40191b7d",
   "metadata": {},
   "source": [
    "### #8. print() 함수를 사용하여 다음과 같이 출력하세요.\n",
    "\n",
    ">naver/kakao/sk/samsung"
   ]
  },
  {
   "cell_type": "code",
   "execution_count": 10,
   "id": "aba40bc3",
   "metadata": {},
   "outputs": [
    {
     "name": "stdout",
     "output_type": "stream",
     "text": [
      "naver/kakao/sk/samsung\n"
     ]
    }
   ],
   "source": [
    "print(\"naver\", \"kakao\", \"sk\", \"samsung\", sep=\"/\")"
   ]
  },
  {
   "cell_type": "markdown",
   "id": "dcc91fc6",
   "metadata": {},
   "source": [
    "### #9. 다음 코드를 수정하여 줄바꿈이 없이 출력하세요. (힌트: end='') print 함수는 두 번 사용합니다. 세미콜론 (;)은 한줄에 여러 개의 명령을 작성하기 위해 사용합니다.\n",
    "\n",
    ">print(\"first\");print(\"second\")"
   ]
  },
  {
   "cell_type": "code",
   "execution_count": 13,
   "id": "89177527",
   "metadata": {},
   "outputs": [
    {
     "name": "stdout",
     "output_type": "stream",
     "text": [
      "first second\n"
     ]
    }
   ],
   "source": [
    "print(\"first\", end=\" \");print(\"second\")"
   ]
  },
  {
   "cell_type": "markdown",
   "id": "22a7e4fd",
   "metadata": {},
   "source": [
    "### #10. 5/3의 결과를 화면에 출력하세요."
   ]
  },
  {
   "cell_type": "code",
   "execution_count": 15,
   "id": "62e9c237",
   "metadata": {},
   "outputs": [
    {
     "name": "stdout",
     "output_type": "stream",
     "text": [
      "1.6666666666666667\n"
     ]
    }
   ],
   "source": [
    "print(5/3)"
   ]
  },
  {
   "cell_type": "markdown",
   "id": "6c714105",
   "metadata": {},
   "source": [
    "### #11. 삼성전자라는 변수로 50,000원을 바인딩해보세요. 삼성전자 주식 10주를 보유하고 있을 때 총 평가금액을 출력하세요."
   ]
  },
  {
   "cell_type": "code",
   "execution_count": 18,
   "id": "a3950719",
   "metadata": {},
   "outputs": [
    {
     "name": "stdout",
     "output_type": "stream",
     "text": [
      "총평가금액: 500000\n"
     ]
    }
   ],
   "source": [
    "삼성전자 = 50000\n",
    "print(\"총평가금액:\", 삼성전자 * 10)"
   ]
  },
  {
   "cell_type": "markdown",
   "id": "4e45a7ad",
   "metadata": {},
   "source": [
    "### #12. 변수를 사용해서 시가총액, 현재가, PER 등을 바인딩해보세요."
   ]
  },
  {
   "cell_type": "code",
   "execution_count": 21,
   "id": "8ff23a2d",
   "metadata": {},
   "outputs": [],
   "source": [
    "시가총액 = 298000000000000\n",
    "현재가 = 50000\n",
    "PER = 15.79"
   ]
  },
  {
   "cell_type": "code",
   "execution_count": 22,
   "id": "d03c1bf6",
   "metadata": {},
   "outputs": [
    {
     "name": "stdout",
     "output_type": "stream",
     "text": [
      "298000000000000 <class 'int'>\n",
      "50000 <class 'int'>\n",
      "15.79 <class 'float'>\n"
     ]
    }
   ],
   "source": [
    "print(시가총액, type(시가총액))\n",
    "print(현재가, type(현재가))\n",
    "print(PER, type(PER))"
   ]
  },
  {
   "cell_type": "markdown",
   "id": "f57be51d",
   "metadata": {},
   "source": [
    "### #13. 변수 s와 t에는 각각 문자열이 바인딩 되어있습니다. \n",
    "> s = \"hello\"\n",
    "> t = \"python\"\n",
    "### 두 변수를 이용하여 [hello! python]을 출력해보세요."
   ]
  },
  {
   "cell_type": "code",
   "execution_count": 25,
   "id": "8a4144d9",
   "metadata": {},
   "outputs": [
    {
     "name": "stdout",
     "output_type": "stream",
     "text": [
      "hello! python\n"
     ]
    }
   ],
   "source": [
    "s = \"hello\"\n",
    "t = \"python\"\n",
    "\n",
    "print(s+\"! \"+t)"
   ]
  },
  {
   "cell_type": "markdown",
   "id": "7bee783a",
   "metadata": {},
   "source": [
    "### #14. 아래 코드의 실행 결과를 예상해보세요.\n",
    "> 2 + 2 * 3 "
   ]
  },
  {
   "cell_type": "code",
   "execution_count": 26,
   "id": "010890c0",
   "metadata": {},
   "outputs": [
    {
     "data": {
      "text/plain": [
       "8"
      ]
     },
     "execution_count": 26,
     "metadata": {},
     "output_type": "execute_result"
    }
   ],
   "source": [
    "# 8\n",
    "2 + 2 * 3"
   ]
  },
  {
   "cell_type": "markdown",
   "id": "2ac93007",
   "metadata": {},
   "source": [
    "### #15. type() 함수는 데이터 타입을 판별합니다. 변수 a에는 128 숫자가 바인딩돼 있어 type 함수가 int (정수)형임을 알려줍니다.\n",
    "\n",
    "> a = 128  \n",
    "> print (type(a))  \n",
    "<class 'int'>\n",
    "\n",
    "### 아래 변수에 바인딩된 값의 타입을 판별해보세요.\n",
    "\n",
    "> a = \"132\""
   ]
  },
  {
   "cell_type": "code",
   "execution_count": 27,
   "id": "e812771a",
   "metadata": {},
   "outputs": [
    {
     "name": "stdout",
     "output_type": "stream",
     "text": [
      "<class 'str'>\n"
     ]
    }
   ],
   "source": [
    "a = \"132\"\n",
    "print(type(a))"
   ]
  },
  {
   "cell_type": "markdown",
   "id": "50f7c28b",
   "metadata": {},
   "source": [
    "### #16. 문자열 '720'를 정수형으로 변환해보세요.\n",
    "\n",
    "> num_str = \"720\""
   ]
  },
  {
   "cell_type": "code",
   "execution_count": 29,
   "id": "a59f2d73",
   "metadata": {},
   "outputs": [
    {
     "name": "stdout",
     "output_type": "stream",
     "text": [
      "<class 'int'>\n"
     ]
    }
   ],
   "source": [
    "num_str = \"720\"\n",
    "num_int = int(num_str)\n",
    "\n",
    "print(type(num_int))"
   ]
  },
  {
   "cell_type": "markdown",
   "id": "f0506f7b",
   "metadata": {},
   "source": [
    "### #17. 정수 100을 문자열 '100'으로 변환해보세요."
   ]
  },
  {
   "cell_type": "code",
   "execution_count": 30,
   "id": "81d15af5",
   "metadata": {},
   "outputs": [
    {
     "name": "stdout",
     "output_type": "stream",
     "text": [
      "<class 'str'>\n"
     ]
    }
   ],
   "source": [
    "num = 100\n",
    "num_str = str(num)\n",
    "\n",
    "print(type(num_str))"
   ]
  },
  {
   "cell_type": "markdown",
   "id": "b880c960",
   "metadata": {},
   "source": [
    "### #18. 문자열 \"15.79\"를 실수(float) 타입으로 변환해보세요."
   ]
  },
  {
   "cell_type": "code",
   "execution_count": 31,
   "id": "7fea9dce",
   "metadata": {},
   "outputs": [
    {
     "name": "stdout",
     "output_type": "stream",
     "text": [
      "<class 'float'>\n"
     ]
    }
   ],
   "source": [
    "num_str = \"15.79\"\n",
    "num_float = float(num_str)\n",
    "\n",
    "print(type(num_float))"
   ]
  },
  {
   "cell_type": "markdown",
   "id": "4bada2fc",
   "metadata": {},
   "source": [
    "### #19. year라는 변수가 문자열 타입의 연도를 바인딩하고 있습니다. 이를 정수로 변환한 후 최근 3년의 연도를 화면에 출력해보세요.\n",
    "\n",
    ">year = \"2020\""
   ]
  },
  {
   "cell_type": "code",
   "execution_count": 32,
   "id": "f29d50e3",
   "metadata": {},
   "outputs": [
    {
     "name": "stdout",
     "output_type": "stream",
     "text": [
      "2019 2018 2017\n"
     ]
    }
   ],
   "source": [
    "year = \"2020\"\n",
    "year_int = int(year)\n",
    "print(year_int-1, year_int-2, year_int-3)"
   ]
  },
  {
   "cell_type": "markdown",
   "id": "ce412755",
   "metadata": {},
   "source": [
    "### #20. 에이컨이 월 48,584원에 무이자 36개월의 조건으로 홈쇼핑에서 판매되고 있습니다. 총 금액은 계산한 후 이를 화면에 출력해보세요. (변수사용하기)"
   ]
  },
  {
   "cell_type": "code",
   "execution_count": 33,
   "id": "3f008721",
   "metadata": {},
   "outputs": [
    {
     "name": "stdout",
     "output_type": "stream",
     "text": [
      "총 금액: 1749024\n"
     ]
    }
   ],
   "source": [
    "m_cost = 48584\n",
    "print(\"총 금액:\", m_cost * 36)"
   ]
  },
  {
   "cell_type": "markdown",
   "id": "71b08d28",
   "metadata": {},
   "source": [
    "### #21. letters가 바인딩하는 문자열에서 첫번째와 세번째 문자를 출력하세요.\n",
    "\n",
    "> letters = 'python'"
   ]
  },
  {
   "cell_type": "code",
   "execution_count": 1,
   "id": "8db8c211",
   "metadata": {},
   "outputs": [
    {
     "name": "stdout",
     "output_type": "stream",
     "text": [
      "p t\n"
     ]
    }
   ],
   "source": [
    "letters = 'python'\n",
    "print(letters[0], letters[2])"
   ]
  },
  {
   "cell_type": "markdown",
   "id": "b82ef7fb",
   "metadata": {},
   "source": [
    "### #22. 자동차 번호가 다음과 같을 때 뒤에 4자리만 출력하세요.\n",
    "\n",
    "> license_plate = \"24가 2210\""
   ]
  },
  {
   "cell_type": "code",
   "execution_count": 2,
   "id": "f59354e0",
   "metadata": {},
   "outputs": [
    {
     "name": "stdout",
     "output_type": "stream",
     "text": [
      "2210\n"
     ]
    }
   ],
   "source": [
    "license_plate = \"24가 2210\"\n",
    "print(license_plate[-4:])"
   ]
  },
  {
   "cell_type": "markdown",
   "id": "1bf79739",
   "metadata": {},
   "source": [
    "### #23. 아래의 문자열에서 '홀' 만 출력하세요.\n",
    "\n",
    "> string = \"홀짝홀짝홀짝\""
   ]
  },
  {
   "cell_type": "code",
   "execution_count": 3,
   "id": "71fc3966",
   "metadata": {},
   "outputs": [
    {
     "name": "stdout",
     "output_type": "stream",
     "text": [
      "홀홀홀\n"
     ]
    }
   ],
   "source": [
    "string = \"홀짝홀짝홀짝\"\n",
    "print(string[::2])"
   ]
  },
  {
   "cell_type": "markdown",
   "id": "be45778c",
   "metadata": {},
   "source": [
    "### #24. 문자열을 거꾸로 뒤집어 출력하세요.\n",
    "\n",
    "> string = \"PYTHON\""
   ]
  },
  {
   "cell_type": "code",
   "execution_count": 7,
   "id": "2b89db54",
   "metadata": {},
   "outputs": [
    {
     "name": "stdout",
     "output_type": "stream",
     "text": [
      "NOHTYP\n"
     ]
    }
   ],
   "source": [
    "string = \"PYTHON\"\n",
    "print(string[::-1])"
   ]
  },
  {
   "cell_type": "markdown",
   "id": "a39511e3",
   "metadata": {},
   "source": [
    "### #25. 아래의 전화번호에서 하이푼 ('-')을 제거하고 출력하세요.\n",
    "\n",
    "> phone_number = \"010-1111-2222\""
   ]
  },
  {
   "cell_type": "code",
   "execution_count": 9,
   "id": "fa68263a",
   "metadata": {},
   "outputs": [
    {
     "name": "stdout",
     "output_type": "stream",
     "text": [
      "010 1111 2222\n"
     ]
    }
   ],
   "source": [
    "# 정답 - replace 메소드를 사용하여 \"-\"를 \" \" 공백으로 바꾸어준다.\n",
    "phone_number = \"010-1111-2222\"\n",
    "phone_number_re = phone_number.replace(\"-\", \" \")\n",
    "print(phone_number_re)"
   ]
  },
  {
   "cell_type": "markdown",
   "id": "ade4df86",
   "metadata": {},
   "source": [
    "### #26. 25번 문제의 전화번호를 아래와 같이 모두 붙여 출력하세요.\n",
    "\n",
    "> 01011112222"
   ]
  },
  {
   "cell_type": "code",
   "execution_count": 10,
   "id": "8c39275f",
   "metadata": {},
   "outputs": [
    {
     "name": "stdout",
     "output_type": "stream",
     "text": [
      "01011112222\n"
     ]
    }
   ],
   "source": [
    "phone_number = \"010-1111-2222\"\n",
    "phone_number_noblank = phone_number.replace(\"-\", \"\")\n",
    "print(phone_number_noblank)"
   ]
  },
  {
   "cell_type": "markdown",
   "id": "e1e6adf2",
   "metadata": {},
   "source": [
    "### #27. url 에 저장된 웹 페이지 주소에서 도메인을 출력하세요.\n",
    "\n",
    "> url = \"http://sharebook.kr\""
   ]
  },
  {
   "cell_type": "code",
   "execution_count": 11,
   "id": "c6fe6833",
   "metadata": {},
   "outputs": [
    {
     "name": "stdout",
     "output_type": "stream",
     "text": [
      "kr\n"
     ]
    }
   ],
   "source": [
    "url = \"http://sharebook.kr\"\n",
    "print(url[-2:])"
   ]
  },
  {
   "cell_type": "code",
   "execution_count": 12,
   "id": "2046bac2",
   "metadata": {},
   "outputs": [
    {
     "name": "stdout",
     "output_type": "stream",
     "text": [
      "kr\n"
     ]
    }
   ],
   "source": [
    "# 정답 - .을 기준으로 split한 뒤 뒤에 덩어리를 print\n",
    "url = \"http://sharebook.kr\"\n",
    "url_split = url.split('.')\n",
    "print(url_split[-1])"
   ]
  },
  {
   "cell_type": "markdown",
   "id": "c4aedad7",
   "metadata": {},
   "source": [
    "### #28. 아래 코드의 실행 결과를 예상해보세요.\n",
    "\n",
    "> lang = 'python'\n",
    "> lang[0] = 'P'\n",
    "> print(lang)"
   ]
  },
  {
   "cell_type": "code",
   "execution_count": 14,
   "id": "5e518957",
   "metadata": {},
   "outputs": [
    {
     "ename": "TypeError",
     "evalue": "'str' object does not support item assignment",
     "output_type": "error",
     "traceback": [
      "\u001b[0;31m---------------------------------------------------------------------------\u001b[0m",
      "\u001b[0;31mTypeError\u001b[0m                                 Traceback (most recent call last)",
      "Cell \u001b[0;32mIn[14], line 3\u001b[0m\n\u001b[1;32m      1\u001b[0m \u001b[38;5;66;03m# lang[0] = p이므로 error가 발생한다. -> 문자열은 수정할 수 없다.\u001b[39;00m\n\u001b[1;32m      2\u001b[0m lang \u001b[38;5;241m=\u001b[39m \u001b[38;5;124m'\u001b[39m\u001b[38;5;124mpython\u001b[39m\u001b[38;5;124m'\u001b[39m\n\u001b[0;32m----> 3\u001b[0m lang[\u001b[38;5;241m0\u001b[39m] \u001b[38;5;241m=\u001b[39m \u001b[38;5;124m'\u001b[39m\u001b[38;5;124mP\u001b[39m\u001b[38;5;124m'\u001b[39m\n\u001b[1;32m      4\u001b[0m \u001b[38;5;28mprint\u001b[39m(lang)\n",
      "\u001b[0;31mTypeError\u001b[0m: 'str' object does not support item assignment"
     ]
    }
   ],
   "source": [
    "# lang[0] = p이므로 error가 발생한다. -> 문자열은 수정할 수 없다.\n",
    "lang = 'python'\n",
    "lang[0] = 'P'\n",
    "print(lang)"
   ]
  },
  {
   "cell_type": "markdown",
   "id": "c1d54cb5",
   "metadata": {},
   "source": [
    "### #29. 아래 문자열에서 소문자 'a'를 대문자 'A'로 변경하세요.\n",
    "\n",
    "> string = 'abcdfe2a354a32a'"
   ]
  },
  {
   "cell_type": "code",
   "execution_count": 15,
   "id": "ae69e600",
   "metadata": {},
   "outputs": [
    {
     "name": "stdout",
     "output_type": "stream",
     "text": [
      "Abcdfe2A354A32A\n"
     ]
    }
   ],
   "source": [
    "string = 'abcdfe2a354a32a'\n",
    "string_A = string.replace(\"a\", \"A\")\n",
    "print(string_A)"
   ]
  },
  {
   "cell_type": "markdown",
   "id": "fefd4fb6",
   "metadata": {},
   "source": [
    "### #30. 아래 코드의 실행 결과를 예상해보세요.\n",
    "\n",
    "> string = 'abcd'  \n",
    "> string.replace('b', 'B')  \n",
    "> print(string)"
   ]
  },
  {
   "cell_type": "code",
   "execution_count": 16,
   "id": "601f7121",
   "metadata": {},
   "outputs": [
    {
     "name": "stdout",
     "output_type": "stream",
     "text": [
      "abcd\n"
     ]
    }
   ],
   "source": [
    "# abcd -> string.replace('b', 'B')에 대한 변수 설정은 따로 없었고, string에 대해 print한 것이므로 aBcd가 아닌 abcd가 나온다.\n",
    "string = 'abcd'\n",
    "string.replace('b', 'B')\n",
    "print(string)"
   ]
  },
  {
   "cell_type": "markdown",
   "id": "cd35d54d",
   "metadata": {},
   "source": [
    "### #31. 아래 코드의 실행 결과를 예상해보세요.\n",
    "\n",
    "> a = \"3\"  \n",
    "> b = \"4\"  \n",
    "> print(a + b)"
   ]
  },
  {
   "cell_type": "code",
   "execution_count": 17,
   "id": "6f87fc9d",
   "metadata": {},
   "outputs": [
    {
     "name": "stdout",
     "output_type": "stream",
     "text": [
      "34\n"
     ]
    }
   ],
   "source": [
    "# 34 -> 3과 4는 문자열이므로 3과 4가 그대로 연결되어 print 된다.\n",
    "a = \"3\"\n",
    "b = \"4\"\n",
    "print(a + b)"
   ]
  },
  {
   "cell_type": "markdown",
   "id": "2feed784",
   "metadata": {},
   "source": [
    "### #32. 아래 코드의 실행 결과를 예상해보세요.\n",
    "\n",
    "> print(\"Hi\" * 3)"
   ]
  },
  {
   "cell_type": "code",
   "execution_count": 18,
   "id": "8a06adf0",
   "metadata": {},
   "outputs": [
    {
     "name": "stdout",
     "output_type": "stream",
     "text": [
      "HiHiHi\n"
     ]
    }
   ],
   "source": [
    "# HiHiHi -> Hi라는 문자열이 3번 반복해서 print 된다.\n",
    "print(\"Hi\" * 3)"
   ]
  },
  {
   "cell_type": "markdown",
   "id": "d06d528f",
   "metadata": {},
   "source": [
    "### #33. 화면에 '-'를 80개 출력하세요."
   ]
  },
  {
   "cell_type": "code",
   "execution_count": 19,
   "id": "8e7249e2",
   "metadata": {},
   "outputs": [
    {
     "name": "stdout",
     "output_type": "stream",
     "text": [
      "--------------------------------------------------------------------------------\n"
     ]
    }
   ],
   "source": [
    "print('-' * 80)"
   ]
  },
  {
   "cell_type": "markdown",
   "id": "e1fe4e81",
   "metadata": {},
   "source": [
    "### #34. 변수에 다음과 같은 문자열이 바인딩되어 있습니다.\n",
    "\n",
    "> t1 = 'python'  \n",
    "> t2 = 'java'  \n",
    "\n",
    "### 변수에 문자열 더하기와 문자열 곱하기를 사용해서 아래와 같이 출력해보세요.\n",
    "\n",
    "> python java python java python java python java"
   ]
  },
  {
   "cell_type": "code",
   "execution_count": 24,
   "id": "9ee031b9",
   "metadata": {},
   "outputs": [
    {
     "name": "stdout",
     "output_type": "stream",
     "text": [
      "python java python java python java python java \n"
     ]
    }
   ],
   "source": [
    "t1 = 'python'\n",
    "t2 = 'java'\n",
    "t1_t2 = t1 + \" \" + t2 + \" \"\n",
    "print(t1_t2 * 4)"
   ]
  },
  {
   "cell_type": "markdown",
   "id": "8018f4a1",
   "metadata": {},
   "source": [
    "### #35. 변수에 다음과 같이 문자열과 정수가 바인딩되어 있을 때 % formatting을 사용해서 다음과 같이 출력해보세요.\n",
    "\n",
    "> name1 = \"김민수\"   \n",
    "> age1 = 10  \n",
    "> name2 = \"이철희\"  \n",
    "> age2 = 13  \n",
    " \n",
    "> 이름: 김민수 나이: 10  \n",
    "> 이름: 이철희 나이: 13"
   ]
  },
  {
   "cell_type": "code",
   "execution_count": 26,
   "id": "dd814f5b",
   "metadata": {},
   "outputs": [
    {
     "name": "stdout",
     "output_type": "stream",
     "text": [
      "이름: 김민수 나이: 10\n",
      "이름: 이철희 나이: 13\n"
     ]
    }
   ],
   "source": [
    "name1 = \"김민수\"\n",
    "age1 = 10\n",
    "name2 = \"이철희\"\n",
    "age2 = 13\n",
    "\n",
    "print(\"이름: %s 나이: %d\" % (name1, age1))\n",
    "print(\"이름: %s 나이: %d\" % (name2, age2))"
   ]
  },
  {
   "cell_type": "markdown",
   "id": "b0da0885",
   "metadata": {},
   "source": [
    "### #36. 문자열의 format( ) 메서드를 사용해서 035번 문제를 다시 풀어보세요."
   ]
  },
  {
   "cell_type": "code",
   "execution_count": 28,
   "id": "da5bc457",
   "metadata": {},
   "outputs": [
    {
     "name": "stdout",
     "output_type": "stream",
     "text": [
      "이름: 김민수 나이: 10\n",
      "이름: 이철희 나이: 13\n"
     ]
    }
   ],
   "source": [
    "name1 = \"김민수\"\n",
    "age1 = 10\n",
    "name2 = \"이철희\"\n",
    "age2 = 13\n",
    "\n",
    "print(\"이름: {} 나이: {}\".format(name1, age1))\n",
    "print(\"이름: {} 나이: {}\".format(name2, age2))"
   ]
  },
  {
   "cell_type": "markdown",
   "id": "006d012c",
   "metadata": {},
   "source": [
    "### #37. 파이썬 3.6부터 지원하는 f-string을 사용해서 035번 문제를 다시 풀어보세요."
   ]
  },
  {
   "cell_type": "code",
   "execution_count": 29,
   "id": "d134c3be",
   "metadata": {},
   "outputs": [
    {
     "name": "stdout",
     "output_type": "stream",
     "text": [
      "이름: 김민수 나이: 10\n",
      "이름: 이철희 나이: 13\n"
     ]
    }
   ],
   "source": [
    "name1 = \"김민수\"\n",
    "age1 = 10\n",
    "name2 = \"이철희\"\n",
    "age2 = 13\n",
    "\n",
    "print(f'이름: {name1} 나이: {age1}')\n",
    "print(f'이름: {name2} 나이: {age2}')"
   ]
  },
  {
   "cell_type": "markdown",
   "id": "1e603716",
   "metadata": {},
   "source": [
    "- [% formatting, format() 함수 및 f-string 사용법](https://lcs1245.tistory.com/entry/Python-%EB%AC%B8%EC%9E%90%EC%97%B4-%ED%8F%AC%EB%A7%A4%ED%8C%85-%ED%95%98%EA%B8%B0-format-f-string)"
   ]
  },
  {
   "cell_type": "markdown",
   "id": "abb0f173",
   "metadata": {},
   "source": [
    "### #38. 삼성전자의 상장주식수가 다음과 같습니다. 컴마를 제거한 후 이를 정수 타입으로 변환해보세요.\n",
    "\n",
    "> 상장주식수 = \"5,969,782,550\""
   ]
  },
  {
   "cell_type": "code",
   "execution_count": 31,
   "id": "0a8d70c8",
   "metadata": {},
   "outputs": [
    {
     "name": "stdout",
     "output_type": "stream",
     "text": [
      "5969782550 <class 'int'>\n"
     ]
    }
   ],
   "source": [
    "상장주식수 = \"5,969,782,550\"\n",
    "상장주식수_nocomma = 상장주식수.replace(\",\", \"\")\n",
    "상장주식수_int = int(상장주식수_nocomma)\n",
    "\n",
    "print(상장주식수_int, type(상장주식수_int))"
   ]
  },
  {
   "cell_type": "markdown",
   "id": "a8418398",
   "metadata": {},
   "source": [
    "### #39. 다음과 같은 문자열에서 '2020/03'만 출력하세요.\n",
    "\n",
    "> 분기 = \"2020/03(E) (IFRS연결)\""
   ]
  },
  {
   "cell_type": "code",
   "execution_count": 34,
   "id": "163745f1",
   "metadata": {},
   "outputs": [
    {
     "name": "stdout",
     "output_type": "stream",
     "text": [
      "2020/03\n"
     ]
    }
   ],
   "source": [
    "분기 = \"2020/03(E) (IFRS연결)\"\n",
    "print(분기[:7])"
   ]
  },
  {
   "cell_type": "markdown",
   "id": "1adc0067",
   "metadata": {},
   "source": [
    "### #40. 문자열의 좌우의 공백이 있을 때 이를 제거해보세요.\n",
    "\n",
    "> data = \"   삼성전자    \""
   ]
  },
  {
   "cell_type": "code",
   "execution_count": 36,
   "id": "24029351",
   "metadata": {},
   "outputs": [
    {
     "name": "stdout",
     "output_type": "stream",
     "text": [
      "삼성전자\n"
     ]
    }
   ],
   "source": [
    "data = \"   삼성전자    \"\n",
    "data_re = data.replace(\" \", \"\")\n",
    "print(data_re)"
   ]
  },
  {
   "cell_type": "code",
   "execution_count": 37,
   "id": "5b58ae25",
   "metadata": {},
   "outputs": [
    {
     "name": "stdout",
     "output_type": "stream",
     "text": [
      "삼성전자\n"
     ]
    }
   ],
   "source": [
    "# 정답 - strip() 메소드를 사용하여 모든 공백이나 특정 문자를 제거할 수 있다.\n",
    "data = \"   삼성전자    \"\n",
    "data1 = data.strip()\n",
    "print(data1)"
   ]
  },
  {
   "cell_type": "markdown",
   "id": "2eaa8d66",
   "metadata": {},
   "source": [
    "### #41. 다음과 같은 문자열이 있을 때 이를 대문자 BTC_KRW로 변경하세요.\n",
    "\n",
    "> ticker = \"btc_krw\""
   ]
  },
  {
   "cell_type": "code",
   "execution_count": 38,
   "id": "77e5d4d8",
   "metadata": {},
   "outputs": [
    {
     "name": "stdout",
     "output_type": "stream",
     "text": [
      "BTC_KRW\n"
     ]
    }
   ],
   "source": [
    "ticker = \"btc_krw\"\n",
    "ticker_upper = ticker.upper()\n",
    "print(ticker_upper)"
   ]
  },
  {
   "cell_type": "markdown",
   "id": "3a498b08",
   "metadata": {},
   "source": [
    "### #42. 다음과 같은 문자열이 있을 때 이를 소문자 btc_krw로 변경하세요.\n",
    "\n",
    "> ticker = \"BTC_KRW\""
   ]
  },
  {
   "cell_type": "code",
   "execution_count": 39,
   "id": "96054def",
   "metadata": {},
   "outputs": [
    {
     "name": "stdout",
     "output_type": "stream",
     "text": [
      "btc_krw\n"
     ]
    }
   ],
   "source": [
    "ticker = \"BTC_KRW\"\n",
    "ticker_lower = ticker.lower()\n",
    "print(ticker_lower)"
   ]
  },
  {
   "cell_type": "markdown",
   "id": "89fcadb7",
   "metadata": {},
   "source": [
    "### #43. 문자열 'hello'가 있을 때 이를 'Hello'로 변경해보세요."
   ]
  },
  {
   "cell_type": "code",
   "execution_count": 40,
   "id": "6a3a7ac1",
   "metadata": {},
   "outputs": [
    {
     "name": "stdout",
     "output_type": "stream",
     "text": [
      "Hello\n"
     ]
    }
   ],
   "source": [
    "str = \"hello\"\n",
    "str_c = str.capitalize()\n",
    "print(str_c)"
   ]
  },
  {
   "cell_type": "markdown",
   "id": "ab03e98c",
   "metadata": {},
   "source": [
    "### #44. 파일 이름이 문자열로 저장되어 있을 때 endswith 메서드를 사용해서 파일 이름이 'xlsx'로 끝나는지 확인해보세요.\n",
    "\n",
    "> file_name = \"보고서.xlsx\""
   ]
  },
  {
   "cell_type": "code",
   "execution_count": 41,
   "id": "88e5c82c",
   "metadata": {},
   "outputs": [
    {
     "data": {
      "text/plain": [
       "True"
      ]
     },
     "execution_count": 41,
     "metadata": {},
     "output_type": "execute_result"
    }
   ],
   "source": [
    "file_name = \"보고서.xlsx\"\n",
    "file_name.endswith(\"xlsx\")"
   ]
  },
  {
   "cell_type": "markdown",
   "id": "d268269b",
   "metadata": {},
   "source": [
    "### #45. 파일 이름이 문자열로 저장되어 있을 때 endswith 메서드를 사용해서 파일 이름이 'xlsx' 또는 'xls'로 끝나는지 확인해보세요.\n",
    "\n",
    "> file_name = \"보고서.xlsx\""
   ]
  },
  {
   "cell_type": "code",
   "execution_count": 43,
   "id": "cb69b6b1",
   "metadata": {},
   "outputs": [
    {
     "data": {
      "text/plain": [
       "True"
      ]
     },
     "execution_count": 43,
     "metadata": {},
     "output_type": "execute_result"
    }
   ],
   "source": [
    "file_name = \"보고서.xlsx\"\n",
    "file_name.endswith((\"xlsx\", \"xls\"))\n",
    "# endswith 메서드를 사용하면서 확인해야 할 문자가 두 개 이상인 경우 ()로 묶어서 사용한다."
   ]
  },
  {
   "cell_type": "markdown",
   "id": "6a00f94c",
   "metadata": {},
   "source": [
    "### #46. 파일 이름이 문자열로 저장되어 있을 때 startswith 메서드를 사용해서 파일 이름이 '2020'로 시작하는지 확인해보세요.\n",
    "\n",
    "> file_name = \"2020_보고서.xlsx\""
   ]
  },
  {
   "cell_type": "code",
   "execution_count": 44,
   "id": "723084c1",
   "metadata": {},
   "outputs": [
    {
     "data": {
      "text/plain": [
       "True"
      ]
     },
     "execution_count": 44,
     "metadata": {},
     "output_type": "execute_result"
    }
   ],
   "source": [
    "file_name = \"2020_보고서.xlsx\"\n",
    "file_name.startswith(\"2020\")"
   ]
  },
  {
   "cell_type": "markdown",
   "id": "0c9ede18",
   "metadata": {},
   "source": [
    "### #47. 다음과 같은 문자열이 있을 때 공백을 기준으로 문자열을 나눠보세요.\n",
    "\n",
    "> a = \"hello world\""
   ]
  },
  {
   "cell_type": "code",
   "execution_count": 46,
   "id": "26b671a7",
   "metadata": {},
   "outputs": [
    {
     "data": {
      "text/plain": [
       "['hello', 'world']"
      ]
     },
     "execution_count": 46,
     "metadata": {},
     "output_type": "execute_result"
    }
   ],
   "source": [
    "a = \"hello world\"\n",
    "a.split()"
   ]
  },
  {
   "cell_type": "markdown",
   "id": "9a54cba3",
   "metadata": {},
   "source": [
    "### #48. 다음과 같이 문자열이 있을 때 btc와 krw로 나눠보세요.\n",
    "\n",
    "> ticker = \"btc_krw\""
   ]
  },
  {
   "cell_type": "code",
   "execution_count": 47,
   "id": "9270b2d1",
   "metadata": {},
   "outputs": [
    {
     "data": {
      "text/plain": [
       "['btc', 'krw']"
      ]
     },
     "execution_count": 47,
     "metadata": {},
     "output_type": "execute_result"
    }
   ],
   "source": [
    "ticker = \"btc_krw\"\n",
    "ticker.split(\"_\")"
   ]
  },
  {
   "cell_type": "markdown",
   "id": "3f3df168",
   "metadata": {},
   "source": [
    "### #49. 다음과 같이 날짜를 표현하는 문자열이 있을 때 연도, 월, 일로 나눠보세요.\n",
    "\n",
    "> date = \"2020-05-01\""
   ]
  },
  {
   "cell_type": "code",
   "execution_count": 48,
   "id": "de85bdd2",
   "metadata": {},
   "outputs": [
    {
     "data": {
      "text/plain": [
       "['2020', '05', '01']"
      ]
     },
     "execution_count": 48,
     "metadata": {},
     "output_type": "execute_result"
    }
   ],
   "source": [
    "date = \"2020-05-01\"\n",
    "date.split('-')"
   ]
  },
  {
   "cell_type": "markdown",
   "id": "4612e17a",
   "metadata": {},
   "source": [
    "### #50. 문자열의 오른쪽에 공백이 있을 때 이를 제거해보세요."
   ]
  },
  {
   "cell_type": "code",
   "execution_count": 49,
   "id": "57a1d4ca",
   "metadata": {},
   "outputs": [
    {
     "data": {
      "text/plain": [
       "'039490'"
      ]
     },
     "execution_count": 49,
     "metadata": {},
     "output_type": "execute_result"
    }
   ],
   "source": [
    "data = \"039490     \"\n",
    "data.rstrip()"
   ]
  },
  {
   "cell_type": "markdown",
   "id": "ca62f192",
   "metadata": {},
   "source": [
    "- [strip(), rstrip(), lstrip()](https://106hht.tistory.com/51)"
   ]
  },
  {
   "cell_type": "markdown",
   "id": "509c0deb",
   "metadata": {},
   "source": [
    "----------"
   ]
  },
  {
   "cell_type": "markdown",
   "id": "8b5e13af",
   "metadata": {},
   "source": [
    "## 리스트 관련 문법\n"
   ]
  },
  {
   "cell_type": "code",
   "execution_count": 6,
   "id": "e581bd26",
   "metadata": {},
   "outputs": [
    {
     "data": {
      "text/plain": [
       "[0, 1, 2, 3, 4, 5, 6, 7, 8, 9]"
      ]
     },
     "execution_count": 6,
     "metadata": {},
     "output_type": "execute_result"
    }
   ],
   "source": [
    "array = [i for i in range(10)]\n",
    "array"
   ]
  },
  {
   "cell_type": "code",
   "execution_count": 8,
   "id": "665e312c",
   "metadata": {},
   "outputs": [
    {
     "data": {
      "text/plain": [
       "[1, 3, 5, 7, 9, 11, 13, 15, 17, 19]"
      ]
     },
     "execution_count": 8,
     "metadata": {},
     "output_type": "execute_result"
    }
   ],
   "source": [
    "array1 = [i for i in range(20) if i % 2 == 1]\n",
    "array1"
   ]
  },
  {
   "cell_type": "code",
   "execution_count": 9,
   "id": "3567096d",
   "metadata": {},
   "outputs": [
    {
     "data": {
      "text/plain": [
       "[1, 3, 5, 7, 9, 11, 13, 15, 17, 19]"
      ]
     },
     "execution_count": 9,
     "metadata": {},
     "output_type": "execute_result"
    }
   ],
   "source": [
    "# 위의 식은 다음과 같이 사용된 것을 줄여서 사용할 수 있다.\n",
    "array2 = []\n",
    "for i in range(20):\n",
    "    if i % 2 == 1:\n",
    "        array2.append(i)\n",
    "array2"
   ]
  },
  {
   "cell_type": "code",
   "execution_count": 11,
   "id": "0d1b5573",
   "metadata": {},
   "outputs": [
    {
     "data": {
      "text/plain": [
       "[[0, 0, 0], [0, 0, 0], [0, 0, 0], [0, 0, 0]]"
      ]
     },
     "execution_count": 11,
     "metadata": {},
     "output_type": "execute_result"
    }
   ],
   "source": [
    "# M x N 크기의 2차원 리스트\n",
    "m = 3\n",
    "n = 4\n",
    "\n",
    "array3 = [[0]*m for _ in range(n)]\n",
    "array3 # 3 x 4 크기의 matrix가 만들어진 것"
   ]
  },
  {
   "cell_type": "code",
   "execution_count": 12,
   "id": "191b180e",
   "metadata": {},
   "outputs": [
    {
     "data": {
      "text/plain": [
       "[[0, 0, 0], [0, 0, 0], [0, 0, 0], [0, 0, 0]]"
      ]
     },
     "execution_count": 12,
     "metadata": {},
     "output_type": "execute_result"
    }
   ],
   "source": [
    "# 주의! M x N 크기의 2차원 리스트를 다음과 같이 쓰면 안된다.\n",
    "array4 = [[0]*m]*n\n",
    "array4 # 똑같은 [0, 0, 0] 4개를 만든 것에 불과"
   ]
  },
  {
   "cell_type": "markdown",
   "id": "cd723922",
   "metadata": {},
   "source": [
    "#### 리스트 관련 메서드\n",
    "- append() : 원소 1개 삽입\n",
    "- sort() / sort(reverse=True) : 오름차순 정렬 / 내림차순 정렬\n",
    "- reverse() : 순서 반대로 돌리기\n",
    "- insert(위치, 특정값) : 원하는 위치에 특정값 삽입\n",
    "- count() : 특정 값의 개수\n",
    "- remove() : 특정 값 제거. 그 값이 여러 개이면 맨 앞 숫자 하나만 제거된다."
   ]
  },
  {
   "cell_type": "code",
   "execution_count": 13,
   "id": "aa5cac78",
   "metadata": {},
   "outputs": [
    {
     "name": "stdout",
     "output_type": "stream",
     "text": [
      "a = [1, 2, 3, 4, 5, 5]\n",
      "b = [1, 2, 4]\n"
     ]
    }
   ],
   "source": [
    "# remove()\n",
    "a = [1, 2, 3, 4, 5, 5, 5]\n",
    "a.remove(5)\n",
    "print(\"a =\", a)\n",
    "\n",
    "# 특정 값을 모두 제거하고 싶을 때\n",
    "b = [1, 2, 3, 4, 5, 5, 5]\n",
    "remove_set = {3, 5}\n",
    "result = [i for i in b if i not in remove_set]\n",
    "print(\"b =\", result)"
   ]
  },
  {
   "cell_type": "markdown",
   "id": "49e98997",
   "metadata": {},
   "source": [
    "-----------"
   ]
  },
  {
   "cell_type": "markdown",
   "id": "29446ee8",
   "metadata": {},
   "source": [
    "### #51. 2016년 11월 영화 예매 순위 기준 top3는 다음과 같습니다. 영화 제목을 movie_rank 이름의 리스트에 저장해보세요. (순위 정보는 저장하지 않습니다.)\n",
    "\n",
    ">1위\t닥터 스트레인지  \n",
    "2위\t스플릿  \n",
    "3위\t럭키  "
   ]
  },
  {
   "cell_type": "code",
   "execution_count": 1,
   "id": "ef9a8ffa",
   "metadata": {},
   "outputs": [
    {
     "data": {
      "text/plain": [
       "['닥터 스트레인지', '스플릿', '럭키']"
      ]
     },
     "execution_count": 1,
     "metadata": {},
     "output_type": "execute_result"
    }
   ],
   "source": [
    "movie_rank = [\"닥터 스트레인지\", \"스플릿\", \"럭키\"]\n",
    "movie_rank"
   ]
  },
  {
   "cell_type": "markdown",
   "id": "6c762044",
   "metadata": {},
   "source": [
    "### #52. 051의 movie_rank 리스트에 \"배트맨\"을 추가하라."
   ]
  },
  {
   "cell_type": "code",
   "execution_count": 2,
   "id": "cc9bd534",
   "metadata": {},
   "outputs": [
    {
     "data": {
      "text/plain": [
       "['닥터 스트레인지', '스플릿', '럭키', '배트맨']"
      ]
     },
     "execution_count": 2,
     "metadata": {},
     "output_type": "execute_result"
    }
   ],
   "source": [
    "movie_rank.append(\"배트맨\")\n",
    "movie_rank"
   ]
  },
  {
   "cell_type": "markdown",
   "id": "e6c27843",
   "metadata": {},
   "source": [
    "### #53. movie_rank 리스트에는 아래와 같이 네 개의 영화 제목이 바인딩되어 있다. \"슈퍼맨\"을 \"닥터 스트레인지\"와 \"스플릿\" 사이에 추가하라.\n",
    "\n",
    "> movie_rank = ['닥터 스트레인지', '스플릿', '럭키', '배트맨']"
   ]
  },
  {
   "cell_type": "code",
   "execution_count": 4,
   "id": "b8bc00d2",
   "metadata": {},
   "outputs": [
    {
     "data": {
      "text/plain": [
       "['닥터 스트레인지', '슈퍼맨', '스플릿', '럭키', '배트맨']"
      ]
     },
     "execution_count": 4,
     "metadata": {},
     "output_type": "execute_result"
    }
   ],
   "source": [
    "movie_rank = ['닥터 스트레인지', '스플릿', '럭키', '배트맨']\n",
    "movie_rank.insert(1, '슈퍼맨')\n",
    "movie_rank"
   ]
  },
  {
   "cell_type": "markdown",
   "id": "04fb9c23",
   "metadata": {},
   "source": [
    "### #54. movie_rank 리스트에서 '럭키'를 삭제하라.\n",
    "\n",
    "> movie_rank = ['닥터 스트레인지', '슈퍼맨', '스플릿', '럭키', '배트맨']"
   ]
  },
  {
   "cell_type": "code",
   "execution_count": 14,
   "id": "8fd38340",
   "metadata": {},
   "outputs": [
    {
     "data": {
      "text/plain": [
       "['닥터 스트레인지', '슈퍼맨', '스플릿', '배트맨']"
      ]
     },
     "execution_count": 14,
     "metadata": {},
     "output_type": "execute_result"
    }
   ],
   "source": [
    "movie_rank = ['닥터 스트레인지', '슈퍼맨', '스플릿', '럭키', '배트맨']\n",
    "movie_rank.remove('럭키')\n",
    "movie_rank"
   ]
  },
  {
   "cell_type": "markdown",
   "id": "dbea2db3",
   "metadata": {},
   "source": [
    "### #55. movie_rank 리스트에서 '스플릿' 과 '배트맨'을 를 삭제하라.\n",
    "\n",
    "> movie_rank = ['닥터 스트레인지', '슈퍼맨', '스플릿', '배트맨']"
   ]
  },
  {
   "cell_type": "code",
   "execution_count": 16,
   "id": "171fb2cd",
   "metadata": {},
   "outputs": [
    {
     "data": {
      "text/plain": [
       "['닥터 스트레인지', '슈퍼맨']"
      ]
     },
     "execution_count": 16,
     "metadata": {},
     "output_type": "execute_result"
    }
   ],
   "source": [
    "movie_rank = ['닥터 스트레인지', '슈퍼맨', '스플릿', '배트맨']\n",
    "movie_rank.remove('스플릿')\n",
    "movie_rank.remove('배트맨')\n",
    "movie_rank"
   ]
  },
  {
   "cell_type": "code",
   "execution_count": 17,
   "id": "983af1d1",
   "metadata": {},
   "outputs": [
    {
     "name": "stdout",
     "output_type": "stream",
     "text": [
      "['닥터 스트레인지', '슈퍼맨']\n"
     ]
    }
   ],
   "source": [
    "# 정답 - del과 리스트 인덱싱을 활용하여 삭제하는 방법도 있다.\n",
    "movie_rank = ['닥터 스트레인지', '슈퍼맨', '스플릿', '배트맨']\n",
    "del movie_rank[2]\n",
    "del movie_rank[2]\n",
    "print(movie_rank)"
   ]
  },
  {
   "cell_type": "markdown",
   "id": "9b194014",
   "metadata": {},
   "source": [
    "### #56. lang1과 lang2 리스트가 있을 때 lang1과 lang2의 원소를 모두 갖고 있는 langs 리스트를 만들어라.\n",
    "\n",
    "> lang1 = [\"C\", \"C++\", \"JAVA\"]  \n",
    " lang2 = [\"Python\", \"Go\", \"C#\"]  \n",
    " \n",
    "> langs = ['C', 'C++', 'JAVA', 'Python', 'Go', 'C#']"
   ]
  },
  {
   "cell_type": "code",
   "execution_count": 19,
   "id": "198d44c1",
   "metadata": {},
   "outputs": [
    {
     "name": "stdout",
     "output_type": "stream",
     "text": [
      "langs = ['C', 'C++', 'JAVA', 'Python', 'Go', 'C#']\n"
     ]
    }
   ],
   "source": [
    "lang1 = [\"C\", \"C++\", \"JAVA\"]\n",
    "lang2 = [\"Python\", \"Go\", \"C#\"]\n",
    "\n",
    "print(\"langs =\", lang1 + lang2)"
   ]
  },
  {
   "cell_type": "markdown",
   "id": "496c779c",
   "metadata": {},
   "source": [
    "### #57. 다음 리스트에서 최댓값과 최솟값을 출력하라. (힌트: min(), max() 함수 사용)\n",
    "\n",
    "> nums = [1, 2, 3, 4, 5, 6, 7]"
   ]
  },
  {
   "cell_type": "code",
   "execution_count": 23,
   "id": "c824b92b",
   "metadata": {},
   "outputs": [
    {
     "name": "stdout",
     "output_type": "stream",
     "text": [
      "min: 1\n",
      "max: 7\n"
     ]
    }
   ],
   "source": [
    "nums = [1, 2, 3, 4, 5, 6, 7]\n",
    "print(\"min:\", min(nums))\n",
    "print(\"max:\", max(nums))"
   ]
  },
  {
   "cell_type": "markdown",
   "id": "e5c49795",
   "metadata": {},
   "source": [
    "### #58. 다음 리스트의 합을 출력하라.\n",
    "\n",
    "> nums = [1, 2, 3, 4, 5]"
   ]
  },
  {
   "cell_type": "code",
   "execution_count": 26,
   "id": "f06b5fad",
   "metadata": {},
   "outputs": [
    {
     "name": "stdout",
     "output_type": "stream",
     "text": [
      "15\n"
     ]
    }
   ],
   "source": [
    "nums = [1, 2, 3, 4, 5]\n",
    "a = 0\n",
    "\n",
    "for i in nums:\n",
    "    a += i\n",
    "print(a)"
   ]
  },
  {
   "cell_type": "code",
   "execution_count": 27,
   "id": "503ad467",
   "metadata": {},
   "outputs": [
    {
     "name": "stdout",
     "output_type": "stream",
     "text": [
      "15\n"
     ]
    }
   ],
   "source": [
    "# 정답 - sum() 함수 사용하기\n",
    "nums = [1, 2, 3, 4, 5]\n",
    "print(sum(nums))"
   ]
  },
  {
   "cell_type": "markdown",
   "id": "29a9f5b7",
   "metadata": {},
   "source": [
    "### #59. 다음 리스트에 저장된 데이터의 개수를 화면에 구하하라.\n",
    "\n",
    "> cook = [\"피자\", \"김밥\", \"만두\", \"양념치킨\", \"족발\", \"피자\", \"김치만두\", \"쫄면\", \"소시지\", \"라면\", \"팥빙수\", \"김치전\"]"
   ]
  },
  {
   "cell_type": "code",
   "execution_count": 29,
   "id": "1ea3312e",
   "metadata": {},
   "outputs": [
    {
     "name": "stdout",
     "output_type": "stream",
     "text": [
      "12\n"
     ]
    }
   ],
   "source": [
    "cook = [\"피자\", \"김밥\", \"만두\", \"양념치킨\", \"족발\", \"피자\", \"김치만두\", \"쫄면\", \"소시지\", \"라면\", \"팥빙수\", \"김치전\"]\n",
    "print(len(cook))"
   ]
  },
  {
   "cell_type": "markdown",
   "id": "91fde92f",
   "metadata": {},
   "source": [
    "### #60. 다음 리스트의 평균을 출력하라.\n",
    "\n",
    "> nums = [1, 2, 3, 4, 5]"
   ]
  },
  {
   "cell_type": "code",
   "execution_count": 30,
   "id": "cea87db9",
   "metadata": {},
   "outputs": [
    {
     "name": "stdout",
     "output_type": "stream",
     "text": [
      "3.0\n"
     ]
    }
   ],
   "source": [
    "nums = [1, 2, 3, 4, 5]\n",
    "print(sum(nums) / len(nums))"
   ]
  },
  {
   "cell_type": "markdown",
   "id": "e27d87dc",
   "metadata": {},
   "source": [
    "### #61. price 변수에는 날짜와 종가 정보가 저장돼 있다. 날짜 정보를 제외하고 가격 정보만을 출력하라.\n",
    "\n",
    "> price = ['20180728', 100, 130, 140, 150, 160, 170]"
   ]
  },
  {
   "cell_type": "code",
   "execution_count": 31,
   "id": "6f0d2837",
   "metadata": {},
   "outputs": [
    {
     "name": "stdout",
     "output_type": "stream",
     "text": [
      "[100, 130, 140, 150, 160, 170]\n"
     ]
    }
   ],
   "source": [
    "price = ['20180728', 100, 130, 140, 150, 160, 170]\n",
    "print(price[1:])"
   ]
  },
  {
   "cell_type": "markdown",
   "id": "dcf83b89",
   "metadata": {},
   "source": [
    "### #62. 슬라이싱을 사용해서 홀수만 출력하라.\n",
    "\n",
    "> nums = [1, 2, 3, 4, 5, 6, 7, 8, 9, 10]"
   ]
  },
  {
   "cell_type": "code",
   "execution_count": 32,
   "id": "0188de06",
   "metadata": {},
   "outputs": [
    {
     "name": "stdout",
     "output_type": "stream",
     "text": [
      "[1, 3, 5, 7, 9]\n"
     ]
    }
   ],
   "source": [
    "nums = [1, 2, 3, 4, 5, 6, 7, 8, 9, 10]\n",
    "print(nums[::2])"
   ]
  },
  {
   "cell_type": "markdown",
   "id": "6c298edc",
   "metadata": {},
   "source": [
    "### #63. 슬라이싱을 사용해서 짝수만 출력하라.\n",
    "\n",
    "> nums = [1, 2, 3, 4, 5, 6, 7, 8, 9, 10]"
   ]
  },
  {
   "cell_type": "code",
   "execution_count": 33,
   "id": "55654cf1",
   "metadata": {},
   "outputs": [
    {
     "name": "stdout",
     "output_type": "stream",
     "text": [
      "[2, 4, 6, 8, 10]\n"
     ]
    }
   ],
   "source": [
    "nums = [1, 2, 3, 4, 5, 6, 7, 8, 9, 10]\n",
    "print(nums[1::2])"
   ]
  },
  {
   "cell_type": "markdown",
   "id": "1f6f7519",
   "metadata": {},
   "source": [
    "### #64. 슬라이싱을 사용해서 리스트의 숫자를 역 방향으로 출력하라.\n",
    "\n",
    "> nums = [1, 2, 3, 4, 5]"
   ]
  },
  {
   "cell_type": "code",
   "execution_count": 34,
   "id": "f55b45b2",
   "metadata": {},
   "outputs": [
    {
     "name": "stdout",
     "output_type": "stream",
     "text": [
      "[5, 4, 3, 2, 1]\n"
     ]
    }
   ],
   "source": [
    "nums = [1, 2, 3, 4, 5]\n",
    "print(nums[::-1])"
   ]
  },
  {
   "cell_type": "markdown",
   "id": "e59cedcc",
   "metadata": {},
   "source": [
    "### #65. interest 리스트에는 아래의 데이터가 바인딩되어 있다.\n",
    "\n",
    ">interest = ['삼성전자', 'LG전자', 'Naver']\n",
    "\n",
    "### interest 리스트를 사용하여 아래와 같이 화면에 출력하라.\n",
    "\n",
    "> 삼성전자 Naver"
   ]
  },
  {
   "cell_type": "code",
   "execution_count": 35,
   "id": "d737653c",
   "metadata": {},
   "outputs": [
    {
     "name": "stdout",
     "output_type": "stream",
     "text": [
      "삼성전자 Naver\n"
     ]
    }
   ],
   "source": [
    "interest = ['삼성전자', 'LG전자', 'Naver']\n",
    "print(interest[0], interest[2])"
   ]
  },
  {
   "cell_type": "markdown",
   "id": "bb0c9543",
   "metadata": {},
   "source": [
    "### #66. interest 리스트에는 아래의 데이터가 바인딩되어 있다.\n",
    "\n",
    "> interest = ['삼성전자', 'LG전자', 'Naver', 'SK하이닉스', '미래에셋대우']\n",
    "\n",
    "### interest 리스트를 사용하여 아래와 같이 화면에 출력하라.\n",
    "\n",
    "> 삼성전자 LG전자 Naver SK하이닉스 미래에셋대우"
   ]
  },
  {
   "cell_type": "code",
   "execution_count": 37,
   "id": "b76ab274",
   "metadata": {},
   "outputs": [
    {
     "name": "stdout",
     "output_type": "stream",
     "text": [
      "삼성전자 LG전자 Naver SK하이닉스 미래에셋대우\n"
     ]
    }
   ],
   "source": [
    "interest = ['삼성전자', 'LG전자', 'Naver', 'SK하이닉스', '미래에셋대우']\n",
    "print(\" \".join(interest))"
   ]
  },
  {
   "cell_type": "markdown",
   "id": "bb7053e1",
   "metadata": {},
   "source": [
    "- [join() 함수 사용법](https://blockdmask.tistory.com/468)"
   ]
  },
  {
   "cell_type": "markdown",
   "id": "35576db6",
   "metadata": {},
   "source": [
    "### #67. interest 리스트에는 아래의 데이터가 바인딩되어 있다.\n",
    "\n",
    "> interest = ['삼성전자', 'LG전자', 'Naver', 'SK하이닉스', '미래에셋대우']\n",
    "\n",
    "### interest 리스트를 사용하여 아래와 같이 화면에 출력하라.\n",
    "\n",
    "> 삼성전자/LG전자/Naver/SK하이닉스/미래에셋대우"
   ]
  },
  {
   "cell_type": "code",
   "execution_count": 38,
   "id": "b6071ede",
   "metadata": {},
   "outputs": [
    {
     "name": "stdout",
     "output_type": "stream",
     "text": [
      "삼성전자/LG전자/Naver/SK하이닉스/미래에셋대우\n"
     ]
    }
   ],
   "source": [
    "interest = ['삼성전자', 'LG전자', 'Naver', 'SK하이닉스', '미래에셋대우']\n",
    "print(\"/\".join(interest))"
   ]
  },
  {
   "cell_type": "markdown",
   "id": "dda77a22",
   "metadata": {},
   "source": [
    "### #68. interest 리스트에는 아래의 데이터가 바인딩되어 있다.\n",
    "\n",
    ">interest = ['삼성전자', 'LG전자', 'Naver', 'SK하이닉스', '미래에셋대우']\n",
    "### join() 메서드를 사용해서 interest 리스트를 아래와 같이 화면에 출력하라.\n",
    ">삼성전자  \n",
    "LG전자  \n",
    "Naver  \n",
    "SK하이닉스  \n",
    "미래에셋대우"
   ]
  },
  {
   "cell_type": "code",
   "execution_count": 39,
   "id": "8007d6a2",
   "metadata": {},
   "outputs": [
    {
     "name": "stdout",
     "output_type": "stream",
     "text": [
      "삼성전자\n",
      "LG전자\n",
      "Naver\n",
      "SK하이닉스\n",
      "미래에셋대우\n"
     ]
    }
   ],
   "source": [
    "interest = ['삼성전자', 'LG전자', 'Naver', 'SK하이닉스', '미래에셋대우']\n",
    "print(\"\\n\".join(interest))"
   ]
  },
  {
   "cell_type": "markdown",
   "id": "896047f1",
   "metadata": {},
   "source": [
    "### #69. 회사 이름이 슬래시 ('/')로 구분되어 하나의 문자열로 저장되어 있다.\n",
    "\n",
    "> string = \"삼성전자/LG전자/Naver\"\n",
    "### 이를 interest 이름의 리스트로 분리 저장하라.\n",
    "\n",
    "> print(interest)  \n",
    "> ['삼성전자', 'LG전자', 'Naver']"
   ]
  },
  {
   "cell_type": "code",
   "execution_count": 43,
   "id": "4334edb2",
   "metadata": {},
   "outputs": [
    {
     "name": "stdout",
     "output_type": "stream",
     "text": [
      "['삼성전자', 'LG전자', 'Naver']\n"
     ]
    }
   ],
   "source": [
    "string = \"삼성전자/LG전자/Naver\"\n",
    "\n",
    "interest = string.split(\"/\")\n",
    "print(interest)"
   ]
  },
  {
   "cell_type": "markdown",
   "id": "6e33d510",
   "metadata": {},
   "source": [
    "### #70. 리스트에 있는 값을 오름차순으로 정렬하세요.\n",
    "\n",
    "> data = [2, 4, 3, 1, 5, 10, 9]"
   ]
  },
  {
   "cell_type": "code",
   "execution_count": 47,
   "id": "14fadcab",
   "metadata": {},
   "outputs": [
    {
     "name": "stdout",
     "output_type": "stream",
     "text": [
      "[1, 2, 3, 4, 5, 9, 10]\n"
     ]
    }
   ],
   "source": [
    "# sort() 함수 사용하는 경우\n",
    "data = [2, 4, 3, 1, 5, 10, 9]\n",
    "data.sort()\n",
    "print(data)"
   ]
  },
  {
   "cell_type": "code",
   "execution_count": 48,
   "id": "443d2848",
   "metadata": {},
   "outputs": [
    {
     "name": "stdout",
     "output_type": "stream",
     "text": [
      "[1, 2, 3, 4, 5, 9, 10]\n"
     ]
    }
   ],
   "source": [
    "# sorted() 함수 사용하는 경우\n",
    "data = [2, 4, 3, 1, 5, 10, 9]\n",
    "data2 = sorted(data)\n",
    "print(data2)"
   ]
  },
  {
   "cell_type": "markdown",
   "id": "a4edd12c",
   "metadata": {},
   "source": [
    "### #71. my_variable 이름의 비어있는 튜플을 만들라."
   ]
  },
  {
   "cell_type": "code",
   "execution_count": 50,
   "id": "7b54aee5",
   "metadata": {},
   "outputs": [
    {
     "name": "stdout",
     "output_type": "stream",
     "text": [
      "<class 'tuple'>\n"
     ]
    }
   ],
   "source": [
    "my_variable = ()\n",
    "print(type(my_variable))"
   ]
  },
  {
   "cell_type": "markdown",
   "id": "7a8d253f",
   "metadata": {},
   "source": [
    "### #72. 2016년 11월 영화 예매 순위 기준 top3는 다음과 같다. 영화 제목을 movie_rank 이름의 튜플에 저장하라. (순위 정보는 저장하지 않는다.)\n",
    "> 1위 \t닥터 스트레인지  \n",
    "2위\t스플릿  \n",
    "3위\t럭키"
   ]
  },
  {
   "cell_type": "code",
   "execution_count": 51,
   "id": "30c210f9",
   "metadata": {},
   "outputs": [
    {
     "name": "stdout",
     "output_type": "stream",
     "text": [
      "('닥터 스트레인지', '스플릿', '럭키') <class 'tuple'>\n"
     ]
    }
   ],
   "source": [
    "movie_rank = ('닥터 스트레인지', '스플릿', '럭키')\n",
    "print(movie_rank, type(movie_rank))"
   ]
  },
  {
   "cell_type": "markdown",
   "id": "c01646b4",
   "metadata": {},
   "source": [
    "### #73. 숫자 1 이 저장된 튜플을 생성하라."
   ]
  },
  {
   "cell_type": "code",
   "execution_count": 54,
   "id": "8c389ae9",
   "metadata": {},
   "outputs": [
    {
     "data": {
      "text/plain": [
       "tuple"
      ]
     },
     "execution_count": 54,
     "metadata": {},
     "output_type": "execute_result"
    }
   ],
   "source": [
    "tuple = (1, ) # 하나의 데이터가 저장되는 경우, 쉼표를 입력해야 한다.\n",
    "type(tuple)"
   ]
  },
  {
   "cell_type": "code",
   "execution_count": 55,
   "id": "2ba8c8e8",
   "metadata": {},
   "outputs": [
    {
     "data": {
      "text/plain": [
       "int"
      ]
     },
     "execution_count": 55,
     "metadata": {},
     "output_type": "execute_result"
    }
   ],
   "source": [
    "# cf. 쉼표를 입력하지 않는 경우 \n",
    "tuple2 = (1)\n",
    "type(tuple2)"
   ]
  },
  {
   "cell_type": "markdown",
   "id": "ed4526cc",
   "metadata": {},
   "source": [
    "### #74. 다음 코드를 실행해보고 오류가 발생하는 원인을 설명하라."
   ]
  },
  {
   "cell_type": "code",
   "execution_count": 56,
   "id": "5d1f9ada",
   "metadata": {},
   "outputs": [
    {
     "ename": "TypeError",
     "evalue": "'tuple' object does not support item assignment",
     "output_type": "error",
     "traceback": [
      "\u001b[0;31m---------------------------------------------------------------------------\u001b[0m",
      "\u001b[0;31mTypeError\u001b[0m                                 Traceback (most recent call last)",
      "Cell \u001b[0;32mIn[56], line 2\u001b[0m\n\u001b[1;32m      1\u001b[0m t \u001b[38;5;241m=\u001b[39m (\u001b[38;5;241m1\u001b[39m, \u001b[38;5;241m2\u001b[39m, \u001b[38;5;241m3\u001b[39m)\n\u001b[0;32m----> 2\u001b[0m t[\u001b[38;5;241m0\u001b[39m] \u001b[38;5;241m=\u001b[39m \u001b[38;5;124m'\u001b[39m\u001b[38;5;124ma\u001b[39m\u001b[38;5;124m'\u001b[39m\n",
      "\u001b[0;31mTypeError\u001b[0m: 'tuple' object does not support item assignment"
     ]
    }
   ],
   "source": [
    "t = (1, 2, 3)\n",
    "t[0] = 'a'\n",
    "# 튜플은 원소(element)의 값을 변경하는 것이 불가능하기 때문에 t[0] = 1을 a로 바꿀 수 없다."
   ]
  },
  {
   "cell_type": "markdown",
   "id": "085329d9",
   "metadata": {},
   "source": [
    "### #75. 아래와 같이 t에는 1, 2, 3, 4 데이터가 바인딩되어 있다. t가 바인딩하는 데이터 타입은 무엇인가?\n",
    "\n",
    "> t = 1, 2, 3, 4"
   ]
  },
  {
   "cell_type": "code",
   "execution_count": 57,
   "id": "7ad232ed",
   "metadata": {},
   "outputs": [
    {
     "data": {
      "text/plain": [
       "tuple"
      ]
     },
     "execution_count": 57,
     "metadata": {},
     "output_type": "execute_result"
    }
   ],
   "source": [
    "t = 1, 2, 3, 4\n",
    "type(t)\n",
    "# 원칙적으로 튜플은 괄호와 함께 데이터를 정의해야 하지만, 사용자 편의를 위해 괄호 없이도 동작한다."
   ]
  },
  {
   "cell_type": "markdown",
   "id": "7dd7ac04",
   "metadata": {},
   "source": [
    "### #76. 변수 t에는 아래와 같은 값이 저장되어 있다. 변수 t가 ('A', 'b', 'c') 튜플을 가리키도록 수정 하라.\n",
    "\n",
    "> t = ('a', 'b', 'c')"
   ]
  },
  {
   "cell_type": "code",
   "execution_count": 58,
   "id": "99e253a5",
   "metadata": {},
   "outputs": [
    {
     "data": {
      "text/plain": [
       "('A', 'b', 'c')"
      ]
     },
     "execution_count": 58,
     "metadata": {},
     "output_type": "execute_result"
    }
   ],
   "source": [
    "t = ('a', 'b', 'c')\n",
    "t = ('A', 'b', 'c') # 튜플의 값은 변경할 수 없으므로, 새로운 튜플을 만들고 t 라는 변수를 업데이트 해야 한다.\n",
    "t"
   ]
  },
  {
   "cell_type": "markdown",
   "id": "3624d223",
   "metadata": {},
   "source": [
    "### #77. 다음 튜플을 리스트로 변환하라.\n",
    "\n",
    "> interest = ('삼성전자', 'LG전자', 'SK Hynix')"
   ]
  },
  {
   "cell_type": "code",
   "execution_count": 59,
   "id": "ce0d0c18",
   "metadata": {},
   "outputs": [
    {
     "data": {
      "text/plain": [
       "['삼성전자', 'LG전자', 'SK Hynix']"
      ]
     },
     "execution_count": 59,
     "metadata": {},
     "output_type": "execute_result"
    }
   ],
   "source": [
    "interest = ('삼성전자', 'LG전자', 'SK Hynix')\n",
    "interest_list = list(interest)\n",
    "interest_list"
   ]
  },
  {
   "cell_type": "markdown",
   "id": "af610207",
   "metadata": {},
   "source": [
    "### #78. 다음 리스트를 튜플로 변경하라.\n",
    "\n",
    "> interest = ['삼성전자', 'LG전자', 'SK Hynix']"
   ]
  },
  {
   "cell_type": "code",
   "execution_count": 1,
   "id": "5a77ab78",
   "metadata": {},
   "outputs": [
    {
     "data": {
      "text/plain": [
       "('삼성전자', 'LG전자', 'SK Hynix')"
      ]
     },
     "execution_count": 1,
     "metadata": {},
     "output_type": "execute_result"
    }
   ],
   "source": [
    "interest = ['삼성전자', 'LG전자', 'SK Hynix']\n",
    "interest_tuple = tuple(interest)\n",
    "interest_tuple"
   ]
  },
  {
   "cell_type": "markdown",
   "id": "965d7b21",
   "metadata": {},
   "source": [
    "### #79. 다음 코드의 실행 결과를 예상하라.\n",
    "\n",
    ">temp = ('apple', 'banana', 'cake')  \n",
    "a, b, c = temp  \n",
    "print(a, b, c)"
   ]
  },
  {
   "cell_type": "code",
   "execution_count": 2,
   "id": "24ec3d7b",
   "metadata": {},
   "outputs": [
    {
     "name": "stdout",
     "output_type": "stream",
     "text": [
      "apple banana cake\n"
     ]
    }
   ],
   "source": [
    "temp = ('apple', 'banana', 'cake')\n",
    "a, b, c = temp\n",
    "print(a, b, c)"
   ]
  },
  {
   "cell_type": "markdown",
   "id": "8150ea29",
   "metadata": {},
   "source": [
    "### #80. 1 부터 99까지의 정수 중 짝수만 저장된 튜플을 생성하라.\n",
    "\n",
    "> (2, 4, 6, 8 ... 98)"
   ]
  },
  {
   "cell_type": "code",
   "execution_count": 6,
   "id": "ca84caa2",
   "metadata": {},
   "outputs": [
    {
     "name": "stdout",
     "output_type": "stream",
     "text": [
      "(2, 4, 6, 8, 10, 12, 14, 16, 18, 20, 22, 24, 26, 28, 30, 32, 34, 36, 38, 40, 42, 44, 46, 48, 50, 52, 54, 56, 58, 60, 62, 64, 66, 68, 70, 72, 74, 76, 78, 80, 82, 84, 86, 88, 90, 92, 94, 96, 98)\n"
     ]
    }
   ],
   "source": [
    "t = tuple(range(2,100,2))\n",
    "print(t)"
   ]
  },
  {
   "cell_type": "markdown",
   "id": "4996db38",
   "metadata": {},
   "source": [
    "### #81. 다음과 같이 10개의 값이 저장된 scores 리스트가 있을 때, start expression을 사용하여 좌측 8개의 값을 valid_score 변수에 바인딩하여라.\n",
    "\n",
    "> scores = [8.8, 8.9, 8.7, 9.2, 9.3, 9.7, 9.9, 9.5, 7.8, 9.4]"
   ]
  },
  {
   "cell_type": "code",
   "execution_count": 7,
   "id": "bb470356",
   "metadata": {},
   "outputs": [
    {
     "data": {
      "text/plain": [
       "[8.8, 8.9, 8.7, 9.2, 9.3, 9.7, 9.9, 9.5]"
      ]
     },
     "execution_count": 7,
     "metadata": {},
     "output_type": "execute_result"
    }
   ],
   "source": [
    "scores = [8.8, 8.9, 8.7, 9.2, 9.3, 9.7, 9.9, 9.5, 7.8, 9.4]\n",
    "*valid_score, _, _ = scores\n",
    "valid_score"
   ]
  },
  {
   "cell_type": "code",
   "execution_count": 8,
   "id": "27476195",
   "metadata": {},
   "outputs": [
    {
     "name": "stdout",
     "output_type": "stream",
     "text": [
      "0\n",
      "1\n",
      "[2, 3, 4, 5]\n"
     ]
    }
   ],
   "source": [
    "# * 사용방법\n",
    "a, b, *c = (0, 1, 2, 3, 4, 5)\n",
    "print(a)\n",
    "print(b)\n",
    "print(c)"
   ]
  },
  {
   "cell_type": "markdown",
   "id": "9e4008ac",
   "metadata": {},
   "source": [
    "### #82. 다음과 같이 10개의 값이 저장된 scores 리스트가 있을 때, start expression을 사용하여 우측 8개의 값을 valid_score 변수에 바인딩하여라.\n",
    "\n",
    "> scores = [8.8, 8.9, 8.7, 9.2, 9.3, 9.7, 9.9, 9.5, 7.8, 9.4]"
   ]
  },
  {
   "cell_type": "code",
   "execution_count": 9,
   "id": "270b9fe0",
   "metadata": {},
   "outputs": [
    {
     "data": {
      "text/plain": [
       "[8.7, 9.2, 9.3, 9.7, 9.9, 9.5, 7.8, 9.4]"
      ]
     },
     "execution_count": 9,
     "metadata": {},
     "output_type": "execute_result"
    }
   ],
   "source": [
    "scores = [8.8, 8.9, 8.7, 9.2, 9.3, 9.7, 9.9, 9.5, 7.8, 9.4]\n",
    "_, _, *valid_score = scores\n",
    "valid_score"
   ]
  },
  {
   "cell_type": "markdown",
   "id": "16c770d2",
   "metadata": {},
   "source": [
    "### #83. 다음과 같이 10개의 값이 저장된 scores 리스트가 있을 때, start expression을 사용하여 가운데 있는 8개의 값을 valid_score 변수에 바인딩하여라.\n",
    "\n",
    "> scores = [8.8, 8.9, 8.7, 9.2, 9.3, 9.7, 9.9, 9.5, 7.8, 9.4]"
   ]
  },
  {
   "cell_type": "code",
   "execution_count": 10,
   "id": "535ebe7f",
   "metadata": {},
   "outputs": [
    {
     "data": {
      "text/plain": [
       "[8.9, 8.7, 9.2, 9.3, 9.7, 9.9, 9.5, 7.8]"
      ]
     },
     "execution_count": 10,
     "metadata": {},
     "output_type": "execute_result"
    }
   ],
   "source": [
    "scores = [8.8, 8.9, 8.7, 9.2, 9.3, 9.7, 9.9, 9.5, 7.8, 9.4]\n",
    "_, *valid_score, _ = scores\n",
    "valid_score"
   ]
  },
  {
   "cell_type": "markdown",
   "id": "f3bdfba2",
   "metadata": {},
   "source": [
    "### #84. temp 이름의 비어있는 딕셔너리를 만들라."
   ]
  },
  {
   "cell_type": "code",
   "execution_count": 12,
   "id": "3ac304a3",
   "metadata": {},
   "outputs": [
    {
     "name": "stdout",
     "output_type": "stream",
     "text": [
      "<class 'dict'>\n"
     ]
    }
   ],
   "source": [
    "temp = { }\n",
    "print(type(temp))"
   ]
  },
  {
   "cell_type": "markdown",
   "id": "8cd7949c",
   "metadata": {},
   "source": [
    "### #85. 다음 아이스크림 이름과 희망 가격을 딕셔너리로 구성하라.\n",
    "\n",
    "> 이름 / 희망 가격  \n",
    " 메로나 / 1000  \n",
    " 폴라포 / 1200  \n",
    " 빵빠레 / 1800  "
   ]
  },
  {
   "cell_type": "code",
   "execution_count": 14,
   "id": "ddc10511",
   "metadata": {},
   "outputs": [
    {
     "name": "stdout",
     "output_type": "stream",
     "text": [
      "{'메로나': 1000, '폴라포': 1200, '빵빠레': 1800}\n"
     ]
    }
   ],
   "source": [
    "ice_cream = {'메로나': 1000, '폴라포': 1200, '빵빠레': 1800}\n",
    "print(ice_cream)"
   ]
  },
  {
   "cell_type": "markdown",
   "id": "751f6251",
   "metadata": {},
   "source": [
    "### #86. 085 번의 딕셔너리에 아래 아이스크림 가격정보를 추가하라.\n",
    "\n",
    ">이름 / 희망 가격  \n",
    "죠스바 / 1200  \n",
    "월드콘 / 1500"
   ]
  },
  {
   "cell_type": "code",
   "execution_count": 15,
   "id": "116f08e1",
   "metadata": {},
   "outputs": [
    {
     "name": "stdout",
     "output_type": "stream",
     "text": [
      "{'메로나': 1000, '폴라포': 1200, '빵빠레': 1800, '죠스바': 1200, '월드콘': 1500}\n"
     ]
    }
   ],
   "source": [
    "ice_cream = {'메로나': 1000, '폴라포': 1200, '빵빠레': 1800}\n",
    "ice_cream['죠스바'] = 1200\n",
    "ice_cream['월드콘'] = 1500\n",
    "print(ice_cream)"
   ]
  },
  {
   "cell_type": "markdown",
   "id": "48b92d6b",
   "metadata": {},
   "source": [
    "### #87. 다음 딕셔너리를 사용하여 메로나 가격을 출력하라.\n",
    "\n",
    "> ice = {'메로나': 1000,\n",
    "       '폴로포': 1200,\n",
    "       '빵빠레': 1800,\n",
    "       '죠스바': 1200,\n",
    "       '월드콘': 1500}"
   ]
  },
  {
   "cell_type": "code",
   "execution_count": 18,
   "id": "7c69b068",
   "metadata": {},
   "outputs": [
    {
     "name": "stdout",
     "output_type": "stream",
     "text": [
      "메로나 가격: 1000\n"
     ]
    }
   ],
   "source": [
    "ice = {'메로나': 1000,\n",
    "       '폴로포': 1200,\n",
    "       '빵빠레': 1800,\n",
    "       '죠스바': 1200,\n",
    "       '월드콘': 1500}\n",
    "\n",
    "print(\"메로나 가격:\", ice['메로나'])"
   ]
  },
  {
   "cell_type": "markdown",
   "id": "c27edebb",
   "metadata": {},
   "source": [
    "### #88. 다음 딕셔너리에서 메로나의 가격을 1300으로 수정하라.\n",
    "\n",
    "> ice = {'메로나': 1000,\n",
    "       '폴로포': 1200,\n",
    "       '빵빠레': 1800,\n",
    "       '죠스바': 1200,\n",
    "       '월드콘': 1500}"
   ]
  },
  {
   "cell_type": "code",
   "execution_count": 19,
   "id": "813cb49c",
   "metadata": {},
   "outputs": [
    {
     "name": "stdout",
     "output_type": "stream",
     "text": [
      "{'메로나': 1300, '폴로포': 1200, '빵빠레': 1800, '죠스바': 1200, '월드콘': 1500}\n"
     ]
    }
   ],
   "source": [
    "ice = {'메로나': 1000,\n",
    "       '폴로포': 1200,\n",
    "       '빵빠레': 1800,\n",
    "       '죠스바': 1200,\n",
    "       '월드콘': 1500}\n",
    "\n",
    "ice['메로나'] = 1300\n",
    "print(ice)"
   ]
  },
  {
   "cell_type": "markdown",
   "id": "9172b50f",
   "metadata": {},
   "source": [
    "### #89. 다음 딕셔너리에서 메로나를 삭제하라.\n",
    "\n",
    "> ice = {'메로나': 1000,\n",
    "       '폴로포': 1200,\n",
    "       '빵빠레': 1800,\n",
    "       '죠스바': 1200,\n",
    "       '월드콘': 1500}"
   ]
  },
  {
   "cell_type": "code",
   "execution_count": 20,
   "id": "81e346f5",
   "metadata": {},
   "outputs": [
    {
     "name": "stdout",
     "output_type": "stream",
     "text": [
      "{'폴로포': 1200, '빵빠레': 1800, '죠스바': 1200, '월드콘': 1500}\n"
     ]
    }
   ],
   "source": [
    "ice = {'메로나': 1000,\n",
    "       '폴로포': 1200,\n",
    "       '빵빠레': 1800,\n",
    "       '죠스바': 1200,\n",
    "       '월드콘': 1500}\n",
    "del ice['메로나']\n",
    "print(ice)"
   ]
  },
  {
   "cell_type": "markdown",
   "id": "8def8493",
   "metadata": {},
   "source": [
    "### #90. 다음 코드에서 에러가 발생한 원인을 설명하라."
   ]
  },
  {
   "cell_type": "code",
   "execution_count": 21,
   "id": "1b0523e6",
   "metadata": {},
   "outputs": [
    {
     "ename": "KeyError",
     "evalue": "'누가바'",
     "output_type": "error",
     "traceback": [
      "\u001b[0;31m---------------------------------------------------------------------------\u001b[0m",
      "\u001b[0;31mKeyError\u001b[0m                                  Traceback (most recent call last)",
      "Cell \u001b[0;32mIn[21], line 2\u001b[0m\n\u001b[1;32m      1\u001b[0m icecream \u001b[38;5;241m=\u001b[39m {\u001b[38;5;124m'\u001b[39m\u001b[38;5;124m폴라포\u001b[39m\u001b[38;5;124m'\u001b[39m: \u001b[38;5;241m1200\u001b[39m, \u001b[38;5;124m'\u001b[39m\u001b[38;5;124m빵빠레\u001b[39m\u001b[38;5;124m'\u001b[39m: \u001b[38;5;241m1800\u001b[39m, \u001b[38;5;124m'\u001b[39m\u001b[38;5;124m월드콘\u001b[39m\u001b[38;5;124m'\u001b[39m: \u001b[38;5;241m1500\u001b[39m, \u001b[38;5;124m'\u001b[39m\u001b[38;5;124m메로나\u001b[39m\u001b[38;5;124m'\u001b[39m: \u001b[38;5;241m1000\u001b[39m}\n\u001b[0;32m----> 2\u001b[0m \u001b[43micecream\u001b[49m\u001b[43m[\u001b[49m\u001b[38;5;124;43m'\u001b[39;49m\u001b[38;5;124;43m누가바\u001b[39;49m\u001b[38;5;124;43m'\u001b[39;49m\u001b[43m]\u001b[49m\n",
      "\u001b[0;31mKeyError\u001b[0m: '누가바'"
     ]
    }
   ],
   "source": [
    "icecream = {'폴라포': 1200, '빵빠레': 1800, '월드콘': 1500, '메로나': 1000}\n",
    "icecream['누가바']\n",
    "# icecream이라는 dict에는 '누가바'라는 key가 존재하지 않기 때문에 error가 발생(딕셔너리에 없는 키를 사용해서 인덱싱하면 에러가 발생)"
   ]
  },
  {
   "cell_type": "markdown",
   "id": "2f14c985",
   "metadata": {},
   "source": [
    "### #91. 아래의 표에서, 아이스크림 이름을 키값으로, (가격, 재고) 리스트를 딕셔너리의 값으로 저장하라. 딕셔너리의 이름은 inventory로 한다.\n",
    "\n",
    ">이름 / 가격 / 재고  \n",
    "메로나 / 300 / 20  \n",
    "비비빅 / 400 / 3  \n",
    "죠스바 / 250 / 100  "
   ]
  },
  {
   "cell_type": "code",
   "execution_count": 22,
   "id": "d1eae225",
   "metadata": {},
   "outputs": [
    {
     "name": "stdout",
     "output_type": "stream",
     "text": [
      "{'메로나': [300, 20], '비비빅': [400, 3], '죠스바': [250, 100]}\n"
     ]
    }
   ],
   "source": [
    "inventory = {'메로나': [300, 20], '비비빅': [400, 3], '죠스바': [250, 100]}\n",
    "print(inventory)"
   ]
  },
  {
   "cell_type": "markdown",
   "id": "3882254a",
   "metadata": {},
   "source": [
    "### #92. inventory 딕셔너리에서 메로나의 가격을 화면에 출력하라."
   ]
  },
  {
   "cell_type": "code",
   "execution_count": 24,
   "id": "04358b78",
   "metadata": {},
   "outputs": [
    {
     "name": "stdout",
     "output_type": "stream",
     "text": [
      "300 원\n"
     ]
    }
   ],
   "source": [
    "inventory = {\"메로나\": [300, 20],\n",
    "              \"비비빅\": [400, 3],\n",
    "              \"죠스바\": [250, 100]}\n",
    "\n",
    "print(inventory[\"메로나\"][0], \"원\")"
   ]
  },
  {
   "cell_type": "markdown",
   "id": "c8795d7b",
   "metadata": {},
   "source": [
    "### #93. inventory 딕셔너리에서 메로나의 재고를 화면에 출력하라."
   ]
  },
  {
   "cell_type": "code",
   "execution_count": 25,
   "id": "13c0910a",
   "metadata": {},
   "outputs": [
    {
     "name": "stdout",
     "output_type": "stream",
     "text": [
      "20 개\n"
     ]
    }
   ],
   "source": [
    "inventory = {\"메로나\": [300, 20],\n",
    "              \"비비빅\": [400, 3],\n",
    "              \"죠스바\": [250, 100]}\n",
    "\n",
    "print(inventory[\"메로나\"][1], \"개\")"
   ]
  },
  {
   "cell_type": "markdown",
   "id": "373b1913",
   "metadata": {},
   "source": [
    "### #94. inventory 딕셔너리에 아래 데이터를 추가하라.\n",
    ">이름 / 가격 / 재고  \n",
    "월드콘 / 500 / 7"
   ]
  },
  {
   "cell_type": "code",
   "execution_count": 26,
   "id": "135eaf5a",
   "metadata": {},
   "outputs": [
    {
     "name": "stdout",
     "output_type": "stream",
     "text": [
      "{'메로나': [300, 20], '비비빅': [400, 3], '죠스바': [250, 100], '월드콘': [500, 7]}\n"
     ]
    }
   ],
   "source": [
    "inventory = {\"메로나\": [300, 20],\n",
    "              \"비비빅\": [400, 3],\n",
    "              \"죠스바\": [250, 100]}\n",
    "inventory[\"월드콘\"] = [500, 7]\n",
    "print(inventory)"
   ]
  },
  {
   "cell_type": "markdown",
   "id": "cb12e9e5",
   "metadata": {},
   "source": [
    "### #95. 다음의 딕셔너리로부터 key 값으로만 구성된 리스트를 생성하라.\n",
    "\n",
    "> icecream = {'탱크보이': 1200, '폴라포': 1200, '빵빠레': 1800, '월드콘': 1500, '메로나': 1000}"
   ]
  },
  {
   "cell_type": "code",
   "execution_count": 28,
   "id": "157c040c",
   "metadata": {},
   "outputs": [
    {
     "name": "stdout",
     "output_type": "stream",
     "text": [
      "['탱크보이', '폴라포', '빵빠레', '월드콘', '메로나']\n"
     ]
    }
   ],
   "source": [
    "icecream = {'탱크보이': 1200, '폴라포': 1200, '빵빠레': 1800, '월드콘': 1500, '메로나': 1000}\n",
    "print(list(icecream.keys()))"
   ]
  },
  {
   "cell_type": "markdown",
   "id": "dd11c1eb",
   "metadata": {},
   "source": [
    "### #96. 다음의 딕셔너리에서 values 값으로만 구성된 리스트를 생성하라.\n",
    "\n",
    "> icecream = {'탱크보이': 1200, '폴라포': 1200, '빵빠레': 1800, '월드콘': 1500, '메로나': 1000}"
   ]
  },
  {
   "cell_type": "code",
   "execution_count": 29,
   "id": "8a2ba75f",
   "metadata": {},
   "outputs": [
    {
     "name": "stdout",
     "output_type": "stream",
     "text": [
      "[1200, 1200, 1800, 1500, 1000]\n"
     ]
    }
   ],
   "source": [
    "icecream = {'탱크보이': 1200, '폴라포': 1200, '빵빠레': 1800, '월드콘': 1500, '메로나': 1000}\n",
    "print(list(icecream.values()))"
   ]
  },
  {
   "cell_type": "markdown",
   "id": "d32f8d49",
   "metadata": {},
   "source": [
    "### #97. icecream 딕셔너리에서 아이스크림 판매 금액의 총합을 출력하라.\n",
    "\n",
    "> icecream = {'탱크보이': 1200, '폴라포': 1200, '빵빠레': 1800, '월드콘': 1500, '메로나': 1000}"
   ]
  },
  {
   "cell_type": "code",
   "execution_count": 30,
   "id": "ed2e6235",
   "metadata": {},
   "outputs": [
    {
     "name": "stdout",
     "output_type": "stream",
     "text": [
      "6700\n"
     ]
    }
   ],
   "source": [
    "icecream = {'탱크보이': 1200, '폴라포': 1200, '빵빠레': 1800, '월드콘': 1500, '메로나': 1000}\n",
    "print(sum(icecream.values()))"
   ]
  },
  {
   "cell_type": "markdown",
   "id": "f9b66912",
   "metadata": {},
   "source": [
    "### #98. 아래의 new_product 딕셔너리를 다음 icecream 딕셔너리에 추가하라.\n",
    "\n",
    ">icecream = {'탱크보이': 1200, '폴라포': 1200, '빵빠레': 1800, '월드콘': 1500, '메로나': 1000}  \n",
    "new_product = {'팥빙수':2700, '아맛나':1000}"
   ]
  },
  {
   "cell_type": "code",
   "execution_count": 32,
   "id": "7f6b2713",
   "metadata": {},
   "outputs": [
    {
     "name": "stdout",
     "output_type": "stream",
     "text": [
      "{'탱크보이': 1200, '폴라포': 1200, '빵빠레': 1800, '월드콘': 1500, '메로나': 1000, '팥빙수': 2700, '아맛나': 1000}\n"
     ]
    }
   ],
   "source": [
    "icecream = {'탱크보이': 1200, '폴라포': 1200, '빵빠레': 1800, '월드콘': 1500, '메로나': 1000}\n",
    "new_product = {'팥빙수':2700, '아맛나':1000}\n",
    "icecream.update(new_product)\n",
    "print(icecream)"
   ]
  },
  {
   "cell_type": "markdown",
   "id": "ac0c2cd3",
   "metadata": {},
   "source": [
    "### #99. 아래 두 개의 튜플을 하나의 딕셔너리로 변환하라. keys를 키로, vals를 값으로 result 이름의 딕셔너리로 저장한다.\n",
    "\n",
    ">keys = (\"apple\", \"pear\", \"peach\")  \n",
    "vals = (300, 250, 400)"
   ]
  },
  {
   "cell_type": "code",
   "execution_count": 34,
   "id": "f6c5e0de",
   "metadata": {},
   "outputs": [
    {
     "name": "stdout",
     "output_type": "stream",
     "text": [
      "{'apple': 300, 'pear': 250, 'peach': 400}\n"
     ]
    }
   ],
   "source": [
    "keys = (\"apple\", \"pear\", \"peach\")\n",
    "vals = (300, 250, 400)\n",
    "result = dict(zip(keys, vals))\n",
    "print(result)"
   ]
  },
  {
   "cell_type": "markdown",
   "id": "5c806d38",
   "metadata": {},
   "source": [
    "### #100. date와 close_price 두 개의 리스트를 close_table 이름의 딕셔너리로 생성하라.\n",
    "\n",
    "> date = ['09/05', '09/06', '09/07', '09/08', '09/09']  \n",
    "close_price = [10500, 10300, 10100, 10800, 11000]"
   ]
  },
  {
   "cell_type": "code",
   "execution_count": 35,
   "id": "b186d843",
   "metadata": {},
   "outputs": [
    {
     "name": "stdout",
     "output_type": "stream",
     "text": [
      "{'09/05': 10500, '09/06': 10300, '09/07': 10100, '09/08': 10800, '09/09': 11000}\n"
     ]
    }
   ],
   "source": [
    "date = ['09/05', '09/06', '09/07', '09/08', '09/09']\n",
    "close_price = [10500, 10300, 10100, 10800, 11000]\n",
    "close_table = dict(zip(date, close_price))\n",
    "print(close_table)"
   ]
  },
  {
   "cell_type": "markdown",
   "id": "b60046d9",
   "metadata": {},
   "source": [
    "### #101. 파이썬에서 True 혹은 False를 갖는 데이터 타입은 무엇인가?\n",
    "정답 : bool 타입"
   ]
  },
  {
   "cell_type": "markdown",
   "id": "d18e7648",
   "metadata": {},
   "source": [
    "### #102. 아래 코드의 출력 결과를 예상하라.\n",
    "\n",
    "> print(3 == 5)"
   ]
  },
  {
   "cell_type": "code",
   "execution_count": 36,
   "id": "61202874",
   "metadata": {},
   "outputs": [
    {
     "name": "stdout",
     "output_type": "stream",
     "text": [
      "False\n"
     ]
    }
   ],
   "source": [
    "print(3 == 5)\n",
    "# False"
   ]
  },
  {
   "cell_type": "markdown",
   "id": "72eb55c3",
   "metadata": {},
   "source": [
    "### #103. 아래 코드의 출력 결과를 예상하라\n",
    "\n",
    "> print(3 < 5)"
   ]
  },
  {
   "cell_type": "code",
   "execution_count": 37,
   "id": "f1c1d2b5",
   "metadata": {},
   "outputs": [
    {
     "name": "stdout",
     "output_type": "stream",
     "text": [
      "True\n"
     ]
    }
   ],
   "source": [
    "print(3 < 5)\n",
    "# True"
   ]
  },
  {
   "cell_type": "markdown",
   "id": "5a54c5a7",
   "metadata": {},
   "source": [
    "### #104. 아래 코드의 결과를 예상하라.\n",
    "\n",
    "> x = 4  \n",
    "print(1 < x < 5)"
   ]
  },
  {
   "cell_type": "code",
   "execution_count": 38,
   "id": "42a67ee3",
   "metadata": {},
   "outputs": [
    {
     "name": "stdout",
     "output_type": "stream",
     "text": [
      "True\n"
     ]
    }
   ],
   "source": [
    "x = 4\n",
    "print(1 < x < 5)\n",
    "# True"
   ]
  },
  {
   "cell_type": "markdown",
   "id": "40b03318",
   "metadata": {},
   "source": [
    "### #105. 아래 코드의 결과를 예상하라.\n",
    "\n",
    "> print ((3 == 3) and (4 != 3))"
   ]
  },
  {
   "cell_type": "code",
   "execution_count": 39,
   "id": "5fe28e5a",
   "metadata": {},
   "outputs": [
    {
     "name": "stdout",
     "output_type": "stream",
     "text": [
      "True\n"
     ]
    }
   ],
   "source": [
    "print ((3 == 3) and (4 != 3))\n",
    "# True"
   ]
  },
  {
   "cell_type": "markdown",
   "id": "4ac2ded1",
   "metadata": {},
   "source": [
    "### #106. 아래 코드에서 에러가 발생하는 원인에 대해 설명하라.\n",
    "\n",
    "> print(3 => 4)"
   ]
  },
  {
   "cell_type": "code",
   "execution_count": 40,
   "id": "c80d3280",
   "metadata": {},
   "outputs": [
    {
     "ename": "SyntaxError",
     "evalue": "expression cannot contain assignment, perhaps you meant \"==\"? (3612698823.py, line 1)",
     "output_type": "error",
     "traceback": [
      "\u001b[0;36m  Cell \u001b[0;32mIn[40], line 1\u001b[0;36m\u001b[0m\n\u001b[0;31m    print(3 => 4)\u001b[0m\n\u001b[0m          ^\u001b[0m\n\u001b[0;31mSyntaxError\u001b[0m\u001b[0;31m:\u001b[0m expression cannot contain assignment, perhaps you meant \"==\"?\n"
     ]
    }
   ],
   "source": [
    "print(3 => 4)\n",
    "# =>와 같은 연산자가 존재하지 않는다. 크거나 같은지 확인하려면 >=을 사용해야 한다."
   ]
  },
  {
   "cell_type": "markdown",
   "id": "29804ca7",
   "metadata": {},
   "source": [
    "### #107. 아래 코드의 출력 결과를 예상하라\n",
    "\n",
    "> if 4 < 3:  \n",
    "    print(\"Hello World\")"
   ]
  },
  {
   "cell_type": "code",
   "execution_count": 42,
   "id": "767a9f8b",
   "metadata": {},
   "outputs": [],
   "source": [
    "if 4 < 3:\n",
    "    print(\"Hello World\")\n",
    "# 아무것도 출력되지 않는다."
   ]
  },
  {
   "cell_type": "markdown",
   "id": "e524e0c1",
   "metadata": {},
   "source": [
    "### #108. 아래 코드의 출력 결과를 예상하라\n",
    "\n",
    ">if 4 < 3:  \n",
    "    print(\"Hello World.\")  \n",
    "else:  \n",
    "    print(\"Hi, there.\")  "
   ]
  },
  {
   "cell_type": "code",
   "execution_count": 43,
   "id": "32b6669f",
   "metadata": {},
   "outputs": [
    {
     "name": "stdout",
     "output_type": "stream",
     "text": [
      "Hi, there.\n"
     ]
    }
   ],
   "source": [
    "if 4 < 3:\n",
    "    print(\"Hello World.\")\n",
    "else:\n",
    "    print(\"Hi, there.\")\n",
    "# Hi, there. 가 출력된다."
   ]
  },
  {
   "cell_type": "markdown",
   "id": "121af2d0",
   "metadata": {},
   "source": [
    "### #109. 아래 코드의 출력 결과를 예상하라\n",
    "\n",
    ">if True :  \n",
    "    print (\"1\")  \n",
    "    print (\"2\")  \n",
    "else :  \n",
    "    print(\"3\")  \n",
    "print(\"4\")"
   ]
  },
  {
   "cell_type": "code",
   "execution_count": 44,
   "id": "2f30c398",
   "metadata": {},
   "outputs": [
    {
     "name": "stdout",
     "output_type": "stream",
     "text": [
      "1\n",
      "2\n",
      "4\n"
     ]
    }
   ],
   "source": [
    "if True :\n",
    "    print (\"1\")\n",
    "    print (\"2\")\n",
    "else :\n",
    "    print(\"3\")\n",
    "print(\"4\")\n",
    "# 1\n",
    "# 2\n",
    "# 4"
   ]
  },
  {
   "cell_type": "markdown",
   "id": "026ee540",
   "metadata": {},
   "source": [
    "### #110. 아래 코드의 출력 결과를 예상하라\n",
    "\n",
    ">if True :  \n",
    "    if False:  \n",
    "        print(\"1\")  \n",
    "        print(\"2\")  \n",
    "    else:  \n",
    "        print(\"3\")  \n",
    "else :  \n",
    "    print(\"4\")  \n",
    "print(\"5\")"
   ]
  },
  {
   "cell_type": "code",
   "execution_count": 45,
   "id": "e6498924",
   "metadata": {},
   "outputs": [
    {
     "name": "stdout",
     "output_type": "stream",
     "text": [
      "3\n",
      "5\n"
     ]
    }
   ],
   "source": [
    "if True :\n",
    "    if False:\n",
    "        print(\"1\")\n",
    "        print(\"2\")\n",
    "    else:\n",
    "        print(\"3\")\n",
    "else :\n",
    "    print(\"4\")\n",
    "print(\"5\")\n",
    "# 3\n",
    "# 5"
   ]
  },
  {
   "cell_type": "markdown",
   "id": "92cb6351",
   "metadata": {},
   "source": [
    "### #111. 사용자로부터 입력받은 문자열을 두 번 출력하라."
   ]
  },
  {
   "cell_type": "code",
   "execution_count": 1,
   "id": "ddac1474",
   "metadata": {},
   "outputs": [
    {
     "name": "stdout",
     "output_type": "stream",
     "text": [
      "안녕하세요\n",
      "안녕하세요안녕하세요\n"
     ]
    }
   ],
   "source": [
    "user = input()\n",
    "print(user * 2)"
   ]
  },
  {
   "cell_type": "markdown",
   "id": "95819c33",
   "metadata": {},
   "source": [
    "### #112. 사용자로부터 하나의 숫자를 입력받고, 입력 받은 숫자에 10을 더해 출력하라."
   ]
  },
  {
   "cell_type": "code",
   "execution_count": 3,
   "id": "6507ef36",
   "metadata": {},
   "outputs": [
    {
     "name": "stdout",
     "output_type": "stream",
     "text": [
      "숫자를 입력하세요: 30\n",
      "40\n"
     ]
    }
   ],
   "source": [
    "user = int(input(\"숫자를 입력하세요: \"))\n",
    "print(user + 10)"
   ]
  },
  {
   "cell_type": "markdown",
   "id": "9cbfd2c1",
   "metadata": {},
   "source": [
    "### #113. 사용자로부터 하나의 숫자를 입력 받고 짝수/홀수를 판별하라."
   ]
  },
  {
   "cell_type": "code",
   "execution_count": 4,
   "id": "7a4fb987",
   "metadata": {},
   "outputs": [
    {
     "name": "stdout",
     "output_type": "stream",
     "text": [
      "숫자를 입력하세요: 30\n",
      "짝수\n"
     ]
    }
   ],
   "source": [
    "user = int(input(\"숫자를 입력하세요: \"))\n",
    "if user % 2 == 0:\n",
    "    print(\"짝수\")\n",
    "else:\n",
    "    print(\"홀수\")"
   ]
  },
  {
   "cell_type": "markdown",
   "id": "c302ca5e",
   "metadata": {},
   "source": [
    "### #114. 사용자로부터 값을 입력받은 후 해당 값에 20을 더한 값을 출력하라. 단 사용자가 입력한 값과 20을 더한 계산 값이 255를 초과하는 경우 255를 출력해야 한다."
   ]
  },
  {
   "cell_type": "code",
   "execution_count": 5,
   "id": "c1e2d3b9",
   "metadata": {},
   "outputs": [
    {
     "name": "stdout",
     "output_type": "stream",
     "text": [
      "입력: 200\n",
      "220\n"
     ]
    }
   ],
   "source": [
    "user = int(input(\"입력: \"))\n",
    "if user + 20 <= 255:\n",
    "    print(user + 20)\n",
    "else:\n",
    "    print(255)"
   ]
  },
  {
   "cell_type": "code",
   "execution_count": 6,
   "id": "6b75151a",
   "metadata": {},
   "outputs": [
    {
     "name": "stdout",
     "output_type": "stream",
     "text": [
      "입력: 240\n",
      "255\n"
     ]
    }
   ],
   "source": [
    "user = int(input(\"입력: \"))\n",
    "if user + 20 <= 255:\n",
    "    print(user + 20)\n",
    "else:\n",
    "    print(255)"
   ]
  },
  {
   "cell_type": "markdown",
   "id": "9652159f",
   "metadata": {},
   "source": [
    "### #115. 사용자로부터 하나의 값을 입력받은 후 해당 값에 20을 뺀 값을 출력하라. 단 출력 값의 범위는 0~255이다. 예를 들어 결괏값이 0보다 작은 값이되는 경우 0을 출력하고 255보다 큰 값이 되는 경우 255를 출력해야 한다."
   ]
  },
  {
   "cell_type": "code",
   "execution_count": 7,
   "id": "3fa805ad",
   "metadata": {},
   "outputs": [
    {
     "name": "stdout",
     "output_type": "stream",
     "text": [
      "입력: 200\n",
      "180\n"
     ]
    }
   ],
   "source": [
    "user = int(input(\"입력: \"))\n",
    "num = user - 20\n",
    "\n",
    "if num < 0:\n",
    "    print(0)\n",
    "elif num <= 255:\n",
    "    print(num)\n",
    "else:\n",
    "    print(255)"
   ]
  },
  {
   "cell_type": "code",
   "execution_count": 8,
   "id": "252a04bf",
   "metadata": {},
   "outputs": [
    {
     "name": "stdout",
     "output_type": "stream",
     "text": [
      "입력: 15\n",
      "0\n"
     ]
    }
   ],
   "source": [
    "user = int(input(\"입력: \"))\n",
    "num = user - 20\n",
    "\n",
    "if num < 0:\n",
    "    print(0)\n",
    "elif num <= 255:\n",
    "    print(num)\n",
    "else:\n",
    "    print(255)"
   ]
  },
  {
   "cell_type": "markdown",
   "id": "de78a8d9",
   "metadata": {},
   "source": [
    "### #116. 사용자로부터 입력 받은 시간이 정각인지 판별하라."
   ]
  },
  {
   "cell_type": "code",
   "execution_count": 10,
   "id": "ae281986",
   "metadata": {},
   "outputs": [
    {
     "name": "stdout",
     "output_type": "stream",
     "text": [
      "입력: 02:00\n",
      "정각 입니다.\n"
     ]
    }
   ],
   "source": [
    "user = input(\"입력: \")\n",
    "time = user[-2:]\n",
    "\n",
    "if time == \"00\":\n",
    "    print(\"정각 입니다.\")\n",
    "else:\n",
    "    print(\"정각이 아닙니다.\")"
   ]
  },
  {
   "cell_type": "markdown",
   "id": "6b7a47d5",
   "metadata": {},
   "source": [
    "### #117. 사용자로 입력받은 단어가 아래 fruit 리스트에 포함되어 있는지를 확인하라. 포함되었다면 \"정답입니다\"를 아닐 경우 \"오답입니다\" 출력하라.\n",
    "> fruit = [\"사과\", \"포도\", \"홍시\"]"
   ]
  },
  {
   "cell_type": "code",
   "execution_count": 11,
   "id": "fb0230b9",
   "metadata": {},
   "outputs": [
    {
     "name": "stdout",
     "output_type": "stream",
     "text": [
      "좋아하는 과일은? 사과\n",
      "정답입니다.\n"
     ]
    }
   ],
   "source": [
    "fruit = [\"사과\", \"포도\", \"홍시\"]\n",
    "\n",
    "user = input(\"좋아하는 과일은? \")\n",
    "if user in fruit:\n",
    "    print(\"정답입니다.\")\n",
    "else: \n",
    "    print(\"오답입니다.\")"
   ]
  },
  {
   "cell_type": "markdown",
   "id": "030308ca",
   "metadata": {},
   "source": [
    "### #118. 투자 경고 종목 리스트가 있을 때 사용자로부터 종목명을 입력 받은 후 해당 종목이 투자 경고 종목이라면 '투자 경고 종목입니다'를 아니면 \"투자 경고 종목이 아닙니다.\"를 출력하는 프로그램을 작성하라.\n",
    "> warn_investment_list = [\"Microsoft\", \"Google\", \"Naver\", \"Kakao\", \"SAMSUNG\", \"LG\"]"
   ]
  },
  {
   "cell_type": "code",
   "execution_count": 12,
   "id": "5edb0ed8",
   "metadata": {},
   "outputs": [
    {
     "name": "stdout",
     "output_type": "stream",
     "text": [
      "입력: Google\n",
      "투자 경고 종목입니다.\n"
     ]
    }
   ],
   "source": [
    "warn_investment_list = [\"Microsoft\", \"Google\", \"Naver\", \"Kakao\", \"SAMSUNG\", \"LG\"]\n",
    "\n",
    "user = input(\"입력: \")\n",
    "if user in warn_investment_list:\n",
    "    print(\"투자 경고 종목입니다.\")\n",
    "else:\n",
    "    print(\"투자 경고 종목이 아닙니다.\")"
   ]
  },
  {
   "cell_type": "markdown",
   "id": "1ecc72ef",
   "metadata": {},
   "source": [
    "### #119. 아래와 같이 fruit 딕셔너리가 정의되어 있다. 사용자가 입력한 값이 딕셔너리 키 (key) 값에 포함되었다면 \"정답입니다\"를 아닐 경우 \"오답입니다\" 출력하라.\n",
    "\n",
    "> fruit = {\"봄\" : \"딸기\", \"여름\" : \"토마토\", \"가을\" : \"사과\"}"
   ]
  },
  {
   "cell_type": "code",
   "execution_count": 15,
   "id": "f229cc98",
   "metadata": {},
   "outputs": [
    {
     "name": "stdout",
     "output_type": "stream",
     "text": [
      "제가좋아하는계절은: 봄\n",
      "정답입니다.\n"
     ]
    }
   ],
   "source": [
    "fruit = {\"봄\" : \"딸기\", \"여름\" : \"토마토\", \"가을\" : \"사과\"}\n",
    "\n",
    "user = input(\"제가좋아하는계절은: \")\n",
    "if user in fruit.keys():\n",
    "    print(\"정답입니다.\")\n",
    "else:\n",
    "    print(\"오답입니다.\")"
   ]
  },
  {
   "cell_type": "markdown",
   "id": "cbe75e11",
   "metadata": {},
   "source": [
    "### #120. 아래와 같이 fruit 딕셔너리가 정의되어 있다. 사용자가 입력한 값이 딕셔너리 값 (value)에 포함되었다면 \"정답입니다\"를 아닐 경우 \"오답입니다\" 출력하라.\n",
    "\n",
    "> fruit = {\"봄\" : \"딸기\", \"여름\" : \"토마토\", \"가을\" : \"사과\"}"
   ]
  },
  {
   "cell_type": "code",
   "execution_count": 16,
   "id": "8110be8e",
   "metadata": {},
   "outputs": [
    {
     "name": "stdout",
     "output_type": "stream",
     "text": [
      "좋아하는과일은? 한라봉\n",
      "오답입니다.\n"
     ]
    }
   ],
   "source": [
    "fruit = {\"봄\" : \"딸기\", \"여름\" : \"토마토\", \"가을\" : \"사과\"}\n",
    "\n",
    "user = input(\"좋아하는과일은? \")\n",
    "if user in fruit.values():\n",
    "    print(\"정답입니다.\")\n",
    "else:\n",
    "    print(\"오답입니다.\")"
   ]
  },
  {
   "cell_type": "markdown",
   "id": "5a6c3bbd",
   "metadata": {},
   "source": [
    "### #121. 사용자로부터 문자 한 개를 입력 받고, 소문자일 경우 대문자로, 대문자 일 경우, 소문자로 변경해서 출력하라."
   ]
  },
  {
   "cell_type": "code",
   "execution_count": 20,
   "id": "46b741fd",
   "metadata": {},
   "outputs": [
    {
     "name": "stdout",
     "output_type": "stream",
     "text": [
      "입력: a\n",
      "A\n"
     ]
    }
   ],
   "source": [
    "user = input(\"입력: \")\n",
    "if user.islower() == True:\n",
    "    print(user.upper())\n",
    "else:\n",
    "    print(user.lower())"
   ]
  },
  {
   "cell_type": "markdown",
   "id": "faf5f9e2",
   "metadata": {},
   "source": [
    "### #122. 점수 구간에 해당하는 학점이 아래와 같이 정의되어 있다. 사용자로부터 score를 입력받아 학점을 출력하라.\n",
    "\n",
    "> 점수 / 학점  \n",
    "81\\~100 / A  \n",
    "61\\~80\t/ B  \n",
    "41\\~60\t/ C  \n",
    "21\\~40\t/ D  \n",
    "0\\~20\t/ E  "
   ]
  },
  {
   "cell_type": "code",
   "execution_count": 21,
   "id": "a0a46c1c",
   "metadata": {},
   "outputs": [
    {
     "name": "stdout",
     "output_type": "stream",
     "text": [
      "score: 83\n",
      "grade is A\n"
     ]
    }
   ],
   "source": [
    "user = int(input(\"score: \"))\n",
    "if user <= 100 and user > 80:\n",
    "    print(\"grade is A\")\n",
    "elif user > 60:\n",
    "    print(\"grade is B\")\n",
    "elif user > 40:\n",
    "    print(\"grade is C\")\n",
    "elif user > 20:\n",
    "    print(\"grade is D\")\n",
    "else:\n",
    "    print(\"grade is E\")"
   ]
  },
  {
   "cell_type": "markdown",
   "id": "1a107217",
   "metadata": {},
   "source": [
    "### #123. 사용자로부터 달러, 엔, 유로, 또는 위안 금액을 입력받은 후 이를 원으로 변환하는 프로그램을 작성하라. 각 통화별 환율은 다음과 같다. 사용자는 100 달러, 1000 엔, 13 유로, 100 위안과 같이 금액과 통화명 사이에 공백을 넣어 입력한다고 가정한다.\n",
    "\n",
    ">통화명 / 환율  \n",
    "달러 / 1167  \n",
    "엔 / 1.096  \n",
    "유로 / 1268  \n",
    "위안 / 171"
   ]
  },
  {
   "cell_type": "code",
   "execution_count": 5,
   "id": "6a99506a",
   "metadata": {},
   "outputs": [
    {
     "name": "stdout",
     "output_type": "stream",
     "text": [
      "입력: 100 달러\n",
      "116700.0 원\n"
     ]
    }
   ],
   "source": [
    "user = input(\"입력: \")\n",
    "num, currency = user.split()\n",
    "if currency == \"달러\":\n",
    "    print(float(num) * 1167, \"원\")\n",
    "elif currency == \"엔\":\n",
    "    print(float(num) * 1.096, \"원\")\n",
    "elif currency == \"유로\":\n",
    "    print(float(num) * 1268, \"원\")\n",
    "else:\n",
    "    print(float(num) * 171, \"원\")"
   ]
  },
  {
   "cell_type": "code",
   "execution_count": 6,
   "id": "6c14e51c",
   "metadata": {},
   "outputs": [
    {
     "name": "stdout",
     "output_type": "stream",
     "text": [
      "입력: 100 달러\n",
      "116700.0 원\n"
     ]
    }
   ],
   "source": [
    "# 정답 - 딕셔너리에 원소 추가만 해주면 바로 사용할 수 있다는 장점이 있다.\n",
    "환율 = {\"달러\": 1167, \n",
    "        \"엔\": 1.096, \n",
    "        \"유로\": 1268, \n",
    "        \"위안\": 171}\n",
    "user = input(\"입력: \")\n",
    "num, currency = user.split()\n",
    "print(float(num) * 환율[currency], \"원\") # 환율[currency] = split()을 했을 때 뒷부분에 해당하는 화폐에 대한 value 값"
   ]
  },
  {
   "cell_type": "markdown",
   "id": "8f5afa78",
   "metadata": {},
   "source": [
    "### #124. 사용자로부터 세 개의 숫자를 입력 받은 후 가장 큰 숫자를 출력하라.\n",
    "\n",
    "> input number1: 10  \n",
    "> input number2: 9  \n",
    "> input number3: 20  \n",
    "> -> 20"
   ]
  },
  {
   "cell_type": "code",
   "execution_count": 8,
   "id": "6c65e12f",
   "metadata": {},
   "outputs": [
    {
     "name": "stdout",
     "output_type": "stream",
     "text": [
      "number1: 10\n",
      "number2: 9\n",
      "number3: 20\n",
      "20\n"
     ]
    }
   ],
   "source": [
    "n1 = int(input(\"number1: \"))\n",
    "n2 = int(input(\"number2: \"))\n",
    "n3 = int(input(\"number3: \"))\n",
    "\n",
    "if n1 >= n2 and n1 >= n3:\n",
    "    print(n1)\n",
    "elif n2 >= n1 and n2 >= n3:\n",
    "    print(n2)\n",
    "else: \n",
    "    print(n3)"
   ]
  },
  {
   "cell_type": "markdown",
   "id": "a942116f",
   "metadata": {},
   "source": [
    "### #125. 휴대폰 번호 앞자리에 따라 통신사는 아래와 같이 구분된다. 사용자로부터 휴대전화 번호를 입력 받고, 통신사를 출력하는 프로그램을 작성하라.\n",
    "\n",
    ">번호 / 통신사  \n",
    "011\t/ SKT  \n",
    "016\t/ KT  \n",
    "019\t/ LGU  \n",
    "010 / 알수없음"
   ]
  },
  {
   "cell_type": "code",
   "execution_count": 9,
   "id": "7fb8b8ed",
   "metadata": {},
   "outputs": [
    {
     "name": "stdout",
     "output_type": "stream",
     "text": [
      "휴대전화 번호 입력: 011-345-1922\n",
      "당신은 SKT 사용자입니다.\n"
     ]
    }
   ],
   "source": [
    "user = input(\"휴대전화 번호 입력: \")\n",
    "num = user[:3]\n",
    "\n",
    "if num == \"011\":\n",
    "    print(\"당신은 SKT 사용자입니다.\")\n",
    "elif num == \"016\":\n",
    "    print(\"당신은 KT 사용자입니다.\")\n",
    "elif num == \"019\":\n",
    "    print(\"당신은 LGU 사용자입니다.\")\n",
    "else:\n",
    "    print(\"당신은 알수없음 사용자입니다.\")"
   ]
  },
  {
   "cell_type": "code",
   "execution_count": 10,
   "id": "c6f79e8b",
   "metadata": {},
   "outputs": [
    {
     "name": "stdout",
     "output_type": "stream",
     "text": [
      "휴대전화 번호 입력: 011-345-1922\n",
      "당신은 SKT 사용자입니다.\n"
     ]
    }
   ],
   "source": [
    "# 정답 - f-string을 사용하는 방법도 존재\n",
    "number = input(\"휴대전화 번호 입력: \")\n",
    "num = number.split(\"-\")[0]\n",
    "if num == \"011\":\n",
    "    com = \"SKT\"\n",
    "elif num == \"016\":\n",
    "    com = \"KT\"\n",
    "elif num == \"019\":\n",
    "    com = \"LGU\"\n",
    "else:\n",
    "    com = \"알수없음\"\n",
    "print(f\"당신은 {com} 사용자입니다.\")"
   ]
  },
  {
   "cell_type": "markdown",
   "id": "b98155b7",
   "metadata": {},
   "source": [
    "### #126. 우편번호는 5자리로 구성되는데, 앞의 세자리는 구를 나타낸다. 예를들어, 강북구의 경우 010, 011, 012 세 자리로 시작한다. 사용자로 부터 5자리 우편번호를 입력받고 구를 판별하라.\n",
    ">01 0 강북구 / 1 강북구 / 2 강북구 / 3 도봉구 / 4 도봉구 / 5 도봉구 / 6 노원구 / 7 노원구 / 8 노원구 / 9 노원구"
   ]
  },
  {
   "cell_type": "code",
   "execution_count": 11,
   "id": "63739de8",
   "metadata": {},
   "outputs": [
    {
     "name": "stdout",
     "output_type": "stream",
     "text": [
      "우편번호: 01400\n",
      "도봉구\n"
     ]
    }
   ],
   "source": [
    "user = input(\"우편번호: \")\n",
    "num = int(user[2])\n",
    "if num == 0 or num == 1 or num == 2:\n",
    "    print(\"강북구\")\n",
    "elif num == 3 or num == 4 or num == 5:\n",
    "    print(\"도봉구\")\n",
    "else:\n",
    "    print(\"노원구\")"
   ]
  },
  {
   "cell_type": "code",
   "execution_count": 12,
   "id": "a1f670e3",
   "metadata": {},
   "outputs": [
    {
     "name": "stdout",
     "output_type": "stream",
     "text": [
      "우편번호: 01400\n",
      "도봉구\n"
     ]
    }
   ],
   "source": [
    "# 정답 - 리스트에 있는지 여부로도 판단할 수 있다.\n",
    "우편번호 = input(\"우편번호: \")\n",
    "우편번호 = 우편번호[:3]\n",
    "if 우편번호 in [\"010\", \"011\", \"012\"]:\n",
    "    print(\"강북구\")\n",
    "elif 우편번호 in [\"014\", \"015\", \"016\"]:\n",
    "    print(\"도봉구\")\n",
    "else:\n",
    "    print(\"노원구\")"
   ]
  },
  {
   "cell_type": "markdown",
   "id": "b9ff5871",
   "metadata": {},
   "source": [
    "### #127. 주민등록번호 뒷 자리 7자리 중 첫째 자리는 성별을 나타내는데, 1, 3은 남자 2, 4는 여자를 의미한다. 사용자로부터 13자리의 주민등록번호를 입력 받은 후 성별 (남자, 여자)를 출력하는 프로그램을 작성하라."
   ]
  },
  {
   "cell_type": "code",
   "execution_count": 13,
   "id": "f27e8383",
   "metadata": {},
   "outputs": [
    {
     "name": "stdout",
     "output_type": "stream",
     "text": [
      "주민등록번호: 821010-1635210\n",
      "남자\n"
     ]
    }
   ],
   "source": [
    "user = input(\"주민등록번호: \")\n",
    "sex = user[7]\n",
    "\n",
    "if sex in [\"1\", \"3\"]:\n",
    "    print(\"남자\")\n",
    "elif sex in [\"2\", \"4\"]:\n",
    "    print(\"여자\")"
   ]
  },
  {
   "cell_type": "markdown",
   "id": "8f02b392",
   "metadata": {},
   "source": [
    "### #128. 주민등록번호의 뒷 자리 7자리 중 두번째와 세번째는 지역코드를 의미한다. 주민 등록 번호를 입력 받은 후 출생지가 서울인지 아닌지 판단하는 코드를 작성하라\n",
    "\n",
    "> 지역코드 / 출생지  \n",
    "00 \\~ 08 / 서울  \n",
    "09 \\~ 12 / 부산"
   ]
  },
  {
   "cell_type": "code",
   "execution_count": 14,
   "id": "3518d259",
   "metadata": {},
   "outputs": [
    {
     "name": "stdout",
     "output_type": "stream",
     "text": [
      "주민등록번호:821010-1635210\n",
      "서울이 아닙니다.\n"
     ]
    }
   ],
   "source": [
    "user = input(\"주민등록번호:\")\n",
    "area = user[8:10]\n",
    "\n",
    "if area in [\"00\", \"01\", \"02\", \"03\", \"04\", \"05\", \"06\", \"07\", \"08\"]:\n",
    "    print(\"서울 입니다.\")\n",
    "else:\n",
    "    print(\"서울이 아닙니다.\")"
   ]
  },
  {
   "cell_type": "code",
   "execution_count": 15,
   "id": "5f3a5404",
   "metadata": {},
   "outputs": [
    {
     "name": "stdout",
     "output_type": "stream",
     "text": [
      "주민등록번호:861010-1015210\n",
      "서울 입니다.\n"
     ]
    }
   ],
   "source": [
    "user = input(\"주민등록번호:\")\n",
    "area = user[8:10]\n",
    "\n",
    "if area in [\"00\", \"01\", \"02\", \"03\", \"04\", \"05\", \"06\", \"07\", \"08\"]:\n",
    "    print(\"서울 입니다.\")\n",
    "else:\n",
    "    print(\"서울이 아닙니다.\")"
   ]
  },
  {
   "cell_type": "markdown",
   "id": "c77431c7",
   "metadata": {},
   "source": [
    "### #129. 주민등록번호는 13자리로 구성되는데 마지막 자리수는 주민등록번호의 유효성을 체크하는데 사용된다. 먼저 앞에서부터 12자리의 숫자에 2, 3, 4, 5, 6, 7, 8, 9, 2, 3, 4, 5를 차례로 곱한 뒤 그 값을 전부 더한다. 연산 결과 값을 11로 나누면 나머지가 나오는데 11에서 나머지를 뺀 값이 주민등록번호의 마지막 번호가 된다. \n",
    "### 821010-1635210에 대해서 계산을 해보면 마지막 자리는 4가 되어야 함을 알 수 있다. 즉, 821010-1635210은 유효하지 않은 주민등록번호임을 알 수 있다.\n",
    "### 사용자로부터 주민등록번호를 입력받은 후 주민등록번호가 유효한지를 출력하는 프로그램을 작성하라."
   ]
  },
  {
   "cell_type": "code",
   "execution_count": 17,
   "id": "15710ce5",
   "metadata": {},
   "outputs": [
    {
     "name": "stdout",
     "output_type": "stream",
     "text": [
      "주민등록번호:821010-1635210\n",
      "유효하지 않은 주민등록번호입니다.\n"
     ]
    }
   ],
   "source": [
    "user = input(\"주민등록번호:\")\n",
    "num1 = int(user[0]) * 2 + int(user[1]) * 3 + int(user[2]) * 4 + int(user[3]) * 5 + int(user[4]) * 6 + \\\n",
    "        int(user[5]) * 7 + int(user[7]) * 8 + int(user[8]) * 9 + int(user[9]) * 2 + int(user[10]) * 3 + \\\n",
    "        int(user[11]) * 4 + int(user[12]) * 5\n",
    "num2 = num1 % 11\n",
    "\n",
    "if 11 - num2 == int(user[13]):\n",
    "    print(\"유효한 주민등록번호입니다.\")\n",
    "else:\n",
    "    print(\"유효하지 않은 주민등록번호입니다.\")"
   ]
  },
  {
   "cell_type": "markdown",
   "id": "e1ce4ebf",
   "metadata": {},
   "source": [
    "### #130. 아래 코드는 비트코인의 가격 정보를 딕셔너리로 가져오는 코드이다.\n",
    "> import requests  \n",
    "btc = requests.get(\"https://api.bithumb.com/public/ticker/\").json()['data']\n",
    "\n",
    "### btc 딕셔너리 안에는 시가, 종가, 최고가, 최저가 등이 저장되어 있다. 최고가와 최저가의 차이를 변동폭으로 정의할 때 (시가 + 변동폭)이 최고가 보다 높을 경우 \"상승장\", 그렇지 않은 경우 \"하락장\" 문자열을 출력하라.\n",
    "\n",
    "> Key Name / Description  \n",
    "opening_price / 최근 24시간 내 시작 거래금액  \n",
    "closing_price / 최근 24시간 내 마지막 거래금액  \n",
    "min_price / 최근 24시간 내 최저 거래금액  \n",
    "max_price / 최근 24시간 내 최고 거래금액"
   ]
  },
  {
   "cell_type": "code",
   "execution_count": 1,
   "id": "3f0c04d6",
   "metadata": {},
   "outputs": [
    {
     "data": {
      "text/plain": [
       "{'opening_price': '37947000',\n",
       " 'closing_price': '38061000',\n",
       " 'min_price': '37760000',\n",
       " 'max_price': '38282000',\n",
       " 'units_traded': '771.15283791',\n",
       " 'acc_trade_value': '29296526955.8362',\n",
       " 'prev_closing_price': '37951000',\n",
       " 'units_traded_24H': '1169.78078217',\n",
       " 'acc_trade_value_24H': '44371998755.3639',\n",
       " 'fluctate_24H': '290000',\n",
       " 'fluctate_rate_24H': '0.77',\n",
       " 'date': '1690437042507'}"
      ]
     },
     "execution_count": 1,
     "metadata": {},
     "output_type": "execute_result"
    }
   ],
   "source": [
    "import requests\n",
    "btc = requests.get(\"https://api.bithumb.com/public/ticker/\").json()['data']\n",
    "btc"
   ]
  },
  {
   "cell_type": "code",
   "execution_count": 3,
   "id": "e920ce4d",
   "metadata": {},
   "outputs": [
    {
     "name": "stdout",
     "output_type": "stream",
     "text": [
      "상승장\n"
     ]
    }
   ],
   "source": [
    "변동폭 = float(btc['max_price']) - float(btc['min_price'])\n",
    "시가 = float(btc['opening_price'])\n",
    "최고가 = float(btc['max_price'])\n",
    "\n",
    "if (시가+변동폭) > 최고가:\n",
    "    print(\"상승장\")\n",
    "else:\n",
    "    print(\"하락장\")"
   ]
  },
  {
   "cell_type": "markdown",
   "id": "0d9f04a2",
   "metadata": {},
   "source": [
    "### #131. for문의 실행결과를 예측하라."
   ]
  },
  {
   "cell_type": "code",
   "execution_count": 1,
   "id": "4d4c8878",
   "metadata": {},
   "outputs": [
    {
     "name": "stdout",
     "output_type": "stream",
     "text": [
      "사과\n",
      "귤\n",
      "수박\n"
     ]
    }
   ],
   "source": [
    "과일 = [\"사과\", \"귤\", \"수박\"]\n",
    "for 변수 in 과일:\n",
    "    print(변수)\n",
    "# 사과\n",
    "# 귤\n",
    "# 수박"
   ]
  },
  {
   "cell_type": "markdown",
   "id": "836aa186",
   "metadata": {},
   "source": [
    "### #132. for문의 실행결과를 예측하라."
   ]
  },
  {
   "cell_type": "code",
   "execution_count": 2,
   "id": "3949ac45",
   "metadata": {},
   "outputs": [
    {
     "name": "stdout",
     "output_type": "stream",
     "text": [
      "#####\n",
      "#####\n",
      "#####\n"
     ]
    }
   ],
   "source": [
    "과일 = [\"사과\", \"귤\", \"수박\"]\n",
    "for 변수 in 과일:\n",
    "  print(\"#####\")\n",
    "# #####\n",
    "# #####\n",
    "# #####"
   ]
  },
  {
   "cell_type": "markdown",
   "id": "8621eac2",
   "metadata": {},
   "source": [
    "### #133. 다음 for 문과 동일한 기능을 수행하는 코드를 작성하세요."
   ]
  },
  {
   "cell_type": "code",
   "execution_count": 3,
   "id": "c9e1ee2e",
   "metadata": {},
   "outputs": [
    {
     "name": "stdout",
     "output_type": "stream",
     "text": [
      "A\n",
      "B\n",
      "C\n"
     ]
    }
   ],
   "source": [
    "for 변수 in [\"A\", \"B\", \"C\"]:\n",
    "  print(변수)"
   ]
  },
  {
   "cell_type": "code",
   "execution_count": 5,
   "id": "dd85cd89",
   "metadata": {},
   "outputs": [
    {
     "name": "stdout",
     "output_type": "stream",
     "text": [
      "A\n",
      "B\n",
      "C\n"
     ]
    }
   ],
   "source": [
    "# 위의 for문과 동일한 기능을 수행하는 코드\n",
    "변수 = \"A\"\n",
    "print(변수)\n",
    "변수 = \"B\"\n",
    "print(변수)\n",
    "변수 = \"C\"\n",
    "print(변수)"
   ]
  },
  {
   "cell_type": "markdown",
   "id": "b9427b24",
   "metadata": {},
   "source": [
    "### #134. for문을 풀어서 동일한 동작을 하는 코드를 작성하라."
   ]
  },
  {
   "cell_type": "code",
   "execution_count": 6,
   "id": "27461fb5",
   "metadata": {},
   "outputs": [
    {
     "name": "stdout",
     "output_type": "stream",
     "text": [
      "출력: A\n",
      "출력: B\n",
      "출력: C\n"
     ]
    }
   ],
   "source": [
    "for 변수 in [\"A\", \"B\", \"C\"]:\n",
    "  print(\"출력:\", 변수)"
   ]
  },
  {
   "cell_type": "code",
   "execution_count": 7,
   "id": "bb0c6cfa",
   "metadata": {},
   "outputs": [
    {
     "name": "stdout",
     "output_type": "stream",
     "text": [
      "출력: A\n",
      "출력: B\n",
      "출력: C\n"
     ]
    }
   ],
   "source": [
    "# 위의 for문과 동일한 기능을 수행하는 코드\n",
    "변수 = \"A\"\n",
    "print(\"출력:\", 변수)\n",
    "변수 = \"B\"\n",
    "print(\"출력:\", 변수)\n",
    "변수 = \"C\"\n",
    "print(\"출력:\", 변수)"
   ]
  },
  {
   "cell_type": "markdown",
   "id": "dba63c4a",
   "metadata": {},
   "source": [
    "### #135. for문을 풀어서 동일한 동작을 하는 코드를 작성하라."
   ]
  },
  {
   "cell_type": "code",
   "execution_count": 8,
   "id": "d683d9a5",
   "metadata": {},
   "outputs": [
    {
     "name": "stdout",
     "output_type": "stream",
     "text": [
      "변환: a\n",
      "변환: b\n",
      "변환: c\n"
     ]
    }
   ],
   "source": [
    "for 변수 in [\"A\", \"B\", \"C\"]:\n",
    "  b = 변수.lower()\n",
    "  print(\"변환:\", b)"
   ]
  },
  {
   "cell_type": "code",
   "execution_count": 9,
   "id": "959b642e",
   "metadata": {},
   "outputs": [
    {
     "name": "stdout",
     "output_type": "stream",
     "text": [
      "출력: a\n",
      "출력: b\n",
      "출력: c\n"
     ]
    }
   ],
   "source": [
    "# 위의 for문과 동일한 기능을 수행하는 코드\n",
    "변수 = \"A\"\n",
    "b = 변수.lower()\n",
    "print(\"출력:\", b)\n",
    "변수 = \"B\"\n",
    "b = 변수.lower()\n",
    "print(\"출력:\", b)\n",
    "변수 = \"C\"\n",
    "b = 변수.lower()\n",
    "print(\"출력:\", b)"
   ]
  },
  {
   "cell_type": "markdown",
   "id": "1228baa4",
   "metadata": {},
   "source": [
    "### #136. 다음 코드를 for문으로 작성하라."
   ]
  },
  {
   "cell_type": "code",
   "execution_count": 10,
   "id": "eeb052fd",
   "metadata": {},
   "outputs": [
    {
     "name": "stdout",
     "output_type": "stream",
     "text": [
      "10\n",
      "20\n",
      "30\n"
     ]
    }
   ],
   "source": [
    "변수 = 10\n",
    "print(변수)\n",
    "변수 = 20\n",
    "print(변수)\n",
    "변수 = 30\n",
    "print(변수)"
   ]
  },
  {
   "cell_type": "code",
   "execution_count": 11,
   "id": "7f366e58",
   "metadata": {},
   "outputs": [
    {
     "name": "stdout",
     "output_type": "stream",
     "text": [
      "10\n",
      "20\n",
      "30\n"
     ]
    }
   ],
   "source": [
    "# for문으로 작성하기\n",
    "for 변수 in [\"10\", \"20\", \"30\"]:\n",
    "    print(변수)"
   ]
  },
  {
   "cell_type": "markdown",
   "id": "4aeeb7a6",
   "metadata": {},
   "source": [
    "### #137. 다음 코드를 for문으로 작성하라."
   ]
  },
  {
   "cell_type": "code",
   "execution_count": 12,
   "id": "17288569",
   "metadata": {},
   "outputs": [
    {
     "name": "stdout",
     "output_type": "stream",
     "text": [
      "10\n",
      "20\n",
      "30\n"
     ]
    }
   ],
   "source": [
    "print(10)\n",
    "print(20)\n",
    "print(30)"
   ]
  },
  {
   "cell_type": "code",
   "execution_count": 13,
   "id": "05cd0f16",
   "metadata": {},
   "outputs": [
    {
     "name": "stdout",
     "output_type": "stream",
     "text": [
      "10\n",
      "20\n",
      "30\n"
     ]
    }
   ],
   "source": [
    "# for문으로 작성하기\n",
    "for 변수 in [10, 20, 30]:\n",
    "    print(변수)"
   ]
  },
  {
   "cell_type": "markdown",
   "id": "ab9bcca2",
   "metadata": {},
   "source": [
    "### #138. 다음 코드를 for문으로 작성하라."
   ]
  },
  {
   "cell_type": "code",
   "execution_count": 14,
   "id": "a6ce89b0",
   "metadata": {},
   "outputs": [
    {
     "name": "stdout",
     "output_type": "stream",
     "text": [
      "10\n",
      "-------\n",
      "20\n",
      "-------\n",
      "30\n",
      "-------\n"
     ]
    }
   ],
   "source": [
    "print(10)\n",
    "print(\"-------\")\n",
    "print(20)\n",
    "print(\"-------\")\n",
    "print(30)\n",
    "print(\"-------\")"
   ]
  },
  {
   "cell_type": "code",
   "execution_count": 15,
   "id": "79ca2eb7",
   "metadata": {},
   "outputs": [
    {
     "name": "stdout",
     "output_type": "stream",
     "text": [
      "10\n",
      "-------\n",
      "20\n",
      "-------\n",
      "30\n",
      "-------\n"
     ]
    }
   ],
   "source": [
    "# for문으로 작성하기\n",
    "for 변수 in [10, 20, 30]:\n",
    "    print(변수)\n",
    "    print(\"-------\")"
   ]
  },
  {
   "cell_type": "markdown",
   "id": "d00a331e",
   "metadata": {},
   "source": [
    "### #139. 다음 코드를 for문으로 작성하라."
   ]
  },
  {
   "cell_type": "code",
   "execution_count": 16,
   "id": "00f4222b",
   "metadata": {},
   "outputs": [
    {
     "name": "stdout",
     "output_type": "stream",
     "text": [
      "++++\n",
      "10\n",
      "20\n",
      "30\n"
     ]
    }
   ],
   "source": [
    "print(\"++++\")\n",
    "print(10)\n",
    "print(20)\n",
    "print(30)"
   ]
  },
  {
   "cell_type": "code",
   "execution_count": 17,
   "id": "391d83a9",
   "metadata": {},
   "outputs": [
    {
     "name": "stdout",
     "output_type": "stream",
     "text": [
      "++++\n",
      "10\n",
      "20\n",
      "30\n"
     ]
    }
   ],
   "source": [
    "# for문으로 작성하기\n",
    "print(\"++++\")\n",
    "for 변수 in [10, 20, 30]:\n",
    "    print(변수)"
   ]
  },
  {
   "cell_type": "markdown",
   "id": "a8ce2f9f",
   "metadata": {},
   "source": [
    "### #140. 다음 코드를 for문으로 작성하라."
   ]
  },
  {
   "cell_type": "code",
   "execution_count": 18,
   "id": "5134fe76",
   "metadata": {},
   "outputs": [
    {
     "name": "stdout",
     "output_type": "stream",
     "text": [
      "-------\n",
      "-------\n",
      "-------\n",
      "-------\n"
     ]
    }
   ],
   "source": [
    "print(\"-------\")\n",
    "print(\"-------\")\n",
    "print(\"-------\")\n",
    "print(\"-------\")"
   ]
  },
  {
   "cell_type": "code",
   "execution_count": 19,
   "id": "35d93212",
   "metadata": {},
   "outputs": [
    {
     "name": "stdout",
     "output_type": "stream",
     "text": [
      "-------\n",
      "-------\n",
      "-------\n",
      "-------\n"
     ]
    }
   ],
   "source": [
    "# for문으로 작성하기\n",
    "for i in range(4):\n",
    "    print(\"-------\")"
   ]
  },
  {
   "cell_type": "markdown",
   "id": "15d3f88a",
   "metadata": {},
   "source": [
    "### #141. 다음과 같이 판매가가 저장된 리스트가 있을 때 부가세가 포함된 가격을 for 문을 사용해서 화면에 출력하라. 단 부가세는 10원으로 가정한다.\n",
    "\n",
    "> 리스트 = [100, 200, 300]"
   ]
  },
  {
   "cell_type": "code",
   "execution_count": 20,
   "id": "7f9265c0",
   "metadata": {},
   "outputs": [
    {
     "name": "stdout",
     "output_type": "stream",
     "text": [
      "110\n",
      "210\n",
      "310\n"
     ]
    }
   ],
   "source": [
    "리스트 = [100, 200, 300]\n",
    "for i in 리스트:\n",
    "    print(i + 10)"
   ]
  },
  {
   "cell_type": "markdown",
   "id": "4bea5874",
   "metadata": {},
   "source": [
    "### #142. for 문을 사용해서 리스트에 저장된 값을 for문을 사용해서 출력하라.\n",
    "\n",
    "> 리스트 = [\"김밥\", \"라면\", \"튀김\"]"
   ]
  },
  {
   "cell_type": "code",
   "execution_count": 22,
   "id": "0a80aba5",
   "metadata": {},
   "outputs": [
    {
     "name": "stdout",
     "output_type": "stream",
     "text": [
      "오늘의 메뉴: 김밥\n",
      "오늘의 메뉴: 라면\n",
      "오늘의 메뉴: 튀김\n"
     ]
    }
   ],
   "source": [
    "리스트 = [\"김밥\", \"라면\", \"튀김\"]\n",
    "for i in 리스트:\n",
    "    print(\"오늘의 메뉴:\", i)"
   ]
  },
  {
   "cell_type": "markdown",
   "id": "37c81803",
   "metadata": {},
   "source": [
    "### #143. 리스트에 주식 종목이름이 저장돼 있다.\n",
    "\n",
    "> 리스트 = [\"SK하이닉스\", \"삼성전자\", \"LG전자\"]\n",
    "### 저장된 문자열의 길이를 for문을 사용해서 출력하라."
   ]
  },
  {
   "cell_type": "code",
   "execution_count": 23,
   "id": "16e10a23",
   "metadata": {},
   "outputs": [
    {
     "name": "stdout",
     "output_type": "stream",
     "text": [
      "6\n",
      "4\n",
      "4\n"
     ]
    }
   ],
   "source": [
    "리스트 = [\"SK하이닉스\", \"삼성전자\", \"LG전자\"]\n",
    "for i in 리스트:\n",
    "    print(len(i))"
   ]
  },
  {
   "cell_type": "markdown",
   "id": "372ad60f",
   "metadata": {},
   "source": [
    "### #144. 리스트에는 동물이름이 문자열로 저장돼 있다.\n",
    "\n",
    "> 리스트 = ['dog', 'cat', 'parrot']\n",
    "### 동물 이름과 글자수를 다음과 같이 출력하라.\n",
    "\n",
    "> dog 3  \n",
    "cat 3  \n",
    "parrot 6"
   ]
  },
  {
   "cell_type": "code",
   "execution_count": 24,
   "id": "78f724d8",
   "metadata": {},
   "outputs": [
    {
     "name": "stdout",
     "output_type": "stream",
     "text": [
      "dog 3\n",
      "cat 3\n",
      "parrot 6\n"
     ]
    }
   ],
   "source": [
    "리스트 = ['dog', 'cat', 'parrot']\n",
    "for i in 리스트:\n",
    "    print(i, len(i))"
   ]
  },
  {
   "cell_type": "markdown",
   "id": "141f445d",
   "metadata": {},
   "source": [
    "### #145. 리스트에 동물 이름 저장돼 있다.\n",
    "\n",
    "> 리스트 = ['dog', 'cat', 'parrot']\n",
    "### for문을 사용해서 동물 이름의 첫 글자만 출력하라."
   ]
  },
  {
   "cell_type": "code",
   "execution_count": 25,
   "id": "3f51b58a",
   "metadata": {},
   "outputs": [
    {
     "name": "stdout",
     "output_type": "stream",
     "text": [
      "d\n",
      "c\n",
      "p\n"
     ]
    }
   ],
   "source": [
    "리스트 = ['dog', 'cat', 'parrot']\n",
    "for i in 리스트:\n",
    "    print(i[0])"
   ]
  },
  {
   "cell_type": "markdown",
   "id": "9d76b645",
   "metadata": {},
   "source": [
    "### #146. 리스트에는 세 개의 숫자가 바인딩돼 있다.\n",
    "\n",
    "> 리스트 = [1, 2, 3]\n",
    "### for문을 사용해서 다음과 같이 출력하라.\n",
    "\n",
    ">3 x 1  \n",
    "3 x 2  \n",
    "3 x 3"
   ]
  },
  {
   "cell_type": "code",
   "execution_count": 29,
   "id": "fb94a223",
   "metadata": {},
   "outputs": [
    {
     "name": "stdout",
     "output_type": "stream",
     "text": [
      "3 x 1\n",
      "3 x 2\n",
      "3 x 3\n"
     ]
    }
   ],
   "source": [
    "리스트 = [1, 2, 3]\n",
    "for i in 리스트:\n",
    "    print(\"3 x\", str(i))"
   ]
  },
  {
   "cell_type": "markdown",
   "id": "6df37428",
   "metadata": {},
   "source": [
    "### #147. 리스트에는 세 개의 숫자가 바인딩돼 있다.\n",
    "\n",
    "> 리스트 = [1, 2, 3]\n",
    "### for문을 사용해서 다음과 같이 출력하라.\n",
    "\n",
    ">3 x 1 = 3  \n",
    "3 x 2 = 6  \n",
    "3 x 3 = 9"
   ]
  },
  {
   "cell_type": "code",
   "execution_count": 30,
   "id": "c59ecfd7",
   "metadata": {},
   "outputs": [
    {
     "name": "stdout",
     "output_type": "stream",
     "text": [
      "3 x 1 = 3\n",
      "3 x 2 = 6\n",
      "3 x 3 = 9\n"
     ]
    }
   ],
   "source": [
    "리스트 = [1, 2, 3]\n",
    "for i in 리스트:\n",
    "    print(\"3 x\", str(i), \"=\", 3 * i)"
   ]
  },
  {
   "cell_type": "markdown",
   "id": "9f64be1d",
   "metadata": {},
   "source": [
    "### #148. 리스트에는 네 개의 문자열이 바인딩돼 있다.\n",
    "\n",
    "> 리스트 = [\"가\", \"나\", \"다\", \"라\"]\n",
    "### for문을 사용해서 다음과 같이 출력하라.\n",
    "\n",
    ">나  \n",
    "다  \n",
    "라"
   ]
  },
  {
   "cell_type": "code",
   "execution_count": 31,
   "id": "003f7185",
   "metadata": {},
   "outputs": [
    {
     "name": "stdout",
     "output_type": "stream",
     "text": [
      "나\n",
      "다\n",
      "라\n"
     ]
    }
   ],
   "source": [
    "리스트 = [\"가\", \"나\", \"다\", \"라\"]\n",
    "for i in 리스트[1:]:\n",
    "    print(i)"
   ]
  },
  {
   "cell_type": "markdown",
   "id": "07cbc5b9",
   "metadata": {},
   "source": [
    "### #149. 리스트에는 네 개의 문자열이 바인딩돼 있다.\n",
    "\n",
    ">리스트 = [\"가\", \"나\", \"다\", \"라\"]\n",
    "### for문을 사용해서 다음과 같이 출력하라.\n",
    "\n",
    ">가  \n",
    "다"
   ]
  },
  {
   "cell_type": "code",
   "execution_count": 32,
   "id": "a8ac117c",
   "metadata": {},
   "outputs": [
    {
     "name": "stdout",
     "output_type": "stream",
     "text": [
      "가\n",
      "다\n"
     ]
    }
   ],
   "source": [
    "리스트 = [\"가\", \"나\", \"다\", \"라\"]\n",
    "for i in 리스트[::2]:\n",
    "    print(i)"
   ]
  },
  {
   "cell_type": "markdown",
   "id": "0eb55844",
   "metadata": {},
   "source": [
    "### #150. 리스트에는 네 개의 문자열이 바인딩돼 있다.\n",
    "\n",
    "> 리스트 = [\"가\", \"나\", \"다\", \"라\"]\n",
    "### for문을 사용해서 다음과 같이 출력하라.\n",
    "\n",
    ">라  \n",
    "다  \n",
    "나  \n",
    "가  "
   ]
  },
  {
   "cell_type": "code",
   "execution_count": 33,
   "id": "ff5667ee",
   "metadata": {},
   "outputs": [
    {
     "name": "stdout",
     "output_type": "stream",
     "text": [
      "라\n",
      "다\n",
      "나\n",
      "가\n"
     ]
    }
   ],
   "source": [
    "리스트 = [\"가\", \"나\", \"다\", \"라\"]\n",
    "for i in 리스트[::-1]:\n",
    "    print(i)"
   ]
  }
 ],
 "metadata": {
  "kernelspec": {
   "display_name": "Python 3 (ipykernel)",
   "language": "python",
   "name": "python3"
  },
  "language_info": {
   "codemirror_mode": {
    "name": "ipython",
    "version": 3
   },
   "file_extension": ".py",
   "mimetype": "text/x-python",
   "name": "python",
   "nbconvert_exporter": "python",
   "pygments_lexer": "ipython3",
   "version": "3.10.9"
  }
 },
 "nbformat": 4,
 "nbformat_minor": 5
}
